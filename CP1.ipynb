{
  "nbformat": 4,
  "nbformat_minor": 0,
  "metadata": {
    "colab": {
      "name": "CP1.ipynb",
      "provenance": [],
      "authorship_tag": "ABX9TyOTypx2QjejFrVfi7ebs7zP",
      "include_colab_link": true
    },
    "kernelspec": {
      "name": "python3",
      "display_name": "Python 3"
    },
    "language_info": {
      "name": "python"
    }
  },
  "cells": [
    {
      "cell_type": "markdown",
      "metadata": {
        "id": "view-in-github",
        "colab_type": "text"
      },
      "source": [
        "<a href=\"https://colab.research.google.com/github/hwon-n/section6_project1/blob/main/CP1.ipynb\" target=\"_parent\"><img src=\"https://colab.research.google.com/assets/colab-badge.svg\" alt=\"Open In Colab\"/></a>"
      ]
    },
    {
      "cell_type": "code",
      "source": [
        "from google.colab import drive\n",
        "drive.mount('/content/drive')"
      ],
      "metadata": {
        "colab": {
          "base_uri": "https://localhost:8080/"
        },
        "id": "efzqSLF6cixu",
        "outputId": "c00495b5-9e0c-4bfe-ae40-6d2845db9ae0"
      },
      "execution_count": 1,
      "outputs": [
        {
          "output_type": "stream",
          "name": "stdout",
          "text": [
            "Mounted at /content/drive\n"
          ]
        }
      ]
    },
    {
      "cell_type": "code",
      "source": [
        "!pip install category_encoders"
      ],
      "metadata": {
        "id": "d6OcO3NFNjlN",
        "outputId": "128b987a-f2d2-4fdd-e0d5-254a97032d74",
        "colab": {
          "base_uri": "https://localhost:8080/"
        }
      },
      "execution_count": 2,
      "outputs": [
        {
          "output_type": "stream",
          "name": "stdout",
          "text": [
            "Collecting category_encoders\n",
            "  Downloading category_encoders-2.3.0-py2.py3-none-any.whl (82 kB)\n",
            "\u001b[?25l\r\u001b[K     |████                            | 10 kB 24.2 MB/s eta 0:00:01\r\u001b[K     |████████                        | 20 kB 11.0 MB/s eta 0:00:01\r\u001b[K     |████████████                    | 30 kB 8.6 MB/s eta 0:00:01\r\u001b[K     |████████████████                | 40 kB 3.8 MB/s eta 0:00:01\r\u001b[K     |████████████████████            | 51 kB 3.7 MB/s eta 0:00:01\r\u001b[K     |████████████████████████        | 61 kB 4.4 MB/s eta 0:00:01\r\u001b[K     |████████████████████████████    | 71 kB 4.7 MB/s eta 0:00:01\r\u001b[K     |███████████████████████████████▉| 81 kB 5.1 MB/s eta 0:00:01\r\u001b[K     |████████████████████████████████| 82 kB 374 kB/s \n",
            "\u001b[?25hRequirement already satisfied: scikit-learn>=0.20.0 in /usr/local/lib/python3.7/dist-packages (from category_encoders) (1.0.2)\n",
            "Requirement already satisfied: pandas>=0.21.1 in /usr/local/lib/python3.7/dist-packages (from category_encoders) (1.3.5)\n",
            "Requirement already satisfied: statsmodels>=0.9.0 in /usr/local/lib/python3.7/dist-packages (from category_encoders) (0.10.2)\n",
            "Requirement already satisfied: scipy>=1.0.0 in /usr/local/lib/python3.7/dist-packages (from category_encoders) (1.4.1)\n",
            "Requirement already satisfied: patsy>=0.5.1 in /usr/local/lib/python3.7/dist-packages (from category_encoders) (0.5.2)\n",
            "Requirement already satisfied: numpy>=1.14.0 in /usr/local/lib/python3.7/dist-packages (from category_encoders) (1.21.5)\n",
            "Requirement already satisfied: python-dateutil>=2.7.3 in /usr/local/lib/python3.7/dist-packages (from pandas>=0.21.1->category_encoders) (2.8.2)\n",
            "Requirement already satisfied: pytz>=2017.3 in /usr/local/lib/python3.7/dist-packages (from pandas>=0.21.1->category_encoders) (2018.9)\n",
            "Requirement already satisfied: six in /usr/local/lib/python3.7/dist-packages (from patsy>=0.5.1->category_encoders) (1.15.0)\n",
            "Requirement already satisfied: joblib>=0.11 in /usr/local/lib/python3.7/dist-packages (from scikit-learn>=0.20.0->category_encoders) (1.1.0)\n",
            "Requirement already satisfied: threadpoolctl>=2.0.0 in /usr/local/lib/python3.7/dist-packages (from scikit-learn>=0.20.0->category_encoders) (3.1.0)\n",
            "Installing collected packages: category-encoders\n",
            "Successfully installed category-encoders-2.3.0\n"
          ]
        }
      ]
    },
    {
      "cell_type": "code",
      "source": [
        "!pip install -U pandas-profiling"
      ],
      "metadata": {
        "colab": {
          "base_uri": "https://localhost:8080/"
        },
        "id": "D-X4QPnSicHe",
        "outputId": "ed618e05-58ff-4d96-bf0e-204fad9cdeef"
      },
      "execution_count": 3,
      "outputs": [
        {
          "output_type": "stream",
          "name": "stdout",
          "text": [
            "Requirement already satisfied: pandas-profiling in /usr/local/lib/python3.7/dist-packages (1.4.1)\n",
            "Collecting pandas-profiling\n",
            "  Downloading pandas_profiling-3.1.0-py2.py3-none-any.whl (261 kB)\n",
            "\u001b[K     |████████████████████████████████| 261 kB 4.2 MB/s \n",
            "\u001b[?25hCollecting requests>=2.24.0\n",
            "  Downloading requests-2.27.1-py2.py3-none-any.whl (63 kB)\n",
            "\u001b[K     |████████████████████████████████| 63 kB 1.8 MB/s \n",
            "\u001b[?25hRequirement already satisfied: matplotlib>=3.2.0 in /usr/local/lib/python3.7/dist-packages (from pandas-profiling) (3.2.2)\n",
            "Requirement already satisfied: numpy>=1.16.0 in /usr/local/lib/python3.7/dist-packages (from pandas-profiling) (1.21.5)\n",
            "Collecting tangled-up-in-unicode==0.1.0\n",
            "  Downloading tangled_up_in_unicode-0.1.0-py3-none-any.whl (3.1 MB)\n",
            "\u001b[K     |████████████████████████████████| 3.1 MB 69.3 MB/s \n",
            "\u001b[?25hRequirement already satisfied: markupsafe~=2.0.1 in /usr/local/lib/python3.7/dist-packages (from pandas-profiling) (2.0.1)\n",
            "Requirement already satisfied: jinja2>=2.11.1 in /usr/local/lib/python3.7/dist-packages (from pandas-profiling) (2.11.3)\n",
            "Requirement already satisfied: missingno>=0.4.2 in /usr/local/lib/python3.7/dist-packages (from pandas-profiling) (0.5.0)\n",
            "Collecting multimethod>=1.4\n",
            "  Downloading multimethod-1.7-py3-none-any.whl (9.5 kB)\n",
            "Requirement already satisfied: scipy>=1.4.1 in /usr/local/lib/python3.7/dist-packages (from pandas-profiling) (1.4.1)\n",
            "Collecting PyYAML>=5.0.0\n",
            "  Downloading PyYAML-6.0-cp37-cp37m-manylinux_2_5_x86_64.manylinux1_x86_64.manylinux_2_12_x86_64.manylinux2010_x86_64.whl (596 kB)\n",
            "\u001b[K     |████████████████████████████████| 596 kB 57.8 MB/s \n",
            "\u001b[?25hCollecting visions[type_image_path]==0.7.4\n",
            "  Downloading visions-0.7.4-py3-none-any.whl (102 kB)\n",
            "\u001b[K     |████████████████████████████████| 102 kB 10.7 MB/s \n",
            "\u001b[?25hCollecting htmlmin>=0.1.12\n",
            "  Downloading htmlmin-0.1.12.tar.gz (19 kB)\n",
            "Requirement already satisfied: tqdm>=4.48.2 in /usr/local/lib/python3.7/dist-packages (from pandas-profiling) (4.62.3)\n",
            "Collecting joblib~=1.0.1\n",
            "  Downloading joblib-1.0.1-py3-none-any.whl (303 kB)\n",
            "\u001b[K     |████████████████████████████████| 303 kB 57.4 MB/s \n",
            "\u001b[?25hRequirement already satisfied: seaborn>=0.10.1 in /usr/local/lib/python3.7/dist-packages (from pandas-profiling) (0.11.2)\n",
            "Requirement already satisfied: pandas!=1.0.0,!=1.0.1,!=1.0.2,!=1.1.0,>=0.25.3 in /usr/local/lib/python3.7/dist-packages (from pandas-profiling) (1.3.5)\n",
            "Collecting phik>=0.11.1\n",
            "  Downloading phik-0.12.0-cp37-cp37m-manylinux2010_x86_64.whl (675 kB)\n",
            "\u001b[K     |████████████████████████████████| 675 kB 58.3 MB/s \n",
            "\u001b[?25hCollecting pydantic>=1.8.1\n",
            "  Downloading pydantic-1.9.0-cp37-cp37m-manylinux_2_17_x86_64.manylinux2014_x86_64.whl (10.9 MB)\n",
            "\u001b[K     |████████████████████████████████| 10.9 MB 46.6 MB/s \n",
            "\u001b[?25hRequirement already satisfied: attrs>=19.3.0 in /usr/local/lib/python3.7/dist-packages (from visions[type_image_path]==0.7.4->pandas-profiling) (21.4.0)\n",
            "Requirement already satisfied: networkx>=2.4 in /usr/local/lib/python3.7/dist-packages (from visions[type_image_path]==0.7.4->pandas-profiling) (2.6.3)\n",
            "Requirement already satisfied: Pillow in /usr/local/lib/python3.7/dist-packages (from visions[type_image_path]==0.7.4->pandas-profiling) (7.1.2)\n",
            "Collecting imagehash\n",
            "  Downloading ImageHash-4.2.1.tar.gz (812 kB)\n",
            "\u001b[K     |████████████████████████████████| 812 kB 58.9 MB/s \n",
            "\u001b[?25hRequirement already satisfied: pyparsing!=2.0.4,!=2.1.2,!=2.1.6,>=2.0.1 in /usr/local/lib/python3.7/dist-packages (from matplotlib>=3.2.0->pandas-profiling) (3.0.7)\n",
            "Requirement already satisfied: cycler>=0.10 in /usr/local/lib/python3.7/dist-packages (from matplotlib>=3.2.0->pandas-profiling) (0.11.0)\n",
            "Requirement already satisfied: python-dateutil>=2.1 in /usr/local/lib/python3.7/dist-packages (from matplotlib>=3.2.0->pandas-profiling) (2.8.2)\n",
            "Requirement already satisfied: kiwisolver>=1.0.1 in /usr/local/lib/python3.7/dist-packages (from matplotlib>=3.2.0->pandas-profiling) (1.3.2)\n",
            "Requirement already satisfied: pytz>=2017.3 in /usr/local/lib/python3.7/dist-packages (from pandas!=1.0.0,!=1.0.1,!=1.0.2,!=1.1.0,>=0.25.3->pandas-profiling) (2018.9)\n",
            "Collecting scipy>=1.4.1\n",
            "  Downloading scipy-1.7.3-cp37-cp37m-manylinux_2_12_x86_64.manylinux2010_x86_64.whl (38.1 MB)\n",
            "\u001b[K     |████████████████████████████████| 38.1 MB 1.2 MB/s \n",
            "\u001b[?25hRequirement already satisfied: typing-extensions>=3.7.4.3 in /usr/local/lib/python3.7/dist-packages (from pydantic>=1.8.1->pandas-profiling) (3.10.0.2)\n",
            "Requirement already satisfied: six>=1.5 in /usr/local/lib/python3.7/dist-packages (from python-dateutil>=2.1->matplotlib>=3.2.0->pandas-profiling) (1.15.0)\n",
            "Requirement already satisfied: charset-normalizer~=2.0.0 in /usr/local/lib/python3.7/dist-packages (from requests>=2.24.0->pandas-profiling) (2.0.11)\n",
            "Requirement already satisfied: urllib3<1.27,>=1.21.1 in /usr/local/lib/python3.7/dist-packages (from requests>=2.24.0->pandas-profiling) (1.24.3)\n",
            "Requirement already satisfied: certifi>=2017.4.17 in /usr/local/lib/python3.7/dist-packages (from requests>=2.24.0->pandas-profiling) (2021.10.8)\n",
            "Requirement already satisfied: idna<4,>=2.5 in /usr/local/lib/python3.7/dist-packages (from requests>=2.24.0->pandas-profiling) (2.10)\n",
            "Requirement already satisfied: PyWavelets in /usr/local/lib/python3.7/dist-packages (from imagehash->visions[type_image_path]==0.7.4->pandas-profiling) (1.2.0)\n",
            "Building wheels for collected packages: htmlmin, imagehash\n",
            "  Building wheel for htmlmin (setup.py) ... \u001b[?25l\u001b[?25hdone\n",
            "  Created wheel for htmlmin: filename=htmlmin-0.1.12-py3-none-any.whl size=27098 sha256=8ccf875c19ce5f081703919231739ee6f25a6cf1a21ee31ff5cf68ef20a3da04\n",
            "  Stored in directory: /root/.cache/pip/wheels/70/e1/52/5b14d250ba868768823940c3229e9950d201a26d0bd3ee8655\n",
            "  Building wheel for imagehash (setup.py) ... \u001b[?25l\u001b[?25hdone\n",
            "  Created wheel for imagehash: filename=ImageHash-4.2.1-py2.py3-none-any.whl size=295206 sha256=706e890ea5a07af68879362c6e9e05b507667ce174e8d34b982d6d3e8160847d\n",
            "  Stored in directory: /root/.cache/pip/wheels/4c/d5/59/5e3e297533ddb09407769762985d134135064c6831e29a914e\n",
            "Successfully built htmlmin imagehash\n",
            "Installing collected packages: tangled-up-in-unicode, scipy, multimethod, visions, joblib, imagehash, requests, PyYAML, pydantic, phik, htmlmin, pandas-profiling\n",
            "  Attempting uninstall: scipy\n",
            "    Found existing installation: scipy 1.4.1\n",
            "    Uninstalling scipy-1.4.1:\n",
            "      Successfully uninstalled scipy-1.4.1\n",
            "  Attempting uninstall: joblib\n",
            "    Found existing installation: joblib 1.1.0\n",
            "    Uninstalling joblib-1.1.0:\n",
            "      Successfully uninstalled joblib-1.1.0\n",
            "  Attempting uninstall: requests\n",
            "    Found existing installation: requests 2.23.0\n",
            "    Uninstalling requests-2.23.0:\n",
            "      Successfully uninstalled requests-2.23.0\n",
            "  Attempting uninstall: PyYAML\n",
            "    Found existing installation: PyYAML 3.13\n",
            "    Uninstalling PyYAML-3.13:\n",
            "      Successfully uninstalled PyYAML-3.13\n",
            "  Attempting uninstall: pandas-profiling\n",
            "    Found existing installation: pandas-profiling 1.4.1\n",
            "    Uninstalling pandas-profiling-1.4.1:\n",
            "      Successfully uninstalled pandas-profiling-1.4.1\n",
            "\u001b[31mERROR: pip's dependency resolver does not currently take into account all the packages that are installed. This behaviour is the source of the following dependency conflicts.\n",
            "google-colab 1.0.0 requires requests~=2.23.0, but you have requests 2.27.1 which is incompatible.\n",
            "datascience 0.10.6 requires folium==0.2.1, but you have folium 0.8.3 which is incompatible.\n",
            "albumentations 0.1.12 requires imgaug<0.2.7,>=0.2.5, but you have imgaug 0.2.9 which is incompatible.\u001b[0m\n",
            "Successfully installed PyYAML-6.0 htmlmin-0.1.12 imagehash-4.2.1 joblib-1.0.1 multimethod-1.7 pandas-profiling-3.1.0 phik-0.12.0 pydantic-1.9.0 requests-2.27.1 scipy-1.7.3 tangled-up-in-unicode-0.1.0 visions-0.7.4\n"
          ]
        }
      ]
    },
    {
      "cell_type": "code",
      "source": [
        "import pandas as pd\n",
        "import pandas_profiling\n",
        "import seaborn as sns\n",
        "import matplotlib.pyplot as plt\n",
        "from sklearn.model_selection import train_test_split"
      ],
      "metadata": {
        "id": "MDvuWtqlcvBe"
      },
      "execution_count": 4,
      "outputs": []
    },
    {
      "cell_type": "code",
      "source": [
        "# 데이터 불러오기\n",
        "\n",
        "train = pd.read_csv('/content/drive/MyDrive/Training Data.csv')\n",
        "test = pd.read_csv('/content/drive/MyDrive/Test Data.csv')\n",
        "\n",
        "train.shape, test.shape"
      ],
      "metadata": {
        "colab": {
          "base_uri": "https://localhost:8080/"
        },
        "id": "t-DJGq_GhEfy",
        "outputId": "18763dda-c74a-4322-de40-0deae4c33170"
      },
      "execution_count": 5,
      "outputs": [
        {
          "output_type": "execute_result",
          "data": {
            "text/plain": [
              "((252000, 13), (28000, 12))"
            ]
          },
          "metadata": {},
          "execution_count": 5
        }
      ]
    },
    {
      "cell_type": "code",
      "source": [
        "train.rename(columns = {'Married/Single': 'Married_Or_Single'}, inplace = True)\n",
        "test.rename(columns = {'ID': 'Id', 'Married/Single': 'Married_Or_Single'}, inplace = True)"
      ],
      "metadata": {
        "id": "bc66lVnpJPdg"
      },
      "execution_count": 6,
      "outputs": []
    },
    {
      "cell_type": "code",
      "source": [
        "target = 'Risk_Flag'\n",
        "train, val = train_test_split(train, train_size = 0.8, random_state = 42, stratify = train[target])\n",
        "train.shape, val.shape"
      ],
      "metadata": {
        "colab": {
          "base_uri": "https://localhost:8080/"
        },
        "id": "BIFxe0qxhflY",
        "outputId": "aa90a72c-963e-43bb-d8c3-e5b27e98d263"
      },
      "execution_count": 7,
      "outputs": [
        {
          "output_type": "execute_result",
          "data": {
            "text/plain": [
              "((201600, 13), (50400, 13))"
            ]
          },
          "metadata": {},
          "execution_count": 7
        }
      ]
    },
    {
      "cell_type": "markdown",
      "source": [
        "## 데이터 확인\n"
      ],
      "metadata": {
        "id": "HAU0Sj4E0pIX"
      }
    },
    {
      "cell_type": "code",
      "source": [
        "# train.profile_report()"
      ],
      "metadata": {
        "id": "MXQ3YiEximcn"
      },
      "execution_count": 8,
      "outputs": []
    },
    {
      "cell_type": "code",
      "source": [
        "train.head().T"
      ],
      "metadata": {
        "id": "IjRsf_8TDJXV",
        "outputId": "235128ff-268c-45e1-b66d-69cc06b36b52",
        "colab": {
          "base_uri": "https://localhost:8080/",
          "height": 521
        }
      },
      "execution_count": 9,
      "outputs": [
        {
          "output_type": "execute_result",
          "data": {
            "text/html": [
              "\n",
              "  <div id=\"df-c40e3572-73a5-4f45-be3d-9ee9e8635d7c\">\n",
              "    <div class=\"colab-df-container\">\n",
              "      <div>\n",
              "<style scoped>\n",
              "    .dataframe tbody tr th:only-of-type {\n",
              "        vertical-align: middle;\n",
              "    }\n",
              "\n",
              "    .dataframe tbody tr th {\n",
              "        vertical-align: top;\n",
              "    }\n",
              "\n",
              "    .dataframe thead th {\n",
              "        text-align: right;\n",
              "    }\n",
              "</style>\n",
              "<table border=\"1\" class=\"dataframe\">\n",
              "  <thead>\n",
              "    <tr style=\"text-align: right;\">\n",
              "      <th></th>\n",
              "      <th>13714</th>\n",
              "      <th>51718</th>\n",
              "      <th>99982</th>\n",
              "      <th>107150</th>\n",
              "      <th>94564</th>\n",
              "    </tr>\n",
              "  </thead>\n",
              "  <tbody>\n",
              "    <tr>\n",
              "      <th>Id</th>\n",
              "      <td>13715</td>\n",
              "      <td>51719</td>\n",
              "      <td>99983</td>\n",
              "      <td>107151</td>\n",
              "      <td>94565</td>\n",
              "    </tr>\n",
              "    <tr>\n",
              "      <th>Income</th>\n",
              "      <td>8132252</td>\n",
              "      <td>7915651</td>\n",
              "      <td>6272029</td>\n",
              "      <td>1832125</td>\n",
              "      <td>7954133</td>\n",
              "    </tr>\n",
              "    <tr>\n",
              "      <th>Age</th>\n",
              "      <td>72</td>\n",
              "      <td>64</td>\n",
              "      <td>49</td>\n",
              "      <td>54</td>\n",
              "      <td>31</td>\n",
              "    </tr>\n",
              "    <tr>\n",
              "      <th>Experience</th>\n",
              "      <td>7</td>\n",
              "      <td>8</td>\n",
              "      <td>12</td>\n",
              "      <td>13</td>\n",
              "      <td>7</td>\n",
              "    </tr>\n",
              "    <tr>\n",
              "      <th>Married_Or_Single</th>\n",
              "      <td>single</td>\n",
              "      <td>single</td>\n",
              "      <td>single</td>\n",
              "      <td>single</td>\n",
              "      <td>single</td>\n",
              "    </tr>\n",
              "    <tr>\n",
              "      <th>House_Ownership</th>\n",
              "      <td>rented</td>\n",
              "      <td>rented</td>\n",
              "      <td>rented</td>\n",
              "      <td>rented</td>\n",
              "      <td>rented</td>\n",
              "    </tr>\n",
              "    <tr>\n",
              "      <th>Car_Ownership</th>\n",
              "      <td>no</td>\n",
              "      <td>no</td>\n",
              "      <td>no</td>\n",
              "      <td>yes</td>\n",
              "      <td>yes</td>\n",
              "    </tr>\n",
              "    <tr>\n",
              "      <th>Profession</th>\n",
              "      <td>Mechanical_engineer</td>\n",
              "      <td>Psychologist</td>\n",
              "      <td>Drafter</td>\n",
              "      <td>Scientist</td>\n",
              "      <td>Drafter</td>\n",
              "    </tr>\n",
              "    <tr>\n",
              "      <th>CITY</th>\n",
              "      <td>Karaikudi</td>\n",
              "      <td>Jamnagar</td>\n",
              "      <td>Sagar</td>\n",
              "      <td>Vijayanagaram</td>\n",
              "      <td>Avadi</td>\n",
              "    </tr>\n",
              "    <tr>\n",
              "      <th>STATE</th>\n",
              "      <td>Tamil_Nadu</td>\n",
              "      <td>Gujarat</td>\n",
              "      <td>Madhya_Pradesh</td>\n",
              "      <td>Andhra_Pradesh</td>\n",
              "      <td>Tamil_Nadu</td>\n",
              "    </tr>\n",
              "    <tr>\n",
              "      <th>CURRENT_JOB_YRS</th>\n",
              "      <td>6</td>\n",
              "      <td>3</td>\n",
              "      <td>7</td>\n",
              "      <td>12</td>\n",
              "      <td>4</td>\n",
              "    </tr>\n",
              "    <tr>\n",
              "      <th>CURRENT_HOUSE_YRS</th>\n",
              "      <td>13</td>\n",
              "      <td>12</td>\n",
              "      <td>10</td>\n",
              "      <td>14</td>\n",
              "      <td>12</td>\n",
              "    </tr>\n",
              "    <tr>\n",
              "      <th>Risk_Flag</th>\n",
              "      <td>0</td>\n",
              "      <td>0</td>\n",
              "      <td>0</td>\n",
              "      <td>0</td>\n",
              "      <td>0</td>\n",
              "    </tr>\n",
              "  </tbody>\n",
              "</table>\n",
              "</div>\n",
              "      <button class=\"colab-df-convert\" onclick=\"convertToInteractive('df-c40e3572-73a5-4f45-be3d-9ee9e8635d7c')\"\n",
              "              title=\"Convert this dataframe to an interactive table.\"\n",
              "              style=\"display:none;\">\n",
              "        \n",
              "  <svg xmlns=\"http://www.w3.org/2000/svg\" height=\"24px\"viewBox=\"0 0 24 24\"\n",
              "       width=\"24px\">\n",
              "    <path d=\"M0 0h24v24H0V0z\" fill=\"none\"/>\n",
              "    <path d=\"M18.56 5.44l.94 2.06.94-2.06 2.06-.94-2.06-.94-.94-2.06-.94 2.06-2.06.94zm-11 1L8.5 8.5l.94-2.06 2.06-.94-2.06-.94L8.5 2.5l-.94 2.06-2.06.94zm10 10l.94 2.06.94-2.06 2.06-.94-2.06-.94-.94-2.06-.94 2.06-2.06.94z\"/><path d=\"M17.41 7.96l-1.37-1.37c-.4-.4-.92-.59-1.43-.59-.52 0-1.04.2-1.43.59L10.3 9.45l-7.72 7.72c-.78.78-.78 2.05 0 2.83L4 21.41c.39.39.9.59 1.41.59.51 0 1.02-.2 1.41-.59l7.78-7.78 2.81-2.81c.8-.78.8-2.07 0-2.86zM5.41 20L4 18.59l7.72-7.72 1.47 1.35L5.41 20z\"/>\n",
              "  </svg>\n",
              "      </button>\n",
              "      \n",
              "  <style>\n",
              "    .colab-df-container {\n",
              "      display:flex;\n",
              "      flex-wrap:wrap;\n",
              "      gap: 12px;\n",
              "    }\n",
              "\n",
              "    .colab-df-convert {\n",
              "      background-color: #E8F0FE;\n",
              "      border: none;\n",
              "      border-radius: 50%;\n",
              "      cursor: pointer;\n",
              "      display: none;\n",
              "      fill: #1967D2;\n",
              "      height: 32px;\n",
              "      padding: 0 0 0 0;\n",
              "      width: 32px;\n",
              "    }\n",
              "\n",
              "    .colab-df-convert:hover {\n",
              "      background-color: #E2EBFA;\n",
              "      box-shadow: 0px 1px 2px rgba(60, 64, 67, 0.3), 0px 1px 3px 1px rgba(60, 64, 67, 0.15);\n",
              "      fill: #174EA6;\n",
              "    }\n",
              "\n",
              "    [theme=dark] .colab-df-convert {\n",
              "      background-color: #3B4455;\n",
              "      fill: #D2E3FC;\n",
              "    }\n",
              "\n",
              "    [theme=dark] .colab-df-convert:hover {\n",
              "      background-color: #434B5C;\n",
              "      box-shadow: 0px 1px 3px 1px rgba(0, 0, 0, 0.15);\n",
              "      filter: drop-shadow(0px 1px 2px rgba(0, 0, 0, 0.3));\n",
              "      fill: #FFFFFF;\n",
              "    }\n",
              "  </style>\n",
              "\n",
              "      <script>\n",
              "        const buttonEl =\n",
              "          document.querySelector('#df-c40e3572-73a5-4f45-be3d-9ee9e8635d7c button.colab-df-convert');\n",
              "        buttonEl.style.display =\n",
              "          google.colab.kernel.accessAllowed ? 'block' : 'none';\n",
              "\n",
              "        async function convertToInteractive(key) {\n",
              "          const element = document.querySelector('#df-c40e3572-73a5-4f45-be3d-9ee9e8635d7c');\n",
              "          const dataTable =\n",
              "            await google.colab.kernel.invokeFunction('convertToInteractive',\n",
              "                                                     [key], {});\n",
              "          if (!dataTable) return;\n",
              "\n",
              "          const docLinkHtml = 'Like what you see? Visit the ' +\n",
              "            '<a target=\"_blank\" href=https://colab.research.google.com/notebooks/data_table.ipynb>data table notebook</a>'\n",
              "            + ' to learn more about interactive tables.';\n",
              "          element.innerHTML = '';\n",
              "          dataTable['output_type'] = 'display_data';\n",
              "          await google.colab.output.renderOutput(dataTable, element);\n",
              "          const docLink = document.createElement('div');\n",
              "          docLink.innerHTML = docLinkHtml;\n",
              "          element.appendChild(docLink);\n",
              "        }\n",
              "      </script>\n",
              "    </div>\n",
              "  </div>\n",
              "  "
            ],
            "text/plain": [
              "                                 13714  ...       94564\n",
              "Id                               13715  ...       94565\n",
              "Income                         8132252  ...     7954133\n",
              "Age                                 72  ...          31\n",
              "Experience                           7  ...           7\n",
              "Married_Or_Single               single  ...      single\n",
              "House_Ownership                 rented  ...      rented\n",
              "Car_Ownership                       no  ...         yes\n",
              "Profession         Mechanical_engineer  ...     Drafter\n",
              "CITY                         Karaikudi  ...       Avadi\n",
              "STATE                       Tamil_Nadu  ...  Tamil_Nadu\n",
              "CURRENT_JOB_YRS                      6  ...           4\n",
              "CURRENT_HOUSE_YRS                   13  ...          12\n",
              "Risk_Flag                            0  ...           0\n",
              "\n",
              "[13 rows x 5 columns]"
            ]
          },
          "metadata": {},
          "execution_count": 9
        }
      ]
    },
    {
      "cell_type": "code",
      "source": [
        "%matplotlib inline\n",
        "\n",
        "ax = sns.set_palette('muted')\n",
        "ax = sns.countplot(data = train, x = target)\n",
        "\n",
        "plt.show()\n",
        "\n",
        "# 0 -> 1로 바꿔주기\n",
        "# 0: 대출 가능, 1: 대출 불가능 "
      ],
      "metadata": {
        "colab": {
          "base_uri": "https://localhost:8080/",
          "height": 280
        },
        "id": "s2msobIt3Cij",
        "outputId": "20103308-ca15-4f46-c18f-cd443efab89b"
      },
      "execution_count": 10,
      "outputs": [
        {
          "output_type": "display_data",
          "data": {
            "image/png": "[encoded data removed]",
            "text/plain": [
              "<Figure size 432x288 with 1 Axes>"
            ]
          },
          "metadata": {
            "needs_background": "light"
          }
        }
      ]
    },
    {
      "cell_type": "code",
      "source": [
        "# STATE 탐색\n",
        "\n",
        "plt.figure(figsize=(25,7))\n",
        "ax = sns.countplot(data = train, x = 'STATE')\n",
        "plt.show()"
      ],
      "metadata": {
        "colab": {
          "base_uri": "https://localhost:8080/",
          "height": 205
        },
        "id": "LYZf8E0442GA",
        "outputId": "b3dfd620-491c-43a9-c8e8-5f0ede39be47"
      },
      "execution_count": 11,
      "outputs": [
        {
          "output_type": "display_data",
          "data": {
            "image/png": "[encoded data removed]",
            "text/plain": [
              "<Figure size 1800x504 with 1 Axes>"
            ]
          },
          "metadata": {
            "needs_background": "light"
          }
        }
      ]
    },
    {
      "cell_type": "code",
      "source": [
        "# Experience 탐색\n",
        "\n",
        "plt.figure(figsize=(10,5))\n",
        "ax = sns.countplot(data = train, x = 'Experience')\n",
        "plt.show()"
      ],
      "metadata": {
        "colab": {
          "base_uri": "https://localhost:8080/",
          "height": 334
        },
        "id": "HpeluvDK7WGM",
        "outputId": "cc459b44-e55d-4423-9492-01f3892f65f3"
      },
      "execution_count": 12,
      "outputs": [
        {
          "output_type": "display_data",
          "data": {
            "image/png": "[encoded data removed]",
            "text/plain": [
              "<Figure size 720x360 with 1 Axes>"
            ]
          },
          "metadata": {
            "needs_background": "light"
          }
        }
      ]
    },
    {
      "cell_type": "code",
      "source": [
        "# Profession 탐색\n",
        "\n",
        "plt.figure(figsize=(25, 7))\n",
        "ax = sns.countplot(data = train, x = 'Profession')\n",
        "plt.show()"
      ],
      "metadata": {
        "colab": {
          "base_uri": "https://localhost:8080/",
          "height": 206
        },
        "id": "vAO6LOiL7kCR",
        "outputId": "fb211938-66a6-427e-8f75-9e8ed525a30d"
      },
      "execution_count": 13,
      "outputs": [
        {
          "output_type": "display_data",
          "data": {
            "image/png": "[encoded data removed]",
            "text/plain": [
              "<Figure size 1800x504 with 1 Axes>"
            ]
          },
          "metadata": {
            "needs_background": "light"
          }
        }
      ]
    },
    {
      "cell_type": "code",
      "source": [
        "train.Profession.unique()"
      ],
      "metadata": {
        "id": "h6InhBA1bfsk",
        "outputId": "423129cc-b376-4aa6-aaef-15a8f94d0666",
        "colab": {
          "base_uri": "https://localhost:8080/"
        }
      },
      "execution_count": 14,
      "outputs": [
        {
          "output_type": "execute_result",
          "data": {
            "text/plain": [
              "array(['Mechanical_engineer', 'Psychologist', 'Drafter', 'Scientist',\n",
              "       'Dentist', 'Chemical_engineer', 'Computer_hardware_engineer',\n",
              "       'Microbiologist', 'Petroleum_Engineer', 'Engineer', 'Economist',\n",
              "       'Financial_Analyst', 'Magistrate', 'Official', 'Chef', 'Surveyor',\n",
              "       'Analyst', 'Biomedical_Engineer', 'Artist', 'Aviator',\n",
              "       'Technician', 'Politician', 'Lawyer', 'Surgeon', 'Architect',\n",
              "       'Secretary', 'Designer', 'Software_Developer', 'Comedian',\n",
              "       'Statistician', 'Industrial_Engineer', 'Web_designer',\n",
              "       'Civil_servant', 'Army_officer', 'Hotel_Manager', 'Librarian',\n",
              "       'Physician', 'Air_traffic_controller', 'Computer_operator',\n",
              "       'Civil_engineer', 'Police_officer', 'Technical_writer',\n",
              "       'Chartered_Accountant', 'Fashion_Designer', 'Flight_attendant',\n",
              "       'Design_Engineer', 'Geologist', 'Graphic_Designer',\n",
              "       'Technology_specialist', 'Consultant', 'Firefighter'], dtype=object)"
            ]
          },
          "metadata": {},
          "execution_count": 14
        }
      ]
    },
    {
      "cell_type": "code",
      "source": [
        "train.STATE.unique()"
      ],
      "metadata": {
        "id": "UUM19o29byUH",
        "outputId": "5858813f-36ca-482e-8eea-568c42928e0f",
        "colab": {
          "base_uri": "https://localhost:8080/"
        }
      },
      "execution_count": 15,
      "outputs": [
        {
          "output_type": "execute_result",
          "data": {
            "text/plain": [
              "array(['Tamil_Nadu', 'Gujarat', 'Madhya_Pradesh', 'Andhra_Pradesh',\n",
              "       'Bihar', 'West_Bengal', 'Karnataka', 'Odisha', 'Maharashtra',\n",
              "       'Jharkhand', 'Uttarakhand', 'Delhi', 'Uttar_Pradesh',\n",
              "       'Jammu_and_Kashmir', 'Chhattisgarh', 'Rajasthan', 'Assam',\n",
              "       'Punjab', 'Telangana', 'Manipur', 'Kerala', 'Haryana',\n",
              "       'Chandigarh', 'Puducherry', 'Uttar_Pradesh[5]', 'Tripura',\n",
              "       'Mizoram', 'Himachal_Pradesh', 'Sikkim'], dtype=object)"
            ]
          },
          "metadata": {},
          "execution_count": 15
        }
      ]
    },
    {
      "cell_type": "code",
      "source": [
        "train.CITY.unique()"
      ],
      "metadata": {
        "id": "oF1pKRX0b3qK",
        "outputId": "9a08134d-251c-4a4e-ce0e-bc4c509ea0eb",
        "colab": {
          "base_uri": "https://localhost:8080/"
        }
      },
      "execution_count": 16,
      "outputs": [
        {
          "output_type": "execute_result",
          "data": {
            "text/plain": [
              "array(['Karaikudi', 'Jamnagar', 'Sagar', 'Vijayanagaram', 'Avadi',\n",
              "       'Hajipur[31]', 'Raiganj', 'Surendranagar_Dudhrej', 'Bangalore',\n",
              "       'Raurkela_Industrial_Township', 'Kolhapur', 'Vasai-Virar',\n",
              "       'Deoghar', 'Rajpur_Sonarpur', 'Haridwar', 'Satna',\n",
              "       'Kirari_Suleman_Nagar', 'Firozabad', 'Jabalpur', 'Junagadh',\n",
              "       'Srinagar', 'Chittoor[28]', 'Vadodara', 'Ramgarh', 'Thanjavur',\n",
              "       'Bhilai', 'Sambalpur', 'Khandwa', 'Bardhaman', 'Pali', 'Jorhat',\n",
              "       'Kanpur', 'Jhansi', 'Amritsar', 'Bidhannagar', 'South_Dumdum',\n",
              "       'Nizamabad', 'Siwan[32]', 'Mau', 'Imphal', 'Bhusawal', 'Ahmedabad',\n",
              "       'Pimpri-Chinchwad', 'Mumbai', 'New_Delhi', 'Thiruvananthapuram',\n",
              "       'Bellary', 'Hapur', 'Ichalkaranji', 'Panihati', 'Kishanganj[35]',\n",
              "       'Barasat', 'Medininagar', 'Begusarai', 'Unnao', 'Bikaner', 'Malda',\n",
              "       'Bhalswa_Jahangir_Pur', 'Sonipat', 'Chandigarh_city', 'Surat',\n",
              "       'Mahbubnagar', 'Pudukkottai', 'Hindupur', 'Bhiwandi', 'Ambarnath',\n",
              "       'Anand', 'Danapur', 'Kochi', 'Thrissur', 'Gulbarga', 'Kharagpur',\n",
              "       'Burhanpur', 'Jalandhar', 'Hazaribagh', 'Delhi_city', 'Rohtak',\n",
              "       'Nagpur', 'Ozhukarai', 'Alwar', 'Dindigul', 'Allahabad',\n",
              "       'Agartala', 'Bhopal', 'Baranagar', 'Jalna', 'Malegaon',\n",
              "       'Chandrapur', 'Karnal', 'Guwahati', 'Aizawl', 'Sambhal',\n",
              "       'Gopalpur', 'Patiala', 'Chennai', 'Davanagere', 'Shimoga',\n",
              "       'Kumbakonam', 'Patna', 'Bahraich', 'Nagercoil', 'Rampur',\n",
              "       'Bilaspur', 'Noida', 'Bulandshahr', 'Kurnool[18]', 'Sirsa',\n",
              "       'Maheshtala', 'Rajkot', 'Ballia', 'Bhimavaram', 'Bhiwani',\n",
              "       'Mysore[7][8][9]', 'Udupi', 'Ahmednagar', 'Mangalore', 'Proddatur',\n",
              "       'Jehanabad[38]', 'Coimbatore', 'Anantapur', 'Tiruvottiyur',\n",
              "       'Mathura', 'Thoothukudi', 'Chapra', 'Gorakhpur', 'Muzaffarnagar',\n",
              "       'Panchkula', 'Suryapet', 'Phusro', 'Faridabad', 'Madanapalle',\n",
              "       'Navi_Mumbai', 'Muzaffarpur', 'Tiruppur', 'Bihar_Sharif', 'Dewas',\n",
              "       'Kollam', 'Kalyan-Dombivli', 'Kadapa[23]', 'Machilipatnam',\n",
              "       'Bathinda', 'Lucknow', 'Raebareli', 'Secunderabad', 'Panvel',\n",
              "       'Tirupati[21][22]', 'Bhavnagar', 'Phagwara', 'Bijapur',\n",
              "       'Serampore', 'Shimla', 'Uluberia', 'Rourkela', 'Gaya',\n",
              "       'Visakhapatnam[4]', 'Farrukhabad', 'Kulti', 'Bongaigaon', 'Dhule',\n",
              "       'Erode[17]', 'Jammu[16]', 'Saharsa[29]', 'Bhilwara', 'Latur',\n",
              "       'Kottayam', 'Khammam', 'Solapur', 'Dibrugarh', 'Amroha', 'Madurai',\n",
              "       'Pallavaram', 'Mehsana', 'Darbhanga', 'Adoni', 'Meerut', 'Loni',\n",
              "       'Gudivada', 'Khora,_Ghaziabad', 'Haldia', 'Guna', 'Dehradun',\n",
              "       'Fatehpur', 'Tumkur', 'Agra', 'Rajahmundry[19][20]', 'Gandhinagar',\n",
              "       'Vellore', 'Aurangabad[39]', 'Tirunelveli', 'Motihari[34]',\n",
              "       'Nashik', 'Jaipur', 'Hospet', 'Eluru[25]', 'Buxar[37]', 'Naihati',\n",
              "       'Indore', 'Ulhasnagar', 'Korba', 'Saharanpur', 'Sasaram[30]',\n",
              "       'Raipur', 'Bharatpur', 'Alappuzha', 'Nagaon', 'Jalgaon',\n",
              "       'Ghaziabad', 'Dehri[30]', 'Singrauli', 'Raichur',\n",
              "       'Anantapuram[24]', 'Ajmer', 'Vijayawada', 'Udaipur', 'Nandyal',\n",
              "       'Bally', 'Mira-Bhayandar', 'Orai', 'Yamunanagar', 'Jodhpur',\n",
              "       'Kavali', 'Jaunpur', 'Arrah', 'Nanded', 'Giridih', 'Panipat',\n",
              "       'Hubliâ€“Dharwad', 'Morbi', 'Thane', 'Sri_Ganganagar',\n",
              "       'Sultan_Pur_Majra', 'Bidar', 'Amaravati', 'Berhampore', 'Ujjain',\n",
              "       'Silchar', 'Parbhani', 'Jamshedpur', 'Howrah', 'Hosur',\n",
              "       'Chinsurah', 'Shahjahanpur', 'Belgaum', 'Cuttack', 'Munger',\n",
              "       'Tezpur', 'Ambala', 'Kolkata', 'Guntur[13]', 'Katihar',\n",
              "       'North_Dumdum', 'Tinsukia', 'Pune', 'Karawal_Nagar', 'Aligarh',\n",
              "       'Gwalior', 'Kozhikode', 'Kamarhati', 'Bhind', 'Moradabad', 'Akola',\n",
              "       'Bareilly', 'Tadepalligudem', 'Bettiah[33]', 'Ambattur', 'Satara',\n",
              "       'Srikakulam', 'Gandhidham', 'Gurgaon', 'Ramagundam[27]', 'Ongole',\n",
              "       'Bhagalpur', 'Durgapur', 'Shivpuri', 'Amravati', 'Tenali',\n",
              "       'Sangli-Miraj_&_Kupwad', 'Ratlam', 'Varanasi', 'Dhanbad',\n",
              "       'Bhatpara', 'Jamalpur[36]', 'Warangal[11][12]', 'Kota[6]',\n",
              "       'Kakinada', 'Tadipatri', 'Sikar', 'Gangtok', 'Tiruchirappalli[10]',\n",
              "       'Narasaraopet', 'Hyderabad', 'Morena', 'Mirzapur', 'Siliguri',\n",
              "       'Ludhiana', 'Rewa', 'Bokaro', 'Katni', 'Nangloi_Jat',\n",
              "       'Dharmavaram', 'Nadiad', 'Durg', 'Guntakal', 'Karimnagar',\n",
              "       'Aurangabad', 'Bhubaneswar', 'Etawah', 'Purnia[26]', 'Pondicherry',\n",
              "       'Madhyamgram', 'Nellore[14][15]', 'Salem', 'Ranchi', 'Asansol',\n",
              "       'Mango', 'Miryalaguda', 'Berhampur'], dtype=object)"
            ]
          },
          "metadata": {},
          "execution_count": 16
        }
      ]
    },
    {
      "cell_type": "code",
      "source": [
        "house = train.House_Ownership.value_counts()\n",
        "car = train.Car_Ownership.value_counts()\n",
        "marr_sin = train['Married_Or_Single'].value_counts()\n",
        "\n",
        "# 색상 지정\n",
        "pink = ['#F198AF', '#9F81CD', '#EF6D6D']\n",
        "green = ['#65C18C', '#C1F4C5']\n",
        "yellow = ['#FFCC00', '#FFEE00', '#FFFF66', '#FFF18D']"
      ],
      "metadata": {
        "id": "o13j_a6CzW0Z"
      },
      "execution_count": 17,
      "outputs": []
    },
    {
      "cell_type": "code",
      "source": [
        "plt.figure(figsize = (25, 5))\n",
        "plt.subplot(1, 3, 1)\n",
        "plt.bar(house.index, house.values, color = pink)\n",
        "plt.title('House_Ownership')\n",
        "\n",
        "plt.subplot(1, 3, 2)\n",
        "plt.bar(car.index, car.values, color = yellow)\n",
        "plt.title('Car_Ownership')\n",
        "\n",
        "plt.subplot(1, 3, 3)\n",
        "plt.bar(marr_sin.index, marr_sin.values, color = green)\n",
        "plt.title('Married_Or_Single')\n",
        "\n",
        "plt.show();"
      ],
      "metadata": {
        "id": "rxatipBPcs3c",
        "outputId": "6a8413dd-b3be-40e0-8b32-b9f395c7a825",
        "colab": {
          "base_uri": "https://localhost:8080/",
          "height": 158
        }
      },
      "execution_count": 18,
      "outputs": [
        {
          "output_type": "display_data",
          "data": {
            "image/png": "[encoded data removed]",
            "text/plain": [
              "<Figure size 1800x360 with 3 Axes>"
            ]
          },
          "metadata": {
            "needs_background": "light"
          }
        }
      ]
    },
    {
      "cell_type": "markdown",
      "source": [
        "## 데이터 전처리"
      ],
      "metadata": {
        "id": "bWhqPaJTcxXD"
      }
    },
    {
      "cell_type": "code",
      "source": [
        "# 지역 분류\n",
        "north_state = ['West_Bengal', 'Bihar', 'Assam', 'Uttarakhand', 'Uttar_Paradesh', 'Uttar_Pradesh[5]',\n",
        "               'Jammu_and_Kashmir', 'Rajasthan', 'Gujarat', 'Punjab', 'Manipur', \n",
        "                'Haryana', 'Sikkim', 'Mizoram', 'Madhya_Pradesh', 'Tripura',\n",
        "               'Jharkhand', 'Chandigarh', 'Himachal_Pradesh']\n",
        "south_state = ['Karnataka', 'Tamil_Nadu', 'Kerala', 'Andhra_Pradesh', 'Telangana', \n",
        "               'Maharashtra', 'Chhattisgarh', 'Odisha', 'Puducherry']"
      ],
      "metadata": {
        "id": "N5D9zQncc37o"
      },
      "execution_count": 19,
      "outputs": []
    },
    {
      "cell_type": "code",
      "source": [
        "# 직업 분류\n",
        "natural_sciences = ['Mechanical_engineer', 'Psychologist', 'Scientist', 'Dentist', 'Chemical_engineer',\n",
        "                    'Engineer', 'Petroleum_Engineer', 'Drafter', 'Microbiologist', 'Biomedical_Engineer',\n",
        "                    'Aviator', 'Technician', 'Surgeon', 'Architect', 'Software_Developer', \n",
        "                    'Industrial_Engineer', 'Web_designer', 'Physician', 'Air_traffic_controller',\n",
        "                    'Computer_operator', 'Civil_engineer', 'Geologist', 'Computer_hardware_engineer',\n",
        "                    'Technology_specialist']\n",
        "liberal_arts = ['Economist', 'Financial_Analyst', 'Magistrate', 'Official', 'Chef', 'Surveyor',\n",
        "                'Analyst', 'Artist', 'Politician', 'Lawyer', 'Secretary', 'Designer', 'Comedian',\n",
        "                'Statistician', 'Police_officer', 'Technical_writer', 'Chartered_Accountant',\n",
        "                'Fashion_Designer', 'Graphic_Designer', 'Consultant', 'Firefighter', 'Flight_attendant',\n",
        "                'Design_Engineer', 'Army_officer', 'Civil_servant', 'Hotel_Manager', 'Librarian']\n",
        "\n",
        "len(natural_sciences), len(liberal_arts)"
      ],
      "metadata": {
        "colab": {
          "base_uri": "https://localhost:8080/"
        },
        "id": "ocPedeMjmXlO",
        "outputId": "df28cbff-3e16-4c55-db52-c67689bcaec6"
      },
      "execution_count": 20,
      "outputs": [
        {
          "output_type": "execute_result",
          "data": {
            "text/plain": [
              "(24, 27)"
            ]
          },
          "metadata": {},
          "execution_count": 20
        }
      ]
    },
    {
      "cell_type": "code",
      "source": [
        "not_own = ['rented', 'norent_noown']"
      ],
      "metadata": {
        "id": "YHh-Vck8Y34i"
      },
      "execution_count": 21,
      "outputs": []
    },
    {
      "cell_type": "code",
      "source": [
        "def age(age):\n",
        "  if age > 60:\n",
        "    return 'over 60s'\n",
        "  elif age >= 40:\n",
        "    return '4-50s'\n",
        "  elif age >= 30:\n",
        "    return '30s'\n",
        "  else:\n",
        "    return 'under 30s'\n",
        "\n",
        "def region(state):\n",
        "  if state in north_state:\n",
        "    return 'North Area'\n",
        "  elif state in south_state:\n",
        "    return 'South Area'\n",
        "  elif state == 'Delhi':\n",
        "    return 'Capital'\n",
        "\n",
        "def exp(exp):\n",
        "  if exp <= 2:\n",
        "    return 'Entry'\n",
        "  elif exp <= 5:\n",
        "    return 'Intermediate'\n",
        "  elif exp <= 10:\n",
        "    return 'Mid'\n",
        "  else:\n",
        "    return 'Senior'\n",
        "\n",
        "\n",
        "def job_year(year):\n",
        "  if year < 5:\n",
        "    return 1\n",
        "  elif year <= 10:\n",
        "    return 2\n",
        "  else:\n",
        "    return 3\n",
        "\n",
        "def house(h):\n",
        "  if h in not_own:\n",
        "    return 'not owned'\n",
        "  else:\n",
        "    return h\n",
        "\n",
        "def prof(prof):\n",
        "  if prof in natural_sciences:\n",
        "    return 'Natural Sciences'\n",
        "  elif prof in liberal_arts:\n",
        "    return 'Liberal Arts'\n",
        "  else:\n",
        "    return 'No Info'"
      ],
      "metadata": {
        "id": "f-H229G9Blze"
      },
      "execution_count": 22,
      "outputs": []
    },
    {
      "cell_type": "code",
      "source": [
        "def feature(df):\n",
        "  cols = ['Id', 'CITY']\n",
        "\n",
        "  df.drop(columns = cols, inplace = True)\n",
        "  df.reset_index(drop = True, inplace = True)\n",
        "\n",
        "  if 'Risk_Flag' in df.columns:\n",
        "    df.Risk_Flag = df.Risk_Flag.apply(lambda x: 1 if x == 0 else 0)\n",
        "\n",
        "  df.Age = df.Age.apply(age)\n",
        "  df.CURRENT_JOB_YRS = df.CURRENT_JOB_YRS.apply(job_year)\n",
        "  df.STATE = df.STATE.apply(region)\n",
        "  df.Experience = df.Experience.apply(exp)\n",
        "  df.House_Ownership = df.House_Ownership.apply(house)\n",
        "  df.Profession = df.Profession.apply(prof)\n",
        "\n",
        "  return df"
      ],
      "metadata": {
        "id": "dclmKc7xDCm2"
      },
      "execution_count": 23,
      "outputs": []
    },
    {
      "cell_type": "code",
      "source": [
        "train = feature(train)\n",
        "val = feature(val)\n",
        "test = feature(test)"
      ],
      "metadata": {
        "id": "H6uk7Xz2FXn_"
      },
      "execution_count": 24,
      "outputs": []
    },
    {
      "cell_type": "code",
      "source": [
        "train.head().T"
      ],
      "metadata": {
        "id": "-vqkLmw1GCoK",
        "outputId": "75cdc143-67db-4cd6-8f6a-5ab1a0d5fe02",
        "colab": {
          "base_uri": "https://localhost:8080/",
          "height": 455
        }
      },
      "execution_count": 25,
      "outputs": [
        {
          "output_type": "execute_result",
          "data": {
            "text/html": [
              "\n",
              "  <div id=\"df-f13e7606-e851-4e9d-9895-4fb6da5f6216\">\n",
              "    <div class=\"colab-df-container\">\n",
              "      <div>\n",
              "<style scoped>\n",
              "    .dataframe tbody tr th:only-of-type {\n",
              "        vertical-align: middle;\n",
              "    }\n",
              "\n",
              "    .dataframe tbody tr th {\n",
              "        vertical-align: top;\n",
              "    }\n",
              "\n",
              "    .dataframe thead th {\n",
              "        text-align: right;\n",
              "    }\n",
              "</style>\n",
              "<table border=\"1\" class=\"dataframe\">\n",
              "  <thead>\n",
              "    <tr style=\"text-align: right;\">\n",
              "      <th></th>\n",
              "      <th>0</th>\n",
              "      <th>1</th>\n",
              "      <th>2</th>\n",
              "      <th>3</th>\n",
              "      <th>4</th>\n",
              "    </tr>\n",
              "  </thead>\n",
              "  <tbody>\n",
              "    <tr>\n",
              "      <th>Income</th>\n",
              "      <td>8132252</td>\n",
              "      <td>7915651</td>\n",
              "      <td>6272029</td>\n",
              "      <td>1832125</td>\n",
              "      <td>7954133</td>\n",
              "    </tr>\n",
              "    <tr>\n",
              "      <th>Age</th>\n",
              "      <td>over 60s</td>\n",
              "      <td>over 60s</td>\n",
              "      <td>4-50s</td>\n",
              "      <td>4-50s</td>\n",
              "      <td>30s</td>\n",
              "    </tr>\n",
              "    <tr>\n",
              "      <th>Experience</th>\n",
              "      <td>Mid</td>\n",
              "      <td>Mid</td>\n",
              "      <td>Senior</td>\n",
              "      <td>Senior</td>\n",
              "      <td>Mid</td>\n",
              "    </tr>\n",
              "    <tr>\n",
              "      <th>Married_Or_Single</th>\n",
              "      <td>single</td>\n",
              "      <td>single</td>\n",
              "      <td>single</td>\n",
              "      <td>single</td>\n",
              "      <td>single</td>\n",
              "    </tr>\n",
              "    <tr>\n",
              "      <th>House_Ownership</th>\n",
              "      <td>not owned</td>\n",
              "      <td>not owned</td>\n",
              "      <td>not owned</td>\n",
              "      <td>not owned</td>\n",
              "      <td>not owned</td>\n",
              "    </tr>\n",
              "    <tr>\n",
              "      <th>Car_Ownership</th>\n",
              "      <td>no</td>\n",
              "      <td>no</td>\n",
              "      <td>no</td>\n",
              "      <td>yes</td>\n",
              "      <td>yes</td>\n",
              "    </tr>\n",
              "    <tr>\n",
              "      <th>Profession</th>\n",
              "      <td>Natural Sciences</td>\n",
              "      <td>Natural Sciences</td>\n",
              "      <td>Natural Sciences</td>\n",
              "      <td>Natural Sciences</td>\n",
              "      <td>Natural Sciences</td>\n",
              "    </tr>\n",
              "    <tr>\n",
              "      <th>STATE</th>\n",
              "      <td>South Area</td>\n",
              "      <td>North Area</td>\n",
              "      <td>North Area</td>\n",
              "      <td>South Area</td>\n",
              "      <td>South Area</td>\n",
              "    </tr>\n",
              "    <tr>\n",
              "      <th>CURRENT_JOB_YRS</th>\n",
              "      <td>2</td>\n",
              "      <td>1</td>\n",
              "      <td>2</td>\n",
              "      <td>3</td>\n",
              "      <td>1</td>\n",
              "    </tr>\n",
              "    <tr>\n",
              "      <th>CURRENT_HOUSE_YRS</th>\n",
              "      <td>13</td>\n",
              "      <td>12</td>\n",
              "      <td>10</td>\n",
              "      <td>14</td>\n",
              "      <td>12</td>\n",
              "    </tr>\n",
              "    <tr>\n",
              "      <th>Risk_Flag</th>\n",
              "      <td>1</td>\n",
              "      <td>1</td>\n",
              "      <td>1</td>\n",
              "      <td>1</td>\n",
              "      <td>1</td>\n",
              "    </tr>\n",
              "  </tbody>\n",
              "</table>\n",
              "</div>\n",
              "      <button class=\"colab-df-convert\" onclick=\"convertToInteractive('df-f13e7606-e851-4e9d-9895-4fb6da5f6216')\"\n",
              "              title=\"Convert this dataframe to an interactive table.\"\n",
              "              style=\"display:none;\">\n",
              "        \n",
              "  <svg xmlns=\"http://www.w3.org/2000/svg\" height=\"24px\"viewBox=\"0 0 24 24\"\n",
              "       width=\"24px\">\n",
              "    <path d=\"M0 0h24v24H0V0z\" fill=\"none\"/>\n",
              "    <path d=\"M18.56 5.44l.94 2.06.94-2.06 2.06-.94-2.06-.94-.94-2.06-.94 2.06-2.06.94zm-11 1L8.5 8.5l.94-2.06 2.06-.94-2.06-.94L8.5 2.5l-.94 2.06-2.06.94zm10 10l.94 2.06.94-2.06 2.06-.94-2.06-.94-.94-2.06-.94 2.06-2.06.94z\"/><path d=\"M17.41 7.96l-1.37-1.37c-.4-.4-.92-.59-1.43-.59-.52 0-1.04.2-1.43.59L10.3 9.45l-7.72 7.72c-.78.78-.78 2.05 0 2.83L4 21.41c.39.39.9.59 1.41.59.51 0 1.02-.2 1.41-.59l7.78-7.78 2.81-2.81c.8-.78.8-2.07 0-2.86zM5.41 20L4 18.59l7.72-7.72 1.47 1.35L5.41 20z\"/>\n",
              "  </svg>\n",
              "      </button>\n",
              "      \n",
              "  <style>\n",
              "    .colab-df-container {\n",
              "      display:flex;\n",
              "      flex-wrap:wrap;\n",
              "      gap: 12px;\n",
              "    }\n",
              "\n",
              "    .colab-df-convert {\n",
              "      background-color: #E8F0FE;\n",
              "      border: none;\n",
              "      border-radius: 50%;\n",
              "      cursor: pointer;\n",
              "      display: none;\n",
              "      fill: #1967D2;\n",
              "      height: 32px;\n",
              "      padding: 0 0 0 0;\n",
              "      width: 32px;\n",
              "    }\n",
              "\n",
              "    .colab-df-convert:hover {\n",
              "      background-color: #E2EBFA;\n",
              "      box-shadow: 0px 1px 2px rgba(60, 64, 67, 0.3), 0px 1px 3px 1px rgba(60, 64, 67, 0.15);\n",
              "      fill: #174EA6;\n",
              "    }\n",
              "\n",
              "    [theme=dark] .colab-df-convert {\n",
              "      background-color: #3B4455;\n",
              "      fill: #D2E3FC;\n",
              "    }\n",
              "\n",
              "    [theme=dark] .colab-df-convert:hover {\n",
              "      background-color: #434B5C;\n",
              "      box-shadow: 0px 1px 3px 1px rgba(0, 0, 0, 0.15);\n",
              "      filter: drop-shadow(0px 1px 2px rgba(0, 0, 0, 0.3));\n",
              "      fill: #FFFFFF;\n",
              "    }\n",
              "  </style>\n",
              "\n",
              "      <script>\n",
              "        const buttonEl =\n",
              "          document.querySelector('#df-f13e7606-e851-4e9d-9895-4fb6da5f6216 button.colab-df-convert');\n",
              "        buttonEl.style.display =\n",
              "          google.colab.kernel.accessAllowed ? 'block' : 'none';\n",
              "\n",
              "        async function convertToInteractive(key) {\n",
              "          const element = document.querySelector('#df-f13e7606-e851-4e9d-9895-4fb6da5f6216');\n",
              "          const dataTable =\n",
              "            await google.colab.kernel.invokeFunction('convertToInteractive',\n",
              "                                                     [key], {});\n",
              "          if (!dataTable) return;\n",
              "\n",
              "          const docLinkHtml = 'Like what you see? Visit the ' +\n",
              "            '<a target=\"_blank\" href=https://colab.research.google.com/notebooks/data_table.ipynb>data table notebook</a>'\n",
              "            + ' to learn more about interactive tables.';\n",
              "          element.innerHTML = '';\n",
              "          dataTable['output_type'] = 'display_data';\n",
              "          await google.colab.output.renderOutput(dataTable, element);\n",
              "          const docLink = document.createElement('div');\n",
              "          docLink.innerHTML = docLinkHtml;\n",
              "          element.appendChild(docLink);\n",
              "        }\n",
              "      </script>\n",
              "    </div>\n",
              "  </div>\n",
              "  "
            ],
            "text/plain": [
              "                                  0  ...                 4\n",
              "Income                      8132252  ...           7954133\n",
              "Age                        over 60s  ...               30s\n",
              "Experience                      Mid  ...               Mid\n",
              "Married_Or_Single            single  ...            single\n",
              "House_Ownership           not owned  ...         not owned\n",
              "Car_Ownership                    no  ...               yes\n",
              "Profession         Natural Sciences  ...  Natural Sciences\n",
              "STATE                    South Area  ...        South Area\n",
              "CURRENT_JOB_YRS                   2  ...                 1\n",
              "CURRENT_HOUSE_YRS                13  ...                12\n",
              "Risk_Flag                         1  ...                 1\n",
              "\n",
              "[11 rows x 5 columns]"
            ]
          },
          "metadata": {},
          "execution_count": 25
        }
      ]
    },
    {
      "cell_type": "markdown",
      "source": [
        "#### 데이터 전처리 결과 확인"
      ],
      "metadata": {
        "id": "H2QtEjxUGzXt"
      }
    },
    {
      "cell_type": "code",
      "source": [
        "prof = train.Profession.value_counts()\n",
        "age = train.Age.value_counts()\n",
        "exp = train.Experience.value_counts()\n",
        "houseP = train.House_Ownership.value_counts()\n",
        "region = train.STATE.value_counts()\n",
        "job_yrs = train.CURRENT_JOB_YRS.value_counts()"
      ],
      "metadata": {
        "id": "tX5PnddeGIID"
      },
      "execution_count": 26,
      "outputs": []
    },
    {
      "cell_type": "code",
      "source": [
        "color1 = ['#9ba9ff', '#afb1ff', '#cebeff', '#eccaff']\n",
        "color2 = ['#71a5de', '#abc4ff', '#c1d3fe', '#d7e3fc']\n",
        "color3 = ['#a5eeaa', '#c4f39d', '#e3f790', '#f3f98a']"
      ],
      "metadata": {
        "id": "lBuqTRUIKhVw"
      },
      "execution_count": 27,
      "outputs": []
    },
    {
      "cell_type": "code",
      "source": [
        "plt.figure(figsize = (25, 13))\n",
        "\n",
        "plt.subplot(2, 3, 1)\n",
        "plt.bar(houseP.index, houseP.values, color = color1)\n",
        "plt.title('House_Ownership')\n",
        "\n",
        "plt.subplot(2, 3, 2)\n",
        "plt.bar(age.index, age.values, color = color3)\n",
        "plt.title('Age')\n",
        "\n",
        "plt.subplot(2, 3, 3)\n",
        "plt.bar(exp.index, exp.values, color = color1)\n",
        "plt.title('Experience')\n",
        "\n",
        "plt.subplot(2, 3, 4)\n",
        "plt.bar(prof.index, prof.values, color = color3)\n",
        "plt.title('Profession')\n",
        "\n",
        "plt.subplot(2, 3, 5)\n",
        "plt.bar(region.index, region.values, color = color1)\n",
        "plt.title('State')\n",
        "\n",
        "plt.subplot(2, 3, 6)\n",
        "plt.bar(job_yrs.index, job_yrs.values, color = color3)\n",
        "plt.title('CURRENT JOB YEARS')\n",
        "\n",
        "plt.show()\n"
      ],
      "metadata": {
        "id": "ICuu3RjnGNaW",
        "outputId": "add4cd42-4ec1-4509-ca3a-648b32a401c0",
        "colab": {
          "base_uri": "https://localhost:8080/",
          "height": 351
        }
      },
      "execution_count": 28,
      "outputs": [
        {
          "output_type": "display_data",
          "data": {
            "image/png": "[encoded data removed]",
            "text/plain": [
              "<Figure size 1800x936 with 6 Axes>"
            ]
          },
          "metadata": {
            "needs_background": "light"
          }
        }
      ]
    },
    {
      "cell_type": "code",
      "source": [
        "train.Risk_Flag.value_counts()"
      ],
      "metadata": {
        "id": "3mF6J0eyZvyz",
        "outputId": "c020ada1-b43e-4dc6-b126-9f1498db1d3a",
        "colab": {
          "base_uri": "https://localhost:8080/"
        }
      },
      "execution_count": 29,
      "outputs": [
        {
          "output_type": "execute_result",
          "data": {
            "text/plain": [
              "1    176803\n",
              "0     24797\n",
              "Name: Risk_Flag, dtype: int64"
            ]
          },
          "metadata": {},
          "execution_count": 29
        }
      ]
    },
    {
      "cell_type": "code",
      "source": [
        "%matplotlib inline\n",
        "\n",
        "ax = sns.set_palette('muted')\n",
        "ax = sns.countplot(data = train, x = target)\n",
        "\n",
        "plt.show()"
      ],
      "metadata": {
        "id": "L_y59pOxYpgi",
        "outputId": "d8332c8b-5fe0-484e-c0e5-91af245878a8",
        "colab": {
          "base_uri": "https://localhost:8080/",
          "height": 280
        }
      },
      "execution_count": 30,
      "outputs": [
        {
          "output_type": "display_data",
          "data": {
            "image/png": "[encoded data removed]",
            "text/plain": [
              "<Figure size 432x288 with 1 Axes>"
            ]
          },
          "metadata": {
            "needs_background": "light"
          }
        }
      ]
    },
    {
      "cell_type": "markdown",
      "source": [
        "## 모델 비교\n",
        "(HIstGradientBoostingClassifier vs LightGBM vs XGBClassifier vs ExtraTreesClassifier)\n"
      ],
      "metadata": {
        "id": "4PzQHhSAKIrn"
      }
    },
    {
      "cell_type": "code",
      "source": [
        "X_train = train.drop(columns = target)\n",
        "y_train = train[target]\n",
        "\n",
        "X_val = val.drop(columns = target)\n",
        "y_val = val[target]"
      ],
      "metadata": {
        "id": "0zyTr2B1LrUR"
      },
      "execution_count": 31,
      "outputs": []
    },
    {
      "cell_type": "code",
      "source": [
        "ord_list = ['Income', 'Age', 'Experience', 'CURRENT_JOB_YRS', 'CURRENT_HOUSE_YRS']\n",
        "ord_mapping = [\n",
        "           {'col': 'Age', 'mapping': {'under 30s': 1, '30s': 2, '4-50s': 3, 'over 60': 4, 'NaN': 0}},\n",
        "           {'col': 'Experience', 'mapping': {'Entry': 1, 'Intermediate': 2, 'Mid': 3, 'Senior': 4, 'NaN': 0}},\n",
        "           {'col': 'CURRENT_JOB_YRS', 'mapping': {3: 3, 2: 2, 1: 1, 'NaN': 0}},\n",
        "           {'col': 'House_Ownership', 'mapping': {'owned': 2, 'not owned': 1, 'NaN': 0}}\n",
        "]"
      ],
      "metadata": {
        "id": "7Goq_0bNMC5D"
      },
      "execution_count": 32,
      "outputs": []
    },
    {
      "cell_type": "code",
      "source": [
        "from category_encoders import OneHotEncoder, OrdinalEncoder, TargetEncoder\n",
        "from sklearn.impute import SimpleImputer\n",
        "from sklearn.preprocessing import StandardScaler, LabelEncoder\n",
        "from sklearn.pipeline import make_pipeline, Pipeline\n",
        "from sklearn.experimental import enable_hist_gradient_boosting\n",
        "from sklearn.ensemble import HistGradientBoostingClassifier, ExtraTreesClassifier\n",
        "from sklearn.metrics import f1_score, accuracy_score, classification_report, roc_auc_score\n",
        "\n",
        "from lightgbm import LGBMClassifier\n",
        "from xgboost import XGBClassifier"
      ],
      "metadata": {
        "id": "yzH3xbQpM9FN",
        "outputId": "75a0cd19-8607-4898-b089-a909f7d0e7b8",
        "colab": {
          "base_uri": "https://localhost:8080/"
        }
      },
      "execution_count": 33,
      "outputs": [
        {
          "output_type": "stream",
          "name": "stderr",
          "text": [
            "/usr/local/lib/python3.7/dist-packages/statsmodels/tools/_testing.py:19: FutureWarning: pandas.util.testing is deprecated. Use the functions in the public API at pandas.testing instead.\n",
            "  import pandas.util.testing as tm\n",
            "/usr/local/lib/python3.7/dist-packages/sklearn/experimental/enable_hist_gradient_boosting.py:17: UserWarning: Since version 1.0, it is not needed to import enable_hist_gradient_boosting anymore. HistGradientBoostingClassifier and HistGradientBoostingRegressor are now stable and can be normally imported from sklearn.ensemble.\n",
            "  \"Since version 1.0, \"\n"
          ]
        }
      ]
    },
    {
      "cell_type": "code",
      "source": [
        "# HistGradientBoostingClassifier\n",
        "\n",
        "hist_pipe = make_pipeline(\n",
        "    OrdinalEncoder(cols = ord_list, mapping = ord_mapping),\n",
        "    OneHotEncoder(use_cat_names = True),\n",
        "    SimpleImputer(),\n",
        "    StandardScaler(),\n",
        "    HistGradientBoostingClassifier(\n",
        "        max_iter = 200,\n",
        "        learning_rate = 0.3,\n",
        "        random_state = 42\n",
        "    )\n",
        ")\n",
        "hist_pipe.fit(X_train, y_train)\n",
        "y_pred = hist_pipe.predict(X_val)\n",
        "f1 = f1_score(y_val, y_pred)\n",
        "\n",
        "print('Validation Score: ', hist_pipe.score(X_val, y_val))\n",
        "print('f1 Score: ', f1)\n",
        "print('ROC Score: ', roc_auc_score(y_val, y_pred))\n",
        "print(classification_report(y_val, y_pred))"
      ],
      "metadata": {
        "id": "ypOWYDCrKOkf",
        "outputId": "2052b15f-cd0e-41dc-b08c-0188ec2705aa",
        "colab": {
          "base_uri": "https://localhost:8080/"
        }
      },
      "execution_count": 42,
      "outputs": [
        {
          "output_type": "stream",
          "name": "stdout",
          "text": [
            "Validation Score:  0.8867261904761905\n",
            "f1 Score:  0.9384547385215769\n",
            "ROC Score:  0.5863311949778878\n",
            "              precision    recall  f1-score   support\n",
            "\n",
            "           0       0.63      0.19      0.29      6199\n",
            "           1       0.90      0.98      0.94     44201\n",
            "\n",
            "    accuracy                           0.89     50400\n",
            "   macro avg       0.76      0.59      0.61     50400\n",
            "weighted avg       0.86      0.89      0.86     50400\n",
            "\n"
          ]
        }
      ]
    },
    {
      "cell_type": "code",
      "source": [
        "# LightGBM\n",
        "\n",
        "\n",
        "light_pipe = make_pipeline(\n",
        "    OrdinalEncoder(cols = ord_list, mapping = ord_mapping),\n",
        "    OneHotEncoder(use_cat_names = True),\n",
        "    SimpleImputer(),\n",
        "    StandardScaler(),\n",
        "    LGBMClassifier(\n",
        "        boosting = 'rf',\n",
        "        bagging_fraction = 0.2,\n",
        "        bagging_freq = 1,\n",
        "        random_state = 42\n",
        "    )\n",
        ")\n",
        "light_pipe.fit(X_train, y_train)\n",
        "y_pred = light_pipe.predict(X_val)\n",
        "f1 = f1_score(y_val, y_pred)\n",
        "\n",
        "print('Validation Score: ', light_pipe.score(X_val, y_val))\n",
        "print('f1 Score: ', f1)\n",
        "print('ROC Score: ', roc_auc_score(y_val, y_pred))\n",
        "print(classification_report(y_val, y_pred))"
      ],
      "metadata": {
        "id": "PEbXzMK5PcUz",
        "outputId": "fb795ae4-2609-4732-dd77-b5e2c2d6a08f",
        "colab": {
          "base_uri": "https://localhost:8080/"
        }
      },
      "execution_count": 53,
      "outputs": [
        {
          "output_type": "stream",
          "name": "stdout",
          "text": [
            "Validation Score:  0.8772619047619048\n",
            "f1 Score:  0.934574299312533\n",
            "ROC Score:  0.5023661341974369\n",
            "              precision    recall  f1-score   support\n",
            "\n",
            "           0       0.63      0.01      0.01      6199\n",
            "           1       0.88      1.00      0.93     44201\n",
            "\n",
            "    accuracy                           0.88     50400\n",
            "   macro avg       0.75      0.50      0.47     50400\n",
            "weighted avg       0.85      0.88      0.82     50400\n",
            "\n"
          ]
        }
      ]
    },
    {
      "cell_type": "code",
      "source": [
        "# XGBClassifier\n",
        "\n",
        "\n",
        "xgb_pipe = make_pipeline(\n",
        "    OrdinalEncoder(cols = ord_list, mapping = ord_mapping),\n",
        "    OneHotEncoder(use_cat_names = True),\n",
        "    SimpleImputer(),\n",
        "    StandardScaler(),\n",
        "    XGBClassifier(random_state = 42)\n",
        ")\n",
        "xgb_pipe.fit(X_train, y_train)\n",
        "y_pred = xgb_pipe.predict(X_val)\n",
        "f1 = f1_score(y_val, y_pred)\n",
        "\n",
        "print('Validation Score: ', xgb_pipe.score(X_val, y_val))\n",
        "print('f1 Score: ', f1)\n",
        "print('ROC Score: ', roc_auc_score(y_val, y_pred))\n",
        "print(classification_report(y_val, y_pred))"
      ],
      "metadata": {
        "id": "A7V6bXCRRhKj",
        "outputId": "45ea05b5-fac2-4284-9903-01758eecd566",
        "colab": {
          "base_uri": "https://localhost:8080/"
        }
      },
      "execution_count": 36,
      "outputs": [
        {
          "output_type": "stream",
          "name": "stdout",
          "text": [
            "Validation Score:  0.8770436507936508\n",
            "f1 Score:  0.9344891379036947\n",
            "ROC Score:  0.500300008760155\n",
            "              precision    recall  f1-score   support\n",
            "\n",
            "           0       0.67      0.00      0.00      6199\n",
            "           1       0.88      1.00      0.93     44201\n",
            "\n",
            "    accuracy                           0.88     50400\n",
            "   macro avg       0.77      0.50      0.47     50400\n",
            "weighted avg       0.85      0.88      0.82     50400\n",
            "\n"
          ]
        }
      ]
    },
    {
      "cell_type": "code",
      "source": [
        "# ExtraTreesClassifier\n",
        "\n",
        "extra_pipe = make_pipeline(\n",
        "    OrdinalEncoder(cols = ord_list, mapping = ord_mapping),\n",
        "    OneHotEncoder(use_cat_names = True),\n",
        "    SimpleImputer(),\n",
        "    StandardScaler(),\n",
        "    ExtraTreesClassifier(random_state = 42)\n",
        ")\n",
        "extra_pipe.fit(X_train, y_train)\n",
        "y_pred =extra_pipe.predict(X_val)\n",
        "f1 = f1_score(y_val, y_pred)\n",
        "\n",
        "print('Validation Score: ',extra_pipe.score(X_val, y_val))\n",
        "print('f1 Score: ', f1)\n",
        "print('ROC Score: ', roc_auc_score(y_val, y_pred))\n",
        "print(classification_report(y_val, y_pred))"
      ],
      "metadata": {
        "id": "YHVq7WfLSPQy",
        "outputId": "d7c58176-a545-4e9f-9ec4-3a0cf253fd17",
        "colab": {
          "base_uri": "https://localhost:8080/"
        }
      },
      "execution_count": 37,
      "outputs": [
        {
          "output_type": "stream",
          "name": "stdout",
          "text": [
            "Validation Score:  0.8843055555555556\n",
            "f1 Score:  0.9335051487609903\n",
            "ROC Score:  0.756513657770796\n",
            "              precision    recall  f1-score   support\n",
            "\n",
            "           0       0.53      0.59      0.56      6199\n",
            "           1       0.94      0.93      0.93     44201\n",
            "\n",
            "    accuracy                           0.88     50400\n",
            "   macro avg       0.73      0.76      0.74     50400\n",
            "weighted avg       0.89      0.88      0.89     50400\n",
            "\n"
          ]
        }
      ]
    }
  ]
}