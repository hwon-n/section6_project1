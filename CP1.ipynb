{
  "nbformat": 4,
  "nbformat_minor": 0,
  "metadata": {
    "colab": {
      "name": "CP1.ipynb",
      "provenance": [],
      "authorship_tag": "ABX9TyOI9fZi5dYa1mTtCYZTD4pG",
      "include_colab_link": true
    },
    "kernelspec": {
      "name": "python3",
      "display_name": "Python 3"
    },
    "language_info": {
      "name": "python"
    }
  },
  "cells": [
    {
      "cell_type": "markdown",
      "metadata": {
        "id": "view-in-github",
        "colab_type": "text"
      },
      "source": [
        "<a href=\"https://colab.research.google.com/github/hwon-n/section6_project1/blob/main/CP1.ipynb\" target=\"_parent\"><img src=\"https://colab.research.google.com/assets/colab-badge.svg\" alt=\"Open In Colab\"/></a>"
      ]
    },
    {
      "cell_type": "code",
      "source": [
        "from google.colab import drive\n",
        "drive.mount('/content/drive')"
      ],
      "metadata": {
        "colab": {
          "base_uri": "https://localhost:8080/"
        },
        "id": "efzqSLF6cixu",
        "outputId": "c8b398ea-272e-4152-af3e-04de78d64ffe"
      },
      "execution_count": 51,
      "outputs": [
        {
          "output_type": "stream",
          "name": "stdout",
          "text": [
            "Drive already mounted at /content/drive; to attempt to forcibly remount, call drive.mount(\"/content/drive\", force_remount=True).\n"
          ]
        }
      ]
    },
    {
      "cell_type": "code",
      "source": [
        "!pip install yellowbrick"
      ],
      "metadata": {
        "id": "dTMOouBx5Rqi",
        "outputId": "b3b710f0-6bfb-40e9-f388-5ee0cf3f5abc",
        "colab": {
          "base_uri": "https://localhost:8080/"
        }
      },
      "execution_count": 133,
      "outputs": [
        {
          "output_type": "stream",
          "name": "stdout",
          "text": [
            "Requirement already satisfied: yellowbrick in /usr/local/lib/python3.7/dist-packages (1.4)\n",
            "Requirement already satisfied: scikit-learn>=1.0.0 in /usr/local/lib/python3.7/dist-packages (from yellowbrick) (1.0.2)\n",
            "Requirement already satisfied: matplotlib!=3.0.0,>=2.0.2 in /usr/local/lib/python3.7/dist-packages (from yellowbrick) (3.2.2)\n",
            "Requirement already satisfied: numpy>=1.16.0 in /usr/local/lib/python3.7/dist-packages (from yellowbrick) (1.21.5)\n",
            "Requirement already satisfied: scipy>=1.0.0 in /usr/local/lib/python3.7/dist-packages (from yellowbrick) (1.4.1)\n",
            "Requirement already satisfied: cycler>=0.10.0 in /usr/local/lib/python3.7/dist-packages (from yellowbrick) (0.11.0)\n",
            "Requirement already satisfied: pyparsing!=2.0.4,!=2.1.2,!=2.1.6,>=2.0.1 in /usr/local/lib/python3.7/dist-packages (from matplotlib!=3.0.0,>=2.0.2->yellowbrick) (3.0.7)\n",
            "Requirement already satisfied: python-dateutil>=2.1 in /usr/local/lib/python3.7/dist-packages (from matplotlib!=3.0.0,>=2.0.2->yellowbrick) (2.8.2)\n",
            "Requirement already satisfied: kiwisolver>=1.0.1 in /usr/local/lib/python3.7/dist-packages (from matplotlib!=3.0.0,>=2.0.2->yellowbrick) (1.3.2)\n",
            "Requirement already satisfied: six>=1.5 in /usr/local/lib/python3.7/dist-packages (from python-dateutil>=2.1->matplotlib!=3.0.0,>=2.0.2->yellowbrick) (1.15.0)\n",
            "Requirement already satisfied: threadpoolctl>=2.0.0 in /usr/local/lib/python3.7/dist-packages (from scikit-learn>=1.0.0->yellowbrick) (3.1.0)\n",
            "Requirement already satisfied: joblib>=0.11 in /usr/local/lib/python3.7/dist-packages (from scikit-learn>=1.0.0->yellowbrick) (1.1.0)\n"
          ]
        }
      ]
    },
    {
      "cell_type": "code",
      "source": [
        "!pip install -U yellowbrick"
      ],
      "metadata": {
        "id": "Tjs8F5bL5ZiK",
        "outputId": "f52c1e84-2e18-492f-ee9b-348cd92b4f4c",
        "colab": {
          "base_uri": "https://localhost:8080/"
        }
      },
      "execution_count": 134,
      "outputs": [
        {
          "output_type": "stream",
          "name": "stdout",
          "text": [
            "Requirement already satisfied: yellowbrick in /usr/local/lib/python3.7/dist-packages (1.4)\n",
            "Requirement already satisfied: cycler>=0.10.0 in /usr/local/lib/python3.7/dist-packages (from yellowbrick) (0.11.0)\n",
            "Requirement already satisfied: scikit-learn>=1.0.0 in /usr/local/lib/python3.7/dist-packages (from yellowbrick) (1.0.2)\n",
            "Requirement already satisfied: numpy>=1.16.0 in /usr/local/lib/python3.7/dist-packages (from yellowbrick) (1.21.5)\n",
            "Requirement already satisfied: scipy>=1.0.0 in /usr/local/lib/python3.7/dist-packages (from yellowbrick) (1.4.1)\n",
            "Requirement already satisfied: matplotlib!=3.0.0,>=2.0.2 in /usr/local/lib/python3.7/dist-packages (from yellowbrick) (3.2.2)\n",
            "Requirement already satisfied: python-dateutil>=2.1 in /usr/local/lib/python3.7/dist-packages (from matplotlib!=3.0.0,>=2.0.2->yellowbrick) (2.8.2)\n",
            "Requirement already satisfied: kiwisolver>=1.0.1 in /usr/local/lib/python3.7/dist-packages (from matplotlib!=3.0.0,>=2.0.2->yellowbrick) (1.3.2)\n",
            "Requirement already satisfied: pyparsing!=2.0.4,!=2.1.2,!=2.1.6,>=2.0.1 in /usr/local/lib/python3.7/dist-packages (from matplotlib!=3.0.0,>=2.0.2->yellowbrick) (3.0.7)\n",
            "Requirement already satisfied: six>=1.5 in /usr/local/lib/python3.7/dist-packages (from python-dateutil>=2.1->matplotlib!=3.0.0,>=2.0.2->yellowbrick) (1.15.0)\n",
            "Requirement already satisfied: threadpoolctl>=2.0.0 in /usr/local/lib/python3.7/dist-packages (from scikit-learn>=1.0.0->yellowbrick) (3.1.0)\n",
            "Requirement already satisfied: joblib>=0.11 in /usr/local/lib/python3.7/dist-packages (from scikit-learn>=1.0.0->yellowbrick) (1.1.0)\n"
          ]
        }
      ]
    },
    {
      "cell_type": "code",
      "source": [
        "!pip install category_encoders"
      ],
      "metadata": {
        "id": "d6OcO3NFNjlN",
        "outputId": "1c7be645-c5ed-4294-eb3a-bbf3645cd592",
        "colab": {
          "base_uri": "https://localhost:8080/"
        }
      },
      "execution_count": 52,
      "outputs": [
        {
          "output_type": "stream",
          "name": "stdout",
          "text": [
            "Requirement already satisfied: category_encoders in /usr/local/lib/python3.7/dist-packages (2.3.0)\n",
            "Requirement already satisfied: pandas>=0.21.1 in /usr/local/lib/python3.7/dist-packages (from category_encoders) (1.3.5)\n",
            "Requirement already satisfied: patsy>=0.5.1 in /usr/local/lib/python3.7/dist-packages (from category_encoders) (0.5.2)\n",
            "Requirement already satisfied: statsmodels>=0.9.0 in /usr/local/lib/python3.7/dist-packages (from category_encoders) (0.10.2)\n",
            "Requirement already satisfied: numpy>=1.14.0 in /usr/local/lib/python3.7/dist-packages (from category_encoders) (1.21.5)\n",
            "Requirement already satisfied: scipy>=1.0.0 in /usr/local/lib/python3.7/dist-packages (from category_encoders) (1.4.1)\n",
            "Requirement already satisfied: scikit-learn>=0.20.0 in /usr/local/lib/python3.7/dist-packages (from category_encoders) (1.0.2)\n",
            "Requirement already satisfied: python-dateutil>=2.7.3 in /usr/local/lib/python3.7/dist-packages (from pandas>=0.21.1->category_encoders) (2.8.2)\n",
            "Requirement already satisfied: pytz>=2017.3 in /usr/local/lib/python3.7/dist-packages (from pandas>=0.21.1->category_encoders) (2018.9)\n",
            "Requirement already satisfied: six in /usr/local/lib/python3.7/dist-packages (from patsy>=0.5.1->category_encoders) (1.15.0)\n",
            "Requirement already satisfied: threadpoolctl>=2.0.0 in /usr/local/lib/python3.7/dist-packages (from scikit-learn>=0.20.0->category_encoders) (3.1.0)\n",
            "Requirement already satisfied: joblib>=0.11 in /usr/local/lib/python3.7/dist-packages (from scikit-learn>=0.20.0->category_encoders) (1.1.0)\n"
          ]
        }
      ]
    },
    {
      "cell_type": "code",
      "source": [
        "# !pip install -U pandas-profiling"
      ],
      "metadata": {
        "id": "D-X4QPnSicHe"
      },
      "execution_count": 53,
      "outputs": []
    },
    {
      "cell_type": "code",
      "source": [
        "import pandas as pd\n",
        "import pandas_profiling\n",
        "import seaborn as sns\n",
        "import matplotlib.pyplot as plt\n",
        "from sklearn.model_selection import train_test_split"
      ],
      "metadata": {
        "id": "MDvuWtqlcvBe"
      },
      "execution_count": 54,
      "outputs": []
    },
    {
      "cell_type": "code",
      "source": [
        "# 데이터 불러오기\n",
        "\n",
        "train = pd.read_csv('/content/drive/MyDrive/Training Data.csv')\n",
        "\n",
        "train.rename(columns = {'Married/Single': 'Married_Or_Single'}, inplace = True)\n",
        "\n",
        "target = 'Risk_Flag'\n",
        "train, test = train_test_split(train, train_size = 0.8, random_state = 42, stratify = train[target])\n",
        "train, val = train_test_split(train, train_size = 0.8, random_state = 42, stratify = train[target])\n",
        "\n",
        "train.shape, val.shape, test.shape"
      ],
      "metadata": {
        "colab": {
          "base_uri": "https://localhost:8080/"
        },
        "id": "t-DJGq_GhEfy",
        "outputId": "118018d2-6287-4176-c08b-c00a9261ca6a"
      },
      "execution_count": 55,
      "outputs": [
        {
          "output_type": "execute_result",
          "data": {
            "text/plain": [
              "((161280, 13), (40320, 13), (50400, 13))"
            ]
          },
          "metadata": {},
          "execution_count": 55
        }
      ]
    },
    {
      "cell_type": "markdown",
      "source": [
        "## 데이터 확인\n"
      ],
      "metadata": {
        "id": "HAU0Sj4E0pIX"
      }
    },
    {
      "cell_type": "code",
      "source": [
        "# train.profile_report()"
      ],
      "metadata": {
        "id": "MXQ3YiEximcn"
      },
      "execution_count": 56,
      "outputs": []
    },
    {
      "cell_type": "code",
      "source": [
        "train.head().T"
      ],
      "metadata": {
        "id": "IjRsf_8TDJXV",
        "outputId": "00e8e117-0722-440b-f691-8c5cc5f84652",
        "colab": {
          "base_uri": "https://localhost:8080/",
          "height": 521
        }
      },
      "execution_count": 57,
      "outputs": [
        {
          "output_type": "execute_result",
          "data": {
            "text/html": [
              "\n",
              "  <div id=\"df-1fd703cc-1b27-49ec-acca-d4c4abee46ba\">\n",
              "    <div class=\"colab-df-container\">\n",
              "      <div>\n",
              "<style scoped>\n",
              "    .dataframe tbody tr th:only-of-type {\n",
              "        vertical-align: middle;\n",
              "    }\n",
              "\n",
              "    .dataframe tbody tr th {\n",
              "        vertical-align: top;\n",
              "    }\n",
              "\n",
              "    .dataframe thead th {\n",
              "        text-align: right;\n",
              "    }\n",
              "</style>\n",
              "<table border=\"1\" class=\"dataframe\">\n",
              "  <thead>\n",
              "    <tr style=\"text-align: right;\">\n",
              "      <th></th>\n",
              "      <th>81706</th>\n",
              "      <th>71073</th>\n",
              "      <th>101509</th>\n",
              "      <th>122745</th>\n",
              "      <th>45546</th>\n",
              "    </tr>\n",
              "  </thead>\n",
              "  <tbody>\n",
              "    <tr>\n",
              "      <th>Id</th>\n",
              "      <td>81707</td>\n",
              "      <td>71074</td>\n",
              "      <td>101510</td>\n",
              "      <td>122746</td>\n",
              "      <td>45547</td>\n",
              "    </tr>\n",
              "    <tr>\n",
              "      <th>Income</th>\n",
              "      <td>6239581</td>\n",
              "      <td>9339198</td>\n",
              "      <td>12608</td>\n",
              "      <td>5453088</td>\n",
              "      <td>4859415</td>\n",
              "    </tr>\n",
              "    <tr>\n",
              "      <th>Age</th>\n",
              "      <td>38</td>\n",
              "      <td>67</td>\n",
              "      <td>64</td>\n",
              "      <td>34</td>\n",
              "      <td>23</td>\n",
              "    </tr>\n",
              "    <tr>\n",
              "      <th>Experience</th>\n",
              "      <td>8</td>\n",
              "      <td>14</td>\n",
              "      <td>19</td>\n",
              "      <td>20</td>\n",
              "      <td>13</td>\n",
              "    </tr>\n",
              "    <tr>\n",
              "      <th>Married_Or_Single</th>\n",
              "      <td>single</td>\n",
              "      <td>married</td>\n",
              "      <td>single</td>\n",
              "      <td>single</td>\n",
              "      <td>single</td>\n",
              "    </tr>\n",
              "    <tr>\n",
              "      <th>House_Ownership</th>\n",
              "      <td>rented</td>\n",
              "      <td>rented</td>\n",
              "      <td>norent_noown</td>\n",
              "      <td>norent_noown</td>\n",
              "      <td>rented</td>\n",
              "    </tr>\n",
              "    <tr>\n",
              "      <th>Car_Ownership</th>\n",
              "      <td>yes</td>\n",
              "      <td>yes</td>\n",
              "      <td>no</td>\n",
              "      <td>yes</td>\n",
              "      <td>no</td>\n",
              "    </tr>\n",
              "    <tr>\n",
              "      <th>Profession</th>\n",
              "      <td>Air_traffic_controller</td>\n",
              "      <td>Hotel_Manager</td>\n",
              "      <td>Physician</td>\n",
              "      <td>Firefighter</td>\n",
              "      <td>Geologist</td>\n",
              "    </tr>\n",
              "    <tr>\n",
              "      <th>CITY</th>\n",
              "      <td>Thane</td>\n",
              "      <td>Guntakal</td>\n",
              "      <td>Dehradun</td>\n",
              "      <td>Chennai</td>\n",
              "      <td>Bhilwara</td>\n",
              "    </tr>\n",
              "    <tr>\n",
              "      <th>STATE</th>\n",
              "      <td>Maharashtra</td>\n",
              "      <td>Andhra_Pradesh</td>\n",
              "      <td>Uttarakhand</td>\n",
              "      <td>Tamil_Nadu</td>\n",
              "      <td>Rajasthan</td>\n",
              "    </tr>\n",
              "    <tr>\n",
              "      <th>CURRENT_JOB_YRS</th>\n",
              "      <td>8</td>\n",
              "      <td>11</td>\n",
              "      <td>5</td>\n",
              "      <td>9</td>\n",
              "      <td>10</td>\n",
              "    </tr>\n",
              "    <tr>\n",
              "      <th>CURRENT_HOUSE_YRS</th>\n",
              "      <td>13</td>\n",
              "      <td>14</td>\n",
              "      <td>11</td>\n",
              "      <td>10</td>\n",
              "      <td>13</td>\n",
              "    </tr>\n",
              "    <tr>\n",
              "      <th>Risk_Flag</th>\n",
              "      <td>1</td>\n",
              "      <td>0</td>\n",
              "      <td>0</td>\n",
              "      <td>0</td>\n",
              "      <td>0</td>\n",
              "    </tr>\n",
              "  </tbody>\n",
              "</table>\n",
              "</div>\n",
              "      <button class=\"colab-df-convert\" onclick=\"convertToInteractive('df-1fd703cc-1b27-49ec-acca-d4c4abee46ba')\"\n",
              "              title=\"Convert this dataframe to an interactive table.\"\n",
              "              style=\"display:none;\">\n",
              "        \n",
              "  <svg xmlns=\"http://www.w3.org/2000/svg\" height=\"24px\"viewBox=\"0 0 24 24\"\n",
              "       width=\"24px\">\n",
              "    <path d=\"M0 0h24v24H0V0z\" fill=\"none\"/>\n",
              "    <path d=\"M18.56 5.44l.94 2.06.94-2.06 2.06-.94-2.06-.94-.94-2.06-.94 2.06-2.06.94zm-11 1L8.5 8.5l.94-2.06 2.06-.94-2.06-.94L8.5 2.5l-.94 2.06-2.06.94zm10 10l.94 2.06.94-2.06 2.06-.94-2.06-.94-.94-2.06-.94 2.06-2.06.94z\"/><path d=\"M17.41 7.96l-1.37-1.37c-.4-.4-.92-.59-1.43-.59-.52 0-1.04.2-1.43.59L10.3 9.45l-7.72 7.72c-.78.78-.78 2.05 0 2.83L4 21.41c.39.39.9.59 1.41.59.51 0 1.02-.2 1.41-.59l7.78-7.78 2.81-2.81c.8-.78.8-2.07 0-2.86zM5.41 20L4 18.59l7.72-7.72 1.47 1.35L5.41 20z\"/>\n",
              "  </svg>\n",
              "      </button>\n",
              "      \n",
              "  <style>\n",
              "    .colab-df-container {\n",
              "      display:flex;\n",
              "      flex-wrap:wrap;\n",
              "      gap: 12px;\n",
              "    }\n",
              "\n",
              "    .colab-df-convert {\n",
              "      background-color: #E8F0FE;\n",
              "      border: none;\n",
              "      border-radius: 50%;\n",
              "      cursor: pointer;\n",
              "      display: none;\n",
              "      fill: #1967D2;\n",
              "      height: 32px;\n",
              "      padding: 0 0 0 0;\n",
              "      width: 32px;\n",
              "    }\n",
              "\n",
              "    .colab-df-convert:hover {\n",
              "      background-color: #E2EBFA;\n",
              "      box-shadow: 0px 1px 2px rgba(60, 64, 67, 0.3), 0px 1px 3px 1px rgba(60, 64, 67, 0.15);\n",
              "      fill: #174EA6;\n",
              "    }\n",
              "\n",
              "    [theme=dark] .colab-df-convert {\n",
              "      background-color: #3B4455;\n",
              "      fill: #D2E3FC;\n",
              "    }\n",
              "\n",
              "    [theme=dark] .colab-df-convert:hover {\n",
              "      background-color: #434B5C;\n",
              "      box-shadow: 0px 1px 3px 1px rgba(0, 0, 0, 0.15);\n",
              "      filter: drop-shadow(0px 1px 2px rgba(0, 0, 0, 0.3));\n",
              "      fill: #FFFFFF;\n",
              "    }\n",
              "  </style>\n",
              "\n",
              "      <script>\n",
              "        const buttonEl =\n",
              "          document.querySelector('#df-1fd703cc-1b27-49ec-acca-d4c4abee46ba button.colab-df-convert');\n",
              "        buttonEl.style.display =\n",
              "          google.colab.kernel.accessAllowed ? 'block' : 'none';\n",
              "\n",
              "        async function convertToInteractive(key) {\n",
              "          const element = document.querySelector('#df-1fd703cc-1b27-49ec-acca-d4c4abee46ba');\n",
              "          const dataTable =\n",
              "            await google.colab.kernel.invokeFunction('convertToInteractive',\n",
              "                                                     [key], {});\n",
              "          if (!dataTable) return;\n",
              "\n",
              "          const docLinkHtml = 'Like what you see? Visit the ' +\n",
              "            '<a target=\"_blank\" href=https://colab.research.google.com/notebooks/data_table.ipynb>data table notebook</a>'\n",
              "            + ' to learn more about interactive tables.';\n",
              "          element.innerHTML = '';\n",
              "          dataTable['output_type'] = 'display_data';\n",
              "          await google.colab.output.renderOutput(dataTable, element);\n",
              "          const docLink = document.createElement('div');\n",
              "          docLink.innerHTML = docLinkHtml;\n",
              "          element.appendChild(docLink);\n",
              "        }\n",
              "      </script>\n",
              "    </div>\n",
              "  </div>\n",
              "  "
            ],
            "text/plain": [
              "                                    81706  ...      45546\n",
              "Id                                  81707  ...      45547\n",
              "Income                            6239581  ...    4859415\n",
              "Age                                    38  ...         23\n",
              "Experience                              8  ...         13\n",
              "Married_Or_Single                  single  ...     single\n",
              "House_Ownership                    rented  ...     rented\n",
              "Car_Ownership                         yes  ...         no\n",
              "Profession         Air_traffic_controller  ...  Geologist\n",
              "CITY                                Thane  ...   Bhilwara\n",
              "STATE                         Maharashtra  ...  Rajasthan\n",
              "CURRENT_JOB_YRS                         8  ...         10\n",
              "CURRENT_HOUSE_YRS                      13  ...         13\n",
              "Risk_Flag                               1  ...          0\n",
              "\n",
              "[13 rows x 5 columns]"
            ]
          },
          "metadata": {},
          "execution_count": 57
        }
      ]
    },
    {
      "cell_type": "code",
      "source": [
        "%matplotlib inline\n",
        "\n",
        "ax = sns.set_palette('muted')\n",
        "ax = sns.countplot(data = train, x = target)\n",
        "\n",
        "plt.show()\n",
        "\n",
        "# 0 -> 1로 바꿔주기\n",
        "# 0: 대출 가능, 1: 대출 불가능 "
      ],
      "metadata": {
        "colab": {
          "base_uri": "https://localhost:8080/",
          "height": 279
        },
        "id": "s2msobIt3Cij",
        "outputId": "c562535d-86a3-41b3-d0bd-3c2d50223002"
      },
      "execution_count": 58,
      "outputs": [
        {
          "output_type": "display_data",
          "data": {
            "image/png": "[encoded data removed]",
            "text/plain": [
              "<Figure size 432x288 with 1 Axes>"
            ]
          },
          "metadata": {
            "needs_background": "light"
          }
        }
      ]
    },
    {
      "cell_type": "code",
      "source": [
        "# STATE 탐색\n",
        "\n",
        "plt.figure(figsize=(25,7))\n",
        "ax = sns.countplot(data = train, x = 'STATE')\n",
        "plt.show()"
      ],
      "metadata": {
        "colab": {
          "base_uri": "https://localhost:8080/",
          "height": 205
        },
        "id": "LYZf8E0442GA",
        "outputId": "d1e794b2-984a-44f6-ad40-e7e780a7f59c"
      },
      "execution_count": 59,
      "outputs": [
        {
          "output_type": "display_data",
          "data": {
            "image/png": "[encoded data removed]",
            "text/plain": [
              "<Figure size 1800x504 with 1 Axes>"
            ]
          },
          "metadata": {
            "needs_background": "light"
          }
        }
      ]
    },
    {
      "cell_type": "code",
      "source": [
        "# Experience 탐색\n",
        "\n",
        "plt.figure(figsize=(10,5))\n",
        "ax = sns.countplot(data = train, x = 'Experience')\n",
        "plt.show()"
      ],
      "metadata": {
        "colab": {
          "base_uri": "https://localhost:8080/",
          "height": 334
        },
        "id": "HpeluvDK7WGM",
        "outputId": "f2f42ab6-e3c8-40f5-b9fa-5193129b335e"
      },
      "execution_count": 60,
      "outputs": [
        {
          "output_type": "display_data",
          "data": {
            "image/png": "[encoded data removed]",
            "text/plain": [
              "<Figure size 720x360 with 1 Axes>"
            ]
          },
          "metadata": {
            "needs_background": "light"
          }
        }
      ]
    },
    {
      "cell_type": "code",
      "source": [
        "# Profession 탐색\n",
        "\n",
        "plt.figure(figsize=(25, 7))\n",
        "ax = sns.countplot(data = train, x = 'Profession')\n",
        "plt.show()"
      ],
      "metadata": {
        "colab": {
          "base_uri": "https://localhost:8080/",
          "height": 207
        },
        "id": "vAO6LOiL7kCR",
        "outputId": "c2aa5698-fac0-4854-b750-6f7835bf2655"
      },
      "execution_count": 61,
      "outputs": [
        {
          "output_type": "display_data",
          "data": {
            "image/png": "[encoded data removed]",
            "text/plain": [
              "<Figure size 1800x504 with 1 Axes>"
            ]
          },
          "metadata": {
            "needs_background": "light"
          }
        }
      ]
    },
    {
      "cell_type": "code",
      "source": [
        "train.Profession.unique()"
      ],
      "metadata": {
        "id": "h6InhBA1bfsk",
        "outputId": "4c418aad-1eff-43be-8d91-32c35000a791",
        "colab": {
          "base_uri": "https://localhost:8080/"
        }
      },
      "execution_count": 62,
      "outputs": [
        {
          "output_type": "execute_result",
          "data": {
            "text/plain": [
              "array(['Air_traffic_controller', 'Hotel_Manager', 'Physician',\n",
              "       'Firefighter', 'Geologist', 'Artist', 'Computer_operator',\n",
              "       'Secretary', 'Surgeon', 'Chemical_engineer', 'Technician',\n",
              "       'Drafter', 'Librarian', 'Technology_specialist', 'Official',\n",
              "       'Web_designer', 'Magistrate', 'Financial_Analyst', 'Statistician',\n",
              "       'Consultant', 'Economist', 'Civil_servant', 'Mechanical_engineer',\n",
              "       'Software_Developer', 'Designer', 'Lawyer', 'Politician',\n",
              "       'Microbiologist', 'Technical_writer', 'Graphic_Designer',\n",
              "       'Architect', 'Aviator', 'Civil_engineer', 'Industrial_Engineer',\n",
              "       'Chartered_Accountant', 'Chef', 'Engineer', 'Police_officer',\n",
              "       'Psychologist', 'Petroleum_Engineer', 'Computer_hardware_engineer',\n",
              "       'Design_Engineer', 'Dentist', 'Army_officer',\n",
              "       'Biomedical_Engineer', 'Flight_attendant', 'Fashion_Designer',\n",
              "       'Comedian', 'Scientist', 'Analyst', 'Surveyor'], dtype=object)"
            ]
          },
          "metadata": {},
          "execution_count": 62
        }
      ]
    },
    {
      "cell_type": "code",
      "source": [
        "train.STATE.unique()"
      ],
      "metadata": {
        "id": "UUM19o29byUH",
        "outputId": "417a8b27-c7e9-46d1-952e-01119af0a7c1",
        "colab": {
          "base_uri": "https://localhost:8080/"
        }
      },
      "execution_count": 63,
      "outputs": [
        {
          "output_type": "execute_result",
          "data": {
            "text/plain": [
              "array(['Maharashtra', 'Andhra_Pradesh', 'Uttarakhand', 'Tamil_Nadu',\n",
              "       'Rajasthan', 'Telangana', 'Kerala', 'Odisha', 'Haryana',\n",
              "       'Uttar_Pradesh', 'Madhya_Pradesh', 'Karnataka', 'Bihar',\n",
              "       'Jharkhand', 'Assam', 'West_Bengal', 'Gujarat', 'Tripura',\n",
              "       'Chhattisgarh', 'Delhi', 'Himachal_Pradesh', 'Jammu_and_Kashmir',\n",
              "       'Sikkim', 'Punjab', 'Manipur', 'Mizoram', 'Puducherry',\n",
              "       'Uttar_Pradesh[5]', 'Chandigarh'], dtype=object)"
            ]
          },
          "metadata": {},
          "execution_count": 63
        }
      ]
    },
    {
      "cell_type": "code",
      "source": [
        "train.CITY.unique()"
      ],
      "metadata": {
        "id": "oF1pKRX0b3qK",
        "outputId": "3fa398d0-6b5c-4546-f107-e6d4dcd6a56f",
        "colab": {
          "base_uri": "https://localhost:8080/"
        }
      },
      "execution_count": 64,
      "outputs": [
        {
          "output_type": "execute_result",
          "data": {
            "text/plain": [
              "array(['Thane', 'Guntakal', 'Dehradun', 'Chennai', 'Bhilwara',\n",
              "       'Proddatur', 'Malegaon', 'Warangal[11][12]', 'Amravati',\n",
              "       'Kottayam', 'Nandyal', 'Kota[6]', 'Cuttack', 'Bhiwani',\n",
              "       'Mahbubnagar', 'Vijayanagaram', 'Lucknow', 'Varanasi', 'Katni',\n",
              "       'Mangalore', 'Kishanganj[35]', 'Hosur', 'Giridih',\n",
              "       'Visakhapatnam[4]', 'Jorhat', 'Mau', 'Thanjavur', 'Hapur',\n",
              "       'Panihati', 'Ambattur', 'Jamnagar', 'Sikar', 'Agartala',\n",
              "       'Bihar_Sharif', 'Raipur', 'Salem', 'Chittoor[28]', 'Malda',\n",
              "       'Srikakulam', 'Tadipatri', 'Kakinada', 'Ajmer', 'Nagpur',\n",
              "       'Machilipatnam', 'Bellary', 'Jhansi', 'Pudukkottai',\n",
              "       'Mira-Bhayandar', 'Bareilly', 'Madurai', 'Sirsa', 'Ghaziabad',\n",
              "       'Madanapalle', 'Ongole', 'Bijapur', 'Tenali', 'Tezpur',\n",
              "       'Berhampur', 'Panipat', 'Naihati', 'Bhalswa_Jahangir_Pur',\n",
              "       'Silchar', 'South_Dumdum', 'Navi_Mumbai', 'Shimla', 'Orai',\n",
              "       'Bahraich', 'Bhavnagar', 'Shahjahanpur', 'Ratlam', 'New_Delhi',\n",
              "       'Ujjain', 'Jammu[16]', 'Bulandshahr', 'Nagaon', 'Hospet',\n",
              "       'Haridwar', 'Vijayawada', 'Arrah', 'Dehri[30]', 'Kurnool[18]',\n",
              "       'Thrissur', 'Medininagar', 'Erode[17]', 'Gorakhpur', 'Eluru[25]',\n",
              "       'Vellore', 'Satara', 'Purnia[26]', 'Farrukhabad', 'Bhiwandi',\n",
              "       'Munger', 'Kollam', 'Davanagere', 'Guna', 'Nanded', 'Gangtok',\n",
              "       'Jodhpur', 'Barasat', 'Bhimavaram', 'Anantapur', 'Suryapet',\n",
              "       'Bhilai', 'Chandrapur', 'Loni', 'Karaikudi', 'Pimpri-Chinchwad',\n",
              "       'Burhanpur', 'Belgaum', 'Nagercoil', 'Chapra', 'Katihar',\n",
              "       'Sambhal', 'Raurkela_Industrial_Township', 'Bettiah[33]',\n",
              "       'Tiruvottiyur', 'Udupi', 'Jabalpur', 'Ambarnath', 'Dewas',\n",
              "       'Raebareli', 'Nellore[14][15]', 'Patiala', 'Bidhannagar', 'Pali',\n",
              "       'Gurgaon', 'Agra', 'Guntur[13]', 'Mehsana', 'Raiganj', 'Kozhikode',\n",
              "       'Hajipur[31]', 'Baranagar', 'Bhatpara', 'Parbhani', 'Hazaribagh',\n",
              "       'Kulti', 'Thoothukudi', 'Jalna', 'Akola', 'Jalandhar', 'Bathinda',\n",
              "       'Dhanbad', 'Rajpur_Sonarpur', 'Jalgaon', 'Ramgarh', 'Kharagpur',\n",
              "       'Panvel', 'Nizamabad', 'Kalyan-Dombivli', 'Kumbakonam',\n",
              "       'Mysore[7][8][9]', 'Gandhinagar', 'Ranchi', 'Motihari[34]',\n",
              "       'Alwar', 'Jamalpur[36]', 'Vadodara', 'Begusarai', 'Bhind',\n",
              "       'Rajkot', 'Ramagundam[27]', 'Rajahmundry[19][20]', 'Bharatpur',\n",
              "       'Secunderabad', 'Bilaspur', 'Rewa', 'Pallavaram', 'Karnal',\n",
              "       'Jaunpur', 'Anantapuram[24]', 'Khora,_Ghaziabad', 'Morbi',\n",
              "       'Indore', 'Imphal', 'Avadi', 'Aizawl', 'Narasaraopet',\n",
              "       'Dharmavaram', 'Amaravati', 'Kamarhati', 'Kochi', 'Kanpur',\n",
              "       'Adoni', 'Delhi_city', 'Raichur', 'Tiruchirappalli[10]',\n",
              "       'Coimbatore', 'Karimnagar', 'Tinsukia', 'Surat', 'Srinagar',\n",
              "       'Aurangabad', 'Hubliâ€“Dharwad', 'Ahmednagar', 'Unnao', 'Gudivada',\n",
              "       'Sonipat', 'Ozhukarai', 'Tumkur', 'Alappuzha', 'Shimoga',\n",
              "       'Sambalpur', 'Jaipur', 'Saharanpur', 'Bhagalpur', 'Kolkata',\n",
              "       'Karawal_Nagar', 'Berhampore', 'Khandwa', 'Deoghar', 'Kadapa[23]',\n",
              "       'Solapur', 'Aligarh', 'Asansol', 'Bokaro', 'Dhule', 'Nadiad',\n",
              "       'Bhusawal', 'Satna', 'Tiruppur', 'Korba', 'Gopalpur', 'Firozabad',\n",
              "       'Bidar', 'Allahabad', 'Noida', 'Ahmedabad', 'Etawah', 'Maheshtala',\n",
              "       'Jamshedpur', 'Ulhasnagar', 'Bangalore', 'Pune', 'Pondicherry',\n",
              "       'Junagadh', 'Guwahati', 'Durg', 'Dibrugarh', 'Tirupati[21][22]',\n",
              "       'Shivpuri', 'Faridabad', 'Rohtak', 'Uluberia', 'Bhubaneswar',\n",
              "       'Moradabad', 'Mango', 'Mathura', 'Madhyamgram', 'Ludhiana',\n",
              "       'Thiruvananthapuram', 'Latur', 'Phagwara', 'Miryalaguda',\n",
              "       'Amritsar', 'Ichalkaranji', 'Kirari_Suleman_Nagar', 'Tirunelveli',\n",
              "       'Bally', 'Saharsa[29]', 'Jehanabad[38]', 'Patna', 'Howrah',\n",
              "       'Gulbarga', 'Fatehpur', 'Hindupur', 'Hyderabad', 'Meerut', 'Anand',\n",
              "       'Bongaigaon', 'Serampore', 'Sultan_Pur_Majra', 'Ballia',\n",
              "       'Yamunanagar', 'Tadepalligudem', 'Ambala', 'Muzaffarnagar',\n",
              "       'Bhopal', 'Gwalior', 'Siwan[32]', 'Danapur', 'Vasai-Virar',\n",
              "       'Chinsurah', 'Mirzapur', 'Amroha', 'Gandhidham', 'Dindigul',\n",
              "       'Surendranagar_Dudhrej', 'Aurangabad[39]', 'Buxar[37]', 'Khammam',\n",
              "       'Darbhanga', 'Nangloi_Jat', 'Udaipur', 'Rourkela', 'Sagar',\n",
              "       'Kolhapur', 'Nashik', 'Durgapur', 'Chandigarh_city', 'Panchkula',\n",
              "       'Haldia', 'Kavali', 'Siliguri', 'Phusro', 'Bardhaman', 'Singrauli',\n",
              "       'Sangli-Miraj_&_Kupwad', 'Gaya', 'Muzaffarpur', 'Sri_Ganganagar',\n",
              "       'Morena', 'Bikaner', 'Rampur', 'Mumbai', 'North_Dumdum',\n",
              "       'Sasaram[30]'], dtype=object)"
            ]
          },
          "metadata": {},
          "execution_count": 64
        }
      ]
    },
    {
      "cell_type": "code",
      "source": [
        "house = train.House_Ownership.value_counts()\n",
        "car = train.Car_Ownership.value_counts()\n",
        "marr_sin = train['Married_Or_Single'].value_counts()\n",
        "\n",
        "# 색상 지정\n",
        "pink = ['#F198AF', '#9F81CD', '#EF6D6D']\n",
        "green = ['#65C18C', '#C1F4C5']\n",
        "yellow = ['#FFCC00', '#FFEE00', '#FFFF66', '#FFF18D']"
      ],
      "metadata": {
        "id": "o13j_a6CzW0Z"
      },
      "execution_count": 65,
      "outputs": []
    },
    {
      "cell_type": "code",
      "source": [
        "plt.figure(figsize = (25, 5))\n",
        "plt.subplot(1, 3, 1)\n",
        "plt.bar(house.index, house.values, color = pink)\n",
        "plt.title('House_Ownership')\n",
        "\n",
        "plt.subplot(1, 3, 2)\n",
        "plt.bar(car.index, car.values, color = yellow)\n",
        "plt.title('Car_Ownership')\n",
        "\n",
        "plt.subplot(1, 3, 3)\n",
        "plt.bar(marr_sin.index, marr_sin.values, color = green)\n",
        "plt.title('Married_Or_Single')\n",
        "\n",
        "plt.show();"
      ],
      "metadata": {
        "id": "rxatipBPcs3c",
        "outputId": "dc5ed2bc-3d98-406d-ce39-1255caa7cf03",
        "colab": {
          "base_uri": "https://localhost:8080/",
          "height": 158
        }
      },
      "execution_count": 66,
      "outputs": [
        {
          "output_type": "display_data",
          "data": {
            "image/png": "[encoded data removed]",
            "text/plain": [
              "<Figure size 1800x360 with 3 Axes>"
            ]
          },
          "metadata": {
            "needs_background": "light"
          }
        }
      ]
    },
    {
      "cell_type": "markdown",
      "source": [
        "## 데이터 전처리"
      ],
      "metadata": {
        "id": "bWhqPaJTcxXD"
      }
    },
    {
      "cell_type": "code",
      "source": [
        "# 지역 분류\n",
        "north_state = ['West_Bengal', 'Bihar', 'Assam', 'Uttarakhand', 'Uttar_Paradesh', 'Uttar_Pradesh[5]',\n",
        "               'Jammu_and_Kashmir', 'Rajasthan', 'Gujarat', 'Punjab', 'Manipur', \n",
        "                'Haryana', 'Sikkim', 'Mizoram', 'Madhya_Pradesh', 'Tripura',\n",
        "               'Jharkhand', 'Chandigarh', 'Himachal_Pradesh']\n",
        "south_state = ['Karnataka', 'Tamil_Nadu', 'Kerala', 'Andhra_Pradesh', 'Telangana', \n",
        "               'Maharashtra', 'Chhattisgarh', 'Odisha', 'Puducherry']"
      ],
      "metadata": {
        "id": "N5D9zQncc37o"
      },
      "execution_count": 67,
      "outputs": []
    },
    {
      "cell_type": "code",
      "source": [
        "# 직업 분류\n",
        "natural_sciences = ['Mechanical_engineer', 'Psychologist', 'Scientist', 'Dentist', 'Chemical_engineer',\n",
        "                    'Engineer', 'Petroleum_Engineer', 'Drafter', 'Microbiologist', 'Biomedical_Engineer',\n",
        "                    'Aviator', 'Technician', 'Surgeon', 'Architect', 'Software_Developer', \n",
        "                    'Industrial_Engineer', 'Web_designer', 'Physician', 'Air_traffic_controller',\n",
        "                    'Computer_operator', 'Civil_engineer', 'Geologist', 'Computer_hardware_engineer',\n",
        "                    'Technology_specialist']\n",
        "liberal_arts = ['Economist', 'Financial_Analyst', 'Magistrate', 'Official', 'Chef', 'Surveyor',\n",
        "                'Analyst', 'Artist', 'Politician', 'Lawyer', 'Secretary', 'Designer', 'Comedian',\n",
        "                'Statistician', 'Police_officer', 'Technical_writer', 'Chartered_Accountant',\n",
        "                'Fashion_Designer', 'Graphic_Designer', 'Consultant', 'Firefighter', 'Flight_attendant',\n",
        "                'Design_Engineer', 'Army_officer', 'Civil_servant', 'Hotel_Manager', 'Librarian']\n",
        "\n",
        "len(natural_sciences), len(liberal_arts)"
      ],
      "metadata": {
        "colab": {
          "base_uri": "https://localhost:8080/"
        },
        "id": "ocPedeMjmXlO",
        "outputId": "54b21390-f9dc-4951-c3a4-49b493505f7f"
      },
      "execution_count": 68,
      "outputs": [
        {
          "output_type": "execute_result",
          "data": {
            "text/plain": [
              "(24, 27)"
            ]
          },
          "metadata": {},
          "execution_count": 68
        }
      ]
    },
    {
      "cell_type": "code",
      "source": [
        "not_own = ['rented', 'norent_noown']"
      ],
      "metadata": {
        "id": "YHh-Vck8Y34i"
      },
      "execution_count": 69,
      "outputs": []
    },
    {
      "cell_type": "code",
      "source": [
        "def age(age):\n",
        "  if age > 60:\n",
        "    return 'over 60s'\n",
        "  elif age >= 40:\n",
        "    return '4-50s'\n",
        "  elif age >= 30:\n",
        "    return '30s'\n",
        "  else:\n",
        "    return 'under 30s'\n",
        "\n",
        "def region(state):\n",
        "  if state in north_state:\n",
        "    return 'North Area'\n",
        "  elif state in south_state:\n",
        "    return 'South Area'\n",
        "  elif state == 'Delhi':\n",
        "    return 'Capital'\n",
        "\n",
        "def exp(exp):\n",
        "  if exp <= 2:\n",
        "    return 'Entry'\n",
        "  elif exp <= 5:\n",
        "    return 'Intermediate'\n",
        "  elif exp <= 10:\n",
        "    return 'Mid'\n",
        "  else:\n",
        "    return 'Senior'\n",
        "\n",
        "\n",
        "def job_year(year):\n",
        "  if year < 5:\n",
        "    return 1\n",
        "  elif year <= 10:\n",
        "    return 2\n",
        "  else:\n",
        "    return 3\n",
        "\n",
        "def house(h):\n",
        "  if h in not_own:\n",
        "    return 'not owned'\n",
        "  else:\n",
        "    return h\n",
        "\n",
        "def prof(prof):\n",
        "  if prof in natural_sciences:\n",
        "    return 'Natural Sciences'\n",
        "  elif prof in liberal_arts:\n",
        "    return 'Liberal Arts'\n",
        "  else:\n",
        "    return 'No Info'"
      ],
      "metadata": {
        "id": "f-H229G9Blze"
      },
      "execution_count": 70,
      "outputs": []
    },
    {
      "cell_type": "code",
      "source": [
        "def feature(df):\n",
        "  cols = ['Id', 'CITY']\n",
        "\n",
        "  df.drop(columns = cols, inplace = True)\n",
        "  df.reset_index(drop = True, inplace = True)\n",
        "\n",
        "  if 'Risk_Flag' in df.columns:\n",
        "    df.Risk_Flag = df.Risk_Flag.apply(lambda x: 1 if x == 0 else 0)\n",
        "\n",
        "  df.Age = df.Age.apply(age)\n",
        "  df.CURRENT_JOB_YRS = df.CURRENT_JOB_YRS.apply(job_year)\n",
        "  df.STATE = df.STATE.apply(region)\n",
        "  df.Experience = df.Experience.apply(exp)\n",
        "  df.House_Ownership = df.House_Ownership.apply(house)\n",
        "  df.Profession = df.Profession.apply(prof)\n",
        "\n",
        "  return df"
      ],
      "metadata": {
        "id": "dclmKc7xDCm2"
      },
      "execution_count": 71,
      "outputs": []
    },
    {
      "cell_type": "code",
      "source": [
        "train = feature(train)\n",
        "val = feature(val)\n",
        "test = feature(test)"
      ],
      "metadata": {
        "id": "H6uk7Xz2FXn_"
      },
      "execution_count": 72,
      "outputs": []
    },
    {
      "cell_type": "code",
      "source": [
        "train.head().T"
      ],
      "metadata": {
        "id": "-vqkLmw1GCoK",
        "outputId": "ea84374b-d139-4e12-ddce-97906d47255b",
        "colab": {
          "base_uri": "https://localhost:8080/",
          "height": 490
        }
      },
      "execution_count": 73,
      "outputs": [
        {
          "output_type": "execute_result",
          "data": {
            "text/html": [
              "\n",
              "  <div id=\"df-221d45d0-035b-4ce4-8897-6590ff00af1d\">\n",
              "    <div class=\"colab-df-container\">\n",
              "      <div>\n",
              "<style scoped>\n",
              "    .dataframe tbody tr th:only-of-type {\n",
              "        vertical-align: middle;\n",
              "    }\n",
              "\n",
              "    .dataframe tbody tr th {\n",
              "        vertical-align: top;\n",
              "    }\n",
              "\n",
              "    .dataframe thead th {\n",
              "        text-align: right;\n",
              "    }\n",
              "</style>\n",
              "<table border=\"1\" class=\"dataframe\">\n",
              "  <thead>\n",
              "    <tr style=\"text-align: right;\">\n",
              "      <th></th>\n",
              "      <th>0</th>\n",
              "      <th>1</th>\n",
              "      <th>2</th>\n",
              "      <th>3</th>\n",
              "      <th>4</th>\n",
              "    </tr>\n",
              "  </thead>\n",
              "  <tbody>\n",
              "    <tr>\n",
              "      <th>Income</th>\n",
              "      <td>6239581</td>\n",
              "      <td>9339198</td>\n",
              "      <td>12608</td>\n",
              "      <td>5453088</td>\n",
              "      <td>4859415</td>\n",
              "    </tr>\n",
              "    <tr>\n",
              "      <th>Age</th>\n",
              "      <td>30s</td>\n",
              "      <td>over 60s</td>\n",
              "      <td>over 60s</td>\n",
              "      <td>30s</td>\n",
              "      <td>under 30s</td>\n",
              "    </tr>\n",
              "    <tr>\n",
              "      <th>Experience</th>\n",
              "      <td>Mid</td>\n",
              "      <td>Senior</td>\n",
              "      <td>Senior</td>\n",
              "      <td>Senior</td>\n",
              "      <td>Senior</td>\n",
              "    </tr>\n",
              "    <tr>\n",
              "      <th>Married_Or_Single</th>\n",
              "      <td>single</td>\n",
              "      <td>married</td>\n",
              "      <td>single</td>\n",
              "      <td>single</td>\n",
              "      <td>single</td>\n",
              "    </tr>\n",
              "    <tr>\n",
              "      <th>House_Ownership</th>\n",
              "      <td>not owned</td>\n",
              "      <td>not owned</td>\n",
              "      <td>not owned</td>\n",
              "      <td>not owned</td>\n",
              "      <td>not owned</td>\n",
              "    </tr>\n",
              "    <tr>\n",
              "      <th>Car_Ownership</th>\n",
              "      <td>yes</td>\n",
              "      <td>yes</td>\n",
              "      <td>no</td>\n",
              "      <td>yes</td>\n",
              "      <td>no</td>\n",
              "    </tr>\n",
              "    <tr>\n",
              "      <th>Profession</th>\n",
              "      <td>Natural Sciences</td>\n",
              "      <td>Liberal Arts</td>\n",
              "      <td>Natural Sciences</td>\n",
              "      <td>Liberal Arts</td>\n",
              "      <td>Natural Sciences</td>\n",
              "    </tr>\n",
              "    <tr>\n",
              "      <th>STATE</th>\n",
              "      <td>South Area</td>\n",
              "      <td>South Area</td>\n",
              "      <td>North Area</td>\n",
              "      <td>South Area</td>\n",
              "      <td>North Area</td>\n",
              "    </tr>\n",
              "    <tr>\n",
              "      <th>CURRENT_JOB_YRS</th>\n",
              "      <td>2</td>\n",
              "      <td>3</td>\n",
              "      <td>2</td>\n",
              "      <td>2</td>\n",
              "      <td>2</td>\n",
              "    </tr>\n",
              "    <tr>\n",
              "      <th>CURRENT_HOUSE_YRS</th>\n",
              "      <td>13</td>\n",
              "      <td>14</td>\n",
              "      <td>11</td>\n",
              "      <td>10</td>\n",
              "      <td>13</td>\n",
              "    </tr>\n",
              "    <tr>\n",
              "      <th>Risk_Flag</th>\n",
              "      <td>0</td>\n",
              "      <td>1</td>\n",
              "      <td>1</td>\n",
              "      <td>1</td>\n",
              "      <td>1</td>\n",
              "    </tr>\n",
              "  </tbody>\n",
              "</table>\n",
              "</div>\n",
              "      <button class=\"colab-df-convert\" onclick=\"convertToInteractive('df-221d45d0-035b-4ce4-8897-6590ff00af1d')\"\n",
              "              title=\"Convert this dataframe to an interactive table.\"\n",
              "              style=\"display:none;\">\n",
              "        \n",
              "  <svg xmlns=\"http://www.w3.org/2000/svg\" height=\"24px\"viewBox=\"0 0 24 24\"\n",
              "       width=\"24px\">\n",
              "    <path d=\"M0 0h24v24H0V0z\" fill=\"none\"/>\n",
              "    <path d=\"M18.56 5.44l.94 2.06.94-2.06 2.06-.94-2.06-.94-.94-2.06-.94 2.06-2.06.94zm-11 1L8.5 8.5l.94-2.06 2.06-.94-2.06-.94L8.5 2.5l-.94 2.06-2.06.94zm10 10l.94 2.06.94-2.06 2.06-.94-2.06-.94-.94-2.06-.94 2.06-2.06.94z\"/><path d=\"M17.41 7.96l-1.37-1.37c-.4-.4-.92-.59-1.43-.59-.52 0-1.04.2-1.43.59L10.3 9.45l-7.72 7.72c-.78.78-.78 2.05 0 2.83L4 21.41c.39.39.9.59 1.41.59.51 0 1.02-.2 1.41-.59l7.78-7.78 2.81-2.81c.8-.78.8-2.07 0-2.86zM5.41 20L4 18.59l7.72-7.72 1.47 1.35L5.41 20z\"/>\n",
              "  </svg>\n",
              "      </button>\n",
              "      \n",
              "  <style>\n",
              "    .colab-df-container {\n",
              "      display:flex;\n",
              "      flex-wrap:wrap;\n",
              "      gap: 12px;\n",
              "    }\n",
              "\n",
              "    .colab-df-convert {\n",
              "      background-color: #E8F0FE;\n",
              "      border: none;\n",
              "      border-radius: 50%;\n",
              "      cursor: pointer;\n",
              "      display: none;\n",
              "      fill: #1967D2;\n",
              "      height: 32px;\n",
              "      padding: 0 0 0 0;\n",
              "      width: 32px;\n",
              "    }\n",
              "\n",
              "    .colab-df-convert:hover {\n",
              "      background-color: #E2EBFA;\n",
              "      box-shadow: 0px 1px 2px rgba(60, 64, 67, 0.3), 0px 1px 3px 1px rgba(60, 64, 67, 0.15);\n",
              "      fill: #174EA6;\n",
              "    }\n",
              "\n",
              "    [theme=dark] .colab-df-convert {\n",
              "      background-color: #3B4455;\n",
              "      fill: #D2E3FC;\n",
              "    }\n",
              "\n",
              "    [theme=dark] .colab-df-convert:hover {\n",
              "      background-color: #434B5C;\n",
              "      box-shadow: 0px 1px 3px 1px rgba(0, 0, 0, 0.15);\n",
              "      filter: drop-shadow(0px 1px 2px rgba(0, 0, 0, 0.3));\n",
              "      fill: #FFFFFF;\n",
              "    }\n",
              "  </style>\n",
              "\n",
              "      <script>\n",
              "        const buttonEl =\n",
              "          document.querySelector('#df-221d45d0-035b-4ce4-8897-6590ff00af1d button.colab-df-convert');\n",
              "        buttonEl.style.display =\n",
              "          google.colab.kernel.accessAllowed ? 'block' : 'none';\n",
              "\n",
              "        async function convertToInteractive(key) {\n",
              "          const element = document.querySelector('#df-221d45d0-035b-4ce4-8897-6590ff00af1d');\n",
              "          const dataTable =\n",
              "            await google.colab.kernel.invokeFunction('convertToInteractive',\n",
              "                                                     [key], {});\n",
              "          if (!dataTable) return;\n",
              "\n",
              "          const docLinkHtml = 'Like what you see? Visit the ' +\n",
              "            '<a target=\"_blank\" href=https://colab.research.google.com/notebooks/data_table.ipynb>data table notebook</a>'\n",
              "            + ' to learn more about interactive tables.';\n",
              "          element.innerHTML = '';\n",
              "          dataTable['output_type'] = 'display_data';\n",
              "          await google.colab.output.renderOutput(dataTable, element);\n",
              "          const docLink = document.createElement('div');\n",
              "          docLink.innerHTML = docLinkHtml;\n",
              "          element.appendChild(docLink);\n",
              "        }\n",
              "      </script>\n",
              "    </div>\n",
              "  </div>\n",
              "  "
            ],
            "text/plain": [
              "                                  0  ...                 4\n",
              "Income                      6239581  ...           4859415\n",
              "Age                             30s  ...         under 30s\n",
              "Experience                      Mid  ...            Senior\n",
              "Married_Or_Single            single  ...            single\n",
              "House_Ownership           not owned  ...         not owned\n",
              "Car_Ownership                   yes  ...                no\n",
              "Profession         Natural Sciences  ...  Natural Sciences\n",
              "STATE                    South Area  ...        North Area\n",
              "CURRENT_JOB_YRS                   2  ...                 2\n",
              "CURRENT_HOUSE_YRS                13  ...                13\n",
              "Risk_Flag                         0  ...                 1\n",
              "\n",
              "[11 rows x 5 columns]"
            ]
          },
          "metadata": {},
          "execution_count": 73
        }
      ]
    },
    {
      "cell_type": "markdown",
      "source": [
        "#### 데이터 전처리 결과 확인"
      ],
      "metadata": {
        "id": "H2QtEjxUGzXt"
      }
    },
    {
      "cell_type": "code",
      "source": [
        "prof = train.Profession.value_counts()\n",
        "age = train.Age.value_counts()\n",
        "exp = train.Experience.value_counts()\n",
        "houseP = train.House_Ownership.value_counts()\n",
        "region = train.STATE.value_counts()\n",
        "job_yrs = train.CURRENT_JOB_YRS.value_counts()"
      ],
      "metadata": {
        "id": "tX5PnddeGIID"
      },
      "execution_count": 74,
      "outputs": []
    },
    {
      "cell_type": "code",
      "source": [
        "color1 = ['#9ba9ff', '#afb1ff', '#cebeff', '#eccaff']\n",
        "color2 = ['#71a5de', '#abc4ff', '#c1d3fe', '#d7e3fc']\n",
        "color3 = ['#a5eeaa', '#c4f39d', '#e3f790', '#f3f98a']"
      ],
      "metadata": {
        "id": "lBuqTRUIKhVw"
      },
      "execution_count": 75,
      "outputs": []
    },
    {
      "cell_type": "code",
      "source": [
        "plt.figure(figsize = (25, 13))\n",
        "\n",
        "plt.subplot(2, 3, 1)\n",
        "plt.bar(houseP.index, houseP.values, color = color1)\n",
        "plt.title('House_Ownership')\n",
        "\n",
        "plt.subplot(2, 3, 2)\n",
        "plt.bar(age.index, age.values, color = color3)\n",
        "plt.title('Age')\n",
        "\n",
        "plt.subplot(2, 3, 3)\n",
        "plt.bar(exp.index, exp.values, color = color1)\n",
        "plt.title('Experience')\n",
        "\n",
        "plt.subplot(2, 3, 4)\n",
        "plt.bar(prof.index, prof.values, color = color3)\n",
        "plt.title('Profession')\n",
        "\n",
        "plt.subplot(2, 3, 5)\n",
        "plt.bar(region.index, region.values, color = color1)\n",
        "plt.title('State')\n",
        "\n",
        "plt.subplot(2, 3, 6)\n",
        "plt.bar(job_yrs.index, job_yrs.values, color = color3)\n",
        "plt.title('CURRENT JOB YEARS')\n",
        "\n",
        "plt.show()\n"
      ],
      "metadata": {
        "id": "ICuu3RjnGNaW",
        "outputId": "ed459a59-f7f2-483a-a81c-ad5b4293d3a3",
        "colab": {
          "base_uri": "https://localhost:8080/",
          "height": 352
        }
      },
      "execution_count": 76,
      "outputs": [
        {
          "output_type": "display_data",
          "data": {
            "image/png": "[encoded data removed]",
            "text/plain": [
              "<Figure size 1800x936 with 6 Axes>"
            ]
          },
          "metadata": {
            "needs_background": "light"
          }
        }
      ]
    },
    {
      "cell_type": "code",
      "source": [
        "train.Risk_Flag.value_counts()"
      ],
      "metadata": {
        "id": "3mF6J0eyZvyz",
        "outputId": "b8058c14-eb9c-4415-af63-a31643922098",
        "colab": {
          "base_uri": "https://localhost:8080/"
        }
      },
      "execution_count": 77,
      "outputs": [
        {
          "output_type": "execute_result",
          "data": {
            "text/plain": [
              "1    141442\n",
              "0     19838\n",
              "Name: Risk_Flag, dtype: int64"
            ]
          },
          "metadata": {},
          "execution_count": 77
        }
      ]
    },
    {
      "cell_type": "code",
      "source": [
        "%matplotlib inline\n",
        "\n",
        "ax = sns.set_palette('muted')\n",
        "ax = sns.countplot(data = train, x = target)\n",
        "\n",
        "plt.show()"
      ],
      "metadata": {
        "id": "L_y59pOxYpgi",
        "outputId": "e41d6fc9-fba7-4592-c58f-3c09d1603e09",
        "colab": {
          "base_uri": "https://localhost:8080/",
          "height": 279
        }
      },
      "execution_count": 78,
      "outputs": [
        {
          "output_type": "display_data",
          "data": {
            "image/png": "[encoded data removed]",
            "text/plain": [
              "<Figure size 432x288 with 1 Axes>"
            ]
          },
          "metadata": {
            "needs_background": "light"
          }
        }
      ]
    },
    {
      "cell_type": "markdown",
      "source": [
        "## 모델 비교\n",
        "(HIstGradientBoostingClassifier vs LightGBM vs XGBClassifier vs ExtraTreesClassifier)\n"
      ],
      "metadata": {
        "id": "4PzQHhSAKIrn"
      }
    },
    {
      "cell_type": "code",
      "source": [
        "X_train = train.drop(columns = target)\n",
        "y_train = train[target]\n",
        "\n",
        "X_val = val.drop(columns = target)\n",
        "y_val = val[target]\n",
        "\n",
        "X_test = test.drop(columns = target)\n",
        "y_test = test[target]"
      ],
      "metadata": {
        "id": "0zyTr2B1LrUR"
      },
      "execution_count": 92,
      "outputs": []
    },
    {
      "cell_type": "code",
      "source": [
        "ord_list = ['Income', 'Age', 'Experience', 'CURRENT_JOB_YRS', 'CURRENT_HOUSE_YRS']\n",
        "ord_mapping = [\n",
        "           {'col': 'Age', 'mapping': {'under 30s': 1, '30s': 2, '4-50s': 3, 'over 60': 4, 'NaN': 0}},\n",
        "           {'col': 'Experience', 'mapping': {'Entry': 1, 'Intermediate': 2, 'Mid': 3, 'Senior': 4, 'NaN': 0}},\n",
        "           {'col': 'CURRENT_JOB_YRS', 'mapping': {3: 3, 2: 2, 1: 1, 'NaN': 0}},\n",
        "           {'col': 'House_Ownership', 'mapping': {'owned': 2, 'not owned': 1, 'NaN': 0}}\n",
        "]"
      ],
      "metadata": {
        "id": "7Goq_0bNMC5D"
      },
      "execution_count": 80,
      "outputs": []
    },
    {
      "cell_type": "code",
      "source": [
        "from category_encoders import OneHotEncoder, OrdinalEncoder, TargetEncoder\n",
        "from sklearn.impute import SimpleImputer\n",
        "from sklearn.preprocessing import StandardScaler, LabelEncoder\n",
        "from sklearn.pipeline import make_pipeline, Pipeline\n",
        "from sklearn.experimental import enable_hist_gradient_boosting\n",
        "from sklearn.ensemble import HistGradientBoostingClassifier, ExtraTreesClassifier\n",
        "from sklearn.metrics import f1_score, accuracy_score, classification_report, roc_auc_score\n",
        "\n",
        "from lightgbm import LGBMClassifier\n",
        "from xgboost import XGBClassifier"
      ],
      "metadata": {
        "id": "yzH3xbQpM9FN"
      },
      "execution_count": 81,
      "outputs": []
    },
    {
      "cell_type": "code",
      "source": [
        "# HistGradientBoostingClassifier\n",
        "\n",
        "hist_pipe = make_pipeline(\n",
        "    OrdinalEncoder(cols = ord_list, mapping = ord_mapping),\n",
        "    OneHotEncoder(use_cat_names = True),\n",
        "    SimpleImputer(),\n",
        "    StandardScaler(),\n",
        "    HistGradientBoostingClassifier(\n",
        "        max_iter = 200,\n",
        "        learning_rate = 0.3,\n",
        "        random_state = 42\n",
        "    )\n",
        ")\n",
        "hist_pipe.fit(X_train, y_train)\n",
        "y_pred = hist_pipe.predict(X_val)\n",
        "f1 = f1_score(y_val, y_pred)\n",
        "\n",
        "print('Validation Score: ', hist_pipe.score(X_val, y_val))\n",
        "print('f1 Score: ', f1)\n",
        "print('ROC Score: ', roc_auc_score(y_val, y_pred))\n",
        "print(classification_report(y_val, y_pred))"
      ],
      "metadata": {
        "id": "ypOWYDCrKOkf",
        "outputId": "fcc1df86-44d0-46fe-860b-a0b0f4ade977",
        "colab": {
          "base_uri": "https://localhost:8080/"
        }
      },
      "execution_count": 82,
      "outputs": [
        {
          "output_type": "stream",
          "name": "stdout",
          "text": [
            "Validation Score:  0.8860863095238095\n",
            "f1 Score:  0.9378812264163702\n",
            "ROC Score:  0.596543194023007\n",
            "              precision    recall  f1-score   support\n",
            "\n",
            "           0       0.61      0.21      0.31      4959\n",
            "           1       0.90      0.98      0.94     35361\n",
            "\n",
            "    accuracy                           0.89     40320\n",
            "   macro avg       0.75      0.60      0.63     40320\n",
            "weighted avg       0.86      0.89      0.86     40320\n",
            "\n"
          ]
        }
      ]
    },
    {
      "cell_type": "code",
      "source": [
        "# LightGBM\n",
        "\n",
        "\n",
        "light_pipe = make_pipeline(\n",
        "    OrdinalEncoder(cols = ord_list, mapping = ord_mapping),\n",
        "    OneHotEncoder(use_cat_names = True),\n",
        "    SimpleImputer(),\n",
        "    StandardScaler(),\n",
        "    LGBMClassifier(\n",
        "        boosting = 'rf',\n",
        "        bagging_fraction = 0.2,\n",
        "        bagging_freq = 1,\n",
        "        random_state = 42\n",
        "    )\n",
        ")\n",
        "light_pipe.fit(X_train, y_train)\n",
        "y_pred = light_pipe.predict(X_val)\n",
        "f1 = f1_score(y_val, y_pred)\n",
        "\n",
        "print('Validation Score: ', light_pipe.score(X_val, y_val))\n",
        "print('f1 Score: ', f1)\n",
        "print('ROC Score: ', roc_auc_score(y_val, y_pred))\n",
        "print(classification_report(y_val, y_pred))"
      ],
      "metadata": {
        "id": "PEbXzMK5PcUz",
        "outputId": "d714265c-796d-4ada-d78b-680aa877563c",
        "colab": {
          "base_uri": "https://localhost:8080/"
        }
      },
      "execution_count": 83,
      "outputs": [
        {
          "output_type": "stream",
          "name": "stdout",
          "text": [
            "Validation Score:  0.8774553571428572\n",
            "f1 Score:  0.934681737061273\n",
            "ROC Score:  0.5025950642045122\n",
            "              precision    recall  f1-score   support\n",
            "\n",
            "           0       0.75      0.01      0.01      4959\n",
            "           1       0.88      1.00      0.93     35361\n",
            "\n",
            "    accuracy                           0.88     40320\n",
            "   macro avg       0.81      0.50      0.47     40320\n",
            "weighted avg       0.86      0.88      0.82     40320\n",
            "\n"
          ]
        }
      ]
    },
    {
      "cell_type": "code",
      "source": [
        "# XGBClassifier\n",
        "\n",
        "\n",
        "xgb_pipe = make_pipeline(\n",
        "    OrdinalEncoder(cols = ord_list, mapping = ord_mapping),\n",
        "    OneHotEncoder(use_cat_names = True),\n",
        "    SimpleImputer(),\n",
        "    StandardScaler(),\n",
        "    XGBClassifier(\n",
        "        max_depth = 6,\n",
        "        reg_alpha = 0.9,\n",
        "        reg_lambda = 0.2,\n",
        "        random_state = 42\n",
        "    )\n",
        ")\n",
        "xgb_pipe.fit(X_train, y_train)\n",
        "y_pred = xgb_pipe.predict(X_val)\n",
        "f1 = f1_score(y_val, y_pred)\n",
        "\n",
        "print('Validation Score: ', xgb_pipe.score(X_val, y_val))\n",
        "print('f1 Score: ', f1)\n",
        "print('ROC Score: ', roc_auc_score(y_val, y_pred))\n",
        "print(classification_report(y_val, y_pred))"
      ],
      "metadata": {
        "id": "A7V6bXCRRhKj",
        "outputId": "ef4c394e-4177-40a3-89b6-f9edb1fbbc7f",
        "colab": {
          "base_uri": "https://localhost:8080/"
        }
      },
      "execution_count": 84,
      "outputs": [
        {
          "output_type": "stream",
          "name": "stdout",
          "text": [
            "Validation Score:  0.8781746031746032\n",
            "f1 Score:  0.935002381834542\n",
            "ROC Score:  0.5074261527883185\n",
            "              precision    recall  f1-score   support\n",
            "\n",
            "           0       0.72      0.02      0.03      4959\n",
            "           1       0.88      1.00      0.94     35361\n",
            "\n",
            "    accuracy                           0.88     40320\n",
            "   macro avg       0.80      0.51      0.48     40320\n",
            "weighted avg       0.86      0.88      0.82     40320\n",
            "\n"
          ]
        }
      ]
    },
    {
      "cell_type": "code",
      "source": [
        "# ExtraTreesClassifier\n",
        "\n",
        "extra_pipe = make_pipeline(\n",
        "    OrdinalEncoder(cols = ord_list, mapping = ord_mapping),\n",
        "    OneHotEncoder(use_cat_names = True),\n",
        "    SimpleImputer(),\n",
        "    StandardScaler(),\n",
        "    ExtraTreesClassifier(\n",
        "        min_samples_split = 3,\n",
        "        random_state = 42\n",
        "    )\n",
        ")\n",
        "extra_pipe.fit(X_train, y_train)\n",
        "y_pred =extra_pipe.predict(X_val)\n",
        "f1 = f1_score(y_val, y_pred)\n",
        "\n",
        "print('Validation Score: ',extra_pipe.score(X_val, y_val))\n",
        "print('f1 Score: ', f1)\n",
        "print('ROC Score: ', roc_auc_score(y_val, y_pred))\n",
        "print(classification_report(y_val, y_pred))"
      ],
      "metadata": {
        "id": "YHVq7WfLSPQy",
        "outputId": "8172b194-fe34-4c51-fef4-038692ce2166",
        "colab": {
          "base_uri": "https://localhost:8080/"
        }
      },
      "execution_count": 85,
      "outputs": [
        {
          "output_type": "stream",
          "name": "stdout",
          "text": [
            "Validation Score:  0.8890625\n",
            "f1 Score:  0.9364621656557621\n",
            "ROC Score:  0.756877020224533\n",
            "              precision    recall  f1-score   support\n",
            "\n",
            "           0       0.55      0.58      0.56      4959\n",
            "           1       0.94      0.93      0.94     35361\n",
            "\n",
            "    accuracy                           0.89     40320\n",
            "   macro avg       0.74      0.76      0.75     40320\n",
            "weighted avg       0.89      0.89      0.89     40320\n",
            "\n"
          ]
        }
      ]
    },
    {
      "cell_type": "markdown",
      "source": [
        "## 하이퍼파라미터 튜닝"
      ],
      "metadata": {
        "id": "sviU8PVOxV_b"
      }
    },
    {
      "cell_type": "code",
      "source": [
        "from sklearn.model_selection import cross_val_score, GridSearchCV, StratifiedKFold\n",
        "from sklearn.metrics import accuracy_score"
      ],
      "metadata": {
        "id": "a71OieVHxY2Y"
      },
      "execution_count": 86,
      "outputs": []
    },
    {
      "cell_type": "code",
      "source": [
        "extra_pipe = make_pipeline(\n",
        "    OrdinalEncoder(cols = ord_list, mapping = ord_mapping),\n",
        "    OneHotEncoder(use_cat_names = True),\n",
        "    SimpleImputer(),\n",
        "    StandardScaler(),\n",
        "    ExtraTreesClassifier(\n",
        "        random_state = 42\n",
        "    )\n",
        ")"
      ],
      "metadata": {
        "id": "UsS0V4wYyC6v"
      },
      "execution_count": 87,
      "outputs": []
    },
    {
      "cell_type": "code",
      "source": [
        "for i in list(range(2, 11)):\n",
        "  scores = cross_val_score(extra_pipe, X_train, y_train, cv = i, scoring = 'f1')\n",
        "  print('k = ', i)\n",
        "  print('f1 score: ', scores)\n",
        "  print(f'f1 score mean: {scores.mean():,.8f}\\n')"
      ],
      "metadata": {
        "id": "PnfLOrJcxcoW",
        "outputId": "0e559998-7eb9-4072-b0f9-9e46c88c26df",
        "colab": {
          "base_uri": "https://localhost:8080/"
        }
      },
      "execution_count": 93,
      "outputs": [
        {
          "output_type": "stream",
          "name": "stdout",
          "text": [
            "k =  2\n",
            "f1 score:  [0.93666068 0.93715841]\n",
            "f1 score mean: 0.93690954\n",
            "\n",
            "k =  3\n",
            "f1 score:  [0.93572076 0.9359249  0.93719044]\n",
            "f1 score mean: 0.93627870\n",
            "\n",
            "k =  4\n",
            "f1 score:  [0.93538121 0.93581792 0.93759941 0.93741644]\n",
            "f1 score mean: 0.93655374\n",
            "\n",
            "k =  5\n",
            "f1 score:  [0.93585509 0.93471868 0.93554289 0.9369626  0.93735424]\n",
            "f1 score mean: 0.93608670\n",
            "\n",
            "k =  6\n",
            "f1 score:  [0.93656645 0.93532253 0.93482023 0.93663337 0.93688304 0.93720861]\n",
            "f1 score mean: 0.93623904\n",
            "\n",
            "k =  7\n",
            "f1 score:  [0.93720959 0.93496664 0.93506882 0.93571961 0.93672713 0.93746108\n",
            " 0.9364727 ]\n",
            "f1 score mean: 0.93623222\n",
            "\n",
            "k =  8\n",
            "f1 score:  [0.93705379 0.93479991 0.93545535 0.93447342 0.93597094 0.93785053\n",
            " 0.93830254 0.93517092]\n",
            "f1 score mean: 0.93613467\n",
            "\n",
            "k =  9\n",
            "f1 score:  [0.93748402 0.93503503 0.935731   0.93423455 0.93587367 0.93701141\n",
            " 0.9367194  0.9369965  0.93573331]\n",
            "f1 score mean: 0.93609099\n",
            "\n",
            "k =  10\n",
            "f1 score:  [0.93666833 0.93611741 0.93473774 0.93529747 0.93514533 0.93680666\n",
            " 0.93676915 0.93564957 0.93781165 0.93534821]\n",
            "f1 score mean: 0.93603515\n",
            "\n"
          ]
        }
      ]
    },
    {
      "cell_type": "code",
      "source": [
        "# dists = {\n",
        "#     'extratreesclassifier__n_estimators': [100, 250, 400],\n",
        "#     'extratreesclassifier__max_depth': [12, 8, 4, None],\n",
        "#     'extratreesclassifier__min_samples_split': [2, 4, 8, 12],\n",
        "#     'extratreesclassifier__min_samples_leaf': [1, 3, 5, 8],\n",
        "#     'extratreesclassifier__max_features': [1, 4, 7, 10]\n",
        "# }\n",
        "\n",
        "# clf = GridSearchCV(\n",
        "#     extra_pipe,\n",
        "#     dists,\n",
        "#     cv = 2,\n",
        "#     n_jobs = -1\n",
        "# )\n",
        "\n",
        "# clf.fit(X_train, y_train)\n",
        "\n",
        "# print('best_hyperparameter: ', clf.best_params_)\n",
        "# print('best_f1_score: ', clf.best_score_)"
      ],
      "metadata": {
        "id": "PHpZ5NxI2Bdj"
      },
      "execution_count": 89,
      "outputs": []
    },
    {
      "cell_type": "code",
      "source": [
        "final_pipe = make_pipeline(\n",
        "    OrdinalEncoder(cols = ord_list, mapping = ord_mapping),\n",
        "    OneHotEncoder(use_cat_names = True),\n",
        "    SimpleImputer(),\n",
        "    StandardScaler(),\n",
        "    ExtraTreesClassifier(\n",
        "        n_estimators = 250,\n",
        "        class_weight = 'balanced',\n",
        "        max_features = 'sqrt',\n",
        "        min_samples_split = 8,\n",
        "        warm_start = True,\n",
        "        random_state = 42\n",
        "    )\n",
        ")\n",
        "\n",
        "final_pipe.fit(X_train, y_train)\n",
        "y_pred =final_pipe.predict(X_val)\n",
        "y_test_pred = final_pipe.predict(X_test)\n",
        "f1 = f1_score(y_val, y_pred)\n",
        "\n",
        "print('Accuracy: ', accuracy_score(y_val, y_pred))\n",
        "print('Validation Score: ',final_pipe.score(X_val, y_val))\n",
        "print('f1 Score: ', f1)\n",
        "print('ROC Score: ', roc_auc_score(y_val, y_pred))\n",
        "print(classification_report(y_val, y_pred))\n",
        "\n",
        "print('\\n\\n-----------------------------\\n\\n')\n",
        "\n",
        "print('Test Score: ', final_pipe.score(X_test, y_test))\n",
        "print('f1 Score: ', f1_score(y_test, y_test_pred))\n",
        "print('ROC Score: ', roc_auc_score(y_test, y_test_pred))\n",
        "print(classification_report(y_test, y_test_pred))"
      ],
      "metadata": {
        "id": "aOGz5t7kZeOQ",
        "outputId": "6378cb23-4710-4389-b215-4223d9dba166",
        "colab": {
          "base_uri": "https://localhost:8080/"
        }
      },
      "execution_count": 95,
      "outputs": [
        {
          "output_type": "stream",
          "name": "stderr",
          "text": [
            "/usr/local/lib/python3.7/dist-packages/sklearn/ensemble/_forest.py:766: UserWarning: class_weight presets \"balanced\" or \"balanced_subsample\" are not recommended for warm_start if the fitted data differs from the full dataset. In order to use \"balanced\" weights, use compute_class_weight (\"balanced\", classes, y). In place of y you can use a large enough sample of the full training set target to properly estimate the class frequency distributions. Pass the resulting weights as the class_weight parameter.\n",
            "  'class_weight presets \"balanced\" or '\n"
          ]
        },
        {
          "output_type": "stream",
          "name": "stdout",
          "text": [
            "Accuracy:  0.8745039682539683\n",
            "Validation Score:  0.8745039682539683\n",
            "f1 Score:  0.9250037053505261\n",
            "ROC Score:  0.8500872848372176\n",
            "              precision    recall  f1-score   support\n",
            "\n",
            "           0       0.49      0.82      0.62      4959\n",
            "           1       0.97      0.88      0.93     35361\n",
            "\n",
            "    accuracy                           0.87     40320\n",
            "   macro avg       0.73      0.85      0.77     40320\n",
            "weighted avg       0.91      0.87      0.89     40320\n",
            "\n",
            "\n",
            "\n",
            "-----------------------------\n",
            "\n",
            "\n",
            "Test Score:  0.8738690476190476\n",
            "f1 Score:  0.9245486807591421\n",
            "ROC Score:  0.8515316470373634\n",
            "              precision    recall  f1-score   support\n",
            "\n",
            "           0       0.49      0.82      0.62      6199\n",
            "           1       0.97      0.88      0.92     44201\n",
            "\n",
            "    accuracy                           0.87     50400\n",
            "   macro avg       0.73      0.85      0.77     50400\n",
            "weighted avg       0.91      0.87      0.89     50400\n",
            "\n"
          ]
        }
      ]
    },
    {
      "cell_type": "markdown",
      "source": [
        "## 결과 시각화"
      ],
      "metadata": {
        "id": "w3kboiiDXjZ8"
      }
    },
    {
      "cell_type": "code",
      "source": [
        "from sklearn.metrics import roc_curve\n",
        "from yellowbrick.classifier import ROCAUC, ClassificationReport, ConfusionMatrix\n",
        "from yellowbrick.model_selection import FeatureImportances"
      ],
      "metadata": {
        "id": "HFpSps3FYgCL"
      },
      "execution_count": 130,
      "outputs": []
    },
    {
      "cell_type": "code",
      "source": [
        "report = ClassificationReport(final_pipe, classes = [0, 1], support = True)\n",
        "report.fit(X_train, y_train)\n",
        "report.score(X_test, y_test)\n",
        "report.show();"
      ],
      "metadata": {
        "id": "oK4Llghp3tHW",
        "outputId": "fca670e3-398c-46d4-b571-feaf356b1010",
        "colab": {
          "base_uri": "https://localhost:8080/",
          "height": 297
        }
      },
      "execution_count": 123,
      "outputs": [
        {
          "output_type": "display_data",
          "data": {
            "image/png": "[encoded data removed]",
            "text/plain": [
              "<Figure size 432x288 with 2 Axes>"
            ]
          },
          "metadata": {
            "needs_background": "light"
          }
        }
      ]
    },
    {
      "cell_type": "code",
      "source": [
        "cm = ConfusionMatrix(final_pipe, classes = [0, 1], percent = True)\n",
        "cm.fit(X_train, y_train)\n",
        "cm.score(X_test, y_test)\n",
        "cm.show();"
      ],
      "metadata": {
        "id": "AuDAEmcY4Pdk",
        "outputId": "4f12dab0-778e-4ce2-b46f-c481282a1788",
        "colab": {
          "base_uri": "https://localhost:8080/",
          "height": 297
        }
      },
      "execution_count": 125,
      "outputs": [
        {
          "output_type": "display_data",
          "data": {
            "image/png": "[encoded data removed]",
            "text/plain": [
              "<Figure size 432x288 with 1 Axes>"
            ]
          },
          "metadata": {
            "needs_background": "light"
          }
        }
      ]
    },
    {
      "cell_type": "code",
      "source": [
        "feature = FeatureImportances(final_pipe)\n",
        "feature.fit(X_train, y_train)\n",
        "feature.show();"
      ],
      "metadata": {
        "id": "K6Dh93W44gsg",
        "outputId": "aa204802-4b28-4544-9c63-7741bfe2c10b",
        "colab": {
          "base_uri": "https://localhost:8080/",
          "height": 378
        }
      },
      "execution_count": 131,
      "outputs": [
        {
          "output_type": "error",
          "ename": "YellowbrickTypeError",
          "evalue": "ignored",
          "traceback": [
            "\u001b[0;31m---------------------------------------------------------------------------\u001b[0m",
            "\u001b[0;31mYellowbrickTypeError\u001b[0m                      Traceback (most recent call last)",
            "\u001b[0;32m<ipython-input-131-1321b80a14a6>\u001b[0m in \u001b[0;36m<module>\u001b[0;34m()\u001b[0m\n\u001b[1;32m      1\u001b[0m \u001b[0mfeature\u001b[0m \u001b[0;34m=\u001b[0m \u001b[0mFeatureImportances\u001b[0m\u001b[0;34m(\u001b[0m\u001b[0mfinal_pipe\u001b[0m\u001b[0;34m)\u001b[0m\u001b[0;34m\u001b[0m\u001b[0;34m\u001b[0m\u001b[0m\n\u001b[0;32m----> 2\u001b[0;31m \u001b[0mfeature\u001b[0m\u001b[0;34m.\u001b[0m\u001b[0mfit\u001b[0m\u001b[0;34m(\u001b[0m\u001b[0mX_train\u001b[0m\u001b[0;34m,\u001b[0m \u001b[0my_train\u001b[0m\u001b[0;34m)\u001b[0m\u001b[0;34m\u001b[0m\u001b[0;34m\u001b[0m\u001b[0m\n\u001b[0m\u001b[1;32m      3\u001b[0m \u001b[0mfeature\u001b[0m\u001b[0;34m.\u001b[0m\u001b[0mshow\u001b[0m\u001b[0;34m(\u001b[0m\u001b[0;34m)\u001b[0m\u001b[0;34m;\u001b[0m\u001b[0;34m\u001b[0m\u001b[0;34m\u001b[0m\u001b[0m\n",
            "\u001b[0;32m/usr/local/lib/python3.7/dist-packages/yellowbrick/model_selection/importances.py\u001b[0m in \u001b[0;36mfit\u001b[0;34m(self, X, y, **kwargs)\u001b[0m\n\u001b[1;32m    177\u001b[0m \u001b[0;34m\u001b[0m\u001b[0m\n\u001b[1;32m    178\u001b[0m         \u001b[0;31m# Get the feature importances from the model\u001b[0m\u001b[0;34m\u001b[0m\u001b[0;34m\u001b[0m\u001b[0;34m\u001b[0m\u001b[0m\n\u001b[0;32m--> 179\u001b[0;31m         \u001b[0mself\u001b[0m\u001b[0;34m.\u001b[0m\u001b[0mfeature_importances_\u001b[0m \u001b[0;34m=\u001b[0m \u001b[0mself\u001b[0m\u001b[0;34m.\u001b[0m\u001b[0m_find_importances_param\u001b[0m\u001b[0;34m(\u001b[0m\u001b[0;34m)\u001b[0m\u001b[0;34m\u001b[0m\u001b[0;34m\u001b[0m\u001b[0m\n\u001b[0m\u001b[1;32m    180\u001b[0m \u001b[0;34m\u001b[0m\u001b[0m\n\u001b[1;32m    181\u001b[0m         \u001b[0;31m# Get the classes from the model\u001b[0m\u001b[0;34m\u001b[0m\u001b[0;34m\u001b[0m\u001b[0;34m\u001b[0m\u001b[0m\n",
            "\u001b[0;32m/usr/local/lib/python3.7/dist-packages/yellowbrick/model_selection/importances.py\u001b[0m in \u001b[0;36m_find_importances_param\u001b[0;34m(self)\u001b[0m\n\u001b[1;32m    352\u001b[0m         raise YellowbrickTypeError(\n\u001b[1;32m    353\u001b[0m             \"could not find feature importances param on {}\".format(\n\u001b[0;32m--> 354\u001b[0;31m                 \u001b[0mself\u001b[0m\u001b[0;34m.\u001b[0m\u001b[0mestimator\u001b[0m\u001b[0;34m.\u001b[0m\u001b[0m__class__\u001b[0m\u001b[0;34m.\u001b[0m\u001b[0m__name__\u001b[0m\u001b[0;34m\u001b[0m\u001b[0;34m\u001b[0m\u001b[0m\n\u001b[0m\u001b[1;32m    355\u001b[0m             )\n\u001b[1;32m    356\u001b[0m         )\n",
            "\u001b[0;31mYellowbrickTypeError\u001b[0m: could not find feature importances param on Pipeline"
          ]
        }
      ]
    },
    {
      "cell_type": "code",
      "source": [
        "roc = ROCAUC(final_pipe, classes=[0, 1], micro=False, macro=False, per_class=False)\n",
        "roc.fit(X_train, y_train)\n",
        "roc.score(X_test, y_test)\n",
        "roc.show();"
      ],
      "metadata": {
        "id": "1-wsebsdxLxy",
        "outputId": "26228b8a-83c2-47a2-dbef-62cc4c66fc3e",
        "colab": {
          "base_uri": "https://localhost:8080/",
          "height": 294
        }
      },
      "execution_count": 136,
      "outputs": [
        {
          "output_type": "display_data",
          "data": {
            "image/png": "[encoded data removed]",
            "text/plain": [
              "<Figure size 432x288 with 1 Axes>"
            ]
          },
          "metadata": {
            "needs_background": "light"
          }
        }
      ]
    },
    {
      "cell_type": "code",
      "source": [
        ""
      ],
      "metadata": {
        "id": "e9vnhe1Pxpi7"
      },
      "execution_count": null,
      "outputs": []
    }
  ]
}