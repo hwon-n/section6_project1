{
  "nbformat": 4,
  "nbformat_minor": 0,
  "metadata": {
    "colab": {
      "name": "CP1.ipynb",
      "provenance": [],
      "authorship_tag": "ABX9TyO6n7ZnTn40uvGkFh+S4esq",
      "include_colab_link": true
    },
    "kernelspec": {
      "name": "python3",
      "display_name": "Python 3"
    },
    "language_info": {
      "name": "python"
    }
  },
  "cells": [
    {
      "cell_type": "markdown",
      "metadata": {
        "id": "view-in-github",
        "colab_type": "text"
      },
      "source": [
        "<a href=\"https://colab.research.google.com/github/hwon-n/section6_project1/blob/main/CP1.ipynb\" target=\"_parent\"><img src=\"https://colab.research.google.com/assets/colab-badge.svg\" alt=\"Open In Colab\"/></a>"
      ]
    },
    {
      "cell_type": "code",
      "source": [
        "from google.colab import drive\n",
        "drive.mount('/content/drive')"
      ],
      "metadata": {
        "colab": {
          "base_uri": "https://localhost:8080/"
        },
        "id": "efzqSLF6cixu",
        "outputId": "b2ccd442-ed39-4bf4-9bb2-6e82967c04ba"
      },
      "execution_count": 1,
      "outputs": [
        {
          "output_type": "stream",
          "name": "stdout",
          "text": [
            "Mounted at /content/drive\n"
          ]
        }
      ]
    },
    {
      "cell_type": "code",
      "source": [
        "!pip install -U pandas-profiling"
      ],
      "metadata": {
        "colab": {
          "base_uri": "https://localhost:8080/"
        },
        "id": "D-X4QPnSicHe",
        "outputId": "f87dad1c-d445-4717-d51a-c4452f60873c"
      },
      "execution_count": 2,
      "outputs": [
        {
          "output_type": "stream",
          "name": "stdout",
          "text": [
            "Requirement already satisfied: pandas-profiling in /usr/local/lib/python3.7/dist-packages (1.4.1)\n",
            "Collecting pandas-profiling\n",
            "  Downloading pandas_profiling-3.1.0-py2.py3-none-any.whl (261 kB)\n",
            "\u001b[K     |████████████████████████████████| 261 kB 8.3 MB/s \n",
            "\u001b[?25hRequirement already satisfied: matplotlib>=3.2.0 in /usr/local/lib/python3.7/dist-packages (from pandas-profiling) (3.2.2)\n",
            "Collecting htmlmin>=0.1.12\n",
            "  Downloading htmlmin-0.1.12.tar.gz (19 kB)\n",
            "Collecting visions[type_image_path]==0.7.4\n",
            "  Downloading visions-0.7.4-py3-none-any.whl (102 kB)\n",
            "\u001b[K     |████████████████████████████████| 102 kB 10.8 MB/s \n",
            "\u001b[?25hRequirement already satisfied: numpy>=1.16.0 in /usr/local/lib/python3.7/dist-packages (from pandas-profiling) (1.21.5)\n",
            "Collecting tangled-up-in-unicode==0.1.0\n",
            "  Downloading tangled_up_in_unicode-0.1.0-py3-none-any.whl (3.1 MB)\n",
            "\u001b[K     |████████████████████████████████| 3.1 MB 40.8 MB/s \n",
            "\u001b[?25hRequirement already satisfied: scipy>=1.4.1 in /usr/local/lib/python3.7/dist-packages (from pandas-profiling) (1.4.1)\n",
            "Requirement already satisfied: tqdm>=4.48.2 in /usr/local/lib/python3.7/dist-packages (from pandas-profiling) (4.62.3)\n",
            "Requirement already satisfied: pandas!=1.0.0,!=1.0.1,!=1.0.2,!=1.1.0,>=0.25.3 in /usr/local/lib/python3.7/dist-packages (from pandas-profiling) (1.3.5)\n",
            "Requirement already satisfied: jinja2>=2.11.1 in /usr/local/lib/python3.7/dist-packages (from pandas-profiling) (2.11.3)\n",
            "Collecting phik>=0.11.1\n",
            "  Downloading phik-0.12.0-cp37-cp37m-manylinux2010_x86_64.whl (675 kB)\n",
            "\u001b[K     |████████████████████████████████| 675 kB 55.3 MB/s \n",
            "\u001b[?25hCollecting PyYAML>=5.0.0\n",
            "  Downloading PyYAML-6.0-cp37-cp37m-manylinux_2_5_x86_64.manylinux1_x86_64.manylinux_2_12_x86_64.manylinux2010_x86_64.whl (596 kB)\n",
            "\u001b[K     |████████████████████████████████| 596 kB 53.1 MB/s \n",
            "\u001b[?25hRequirement already satisfied: missingno>=0.4.2 in /usr/local/lib/python3.7/dist-packages (from pandas-profiling) (0.5.0)\n",
            "Requirement already satisfied: seaborn>=0.10.1 in /usr/local/lib/python3.7/dist-packages (from pandas-profiling) (0.11.2)\n",
            "Collecting requests>=2.24.0\n",
            "  Downloading requests-2.27.1-py2.py3-none-any.whl (63 kB)\n",
            "\u001b[K     |████████████████████████████████| 63 kB 1.6 MB/s \n",
            "\u001b[?25hCollecting joblib~=1.0.1\n",
            "  Downloading joblib-1.0.1-py3-none-any.whl (303 kB)\n",
            "\u001b[K     |████████████████████████████████| 303 kB 61.1 MB/s \n",
            "\u001b[?25hCollecting multimethod>=1.4\n",
            "  Downloading multimethod-1.7-py3-none-any.whl (9.5 kB)\n",
            "Collecting pydantic>=1.8.1\n",
            "  Downloading pydantic-1.9.0-cp37-cp37m-manylinux_2_17_x86_64.manylinux2014_x86_64.whl (10.9 MB)\n",
            "\u001b[K     |████████████████████████████████| 10.9 MB 52.7 MB/s \n",
            "\u001b[?25hRequirement already satisfied: markupsafe~=2.0.1 in /usr/local/lib/python3.7/dist-packages (from pandas-profiling) (2.0.1)\n",
            "Requirement already satisfied: attrs>=19.3.0 in /usr/local/lib/python3.7/dist-packages (from visions[type_image_path]==0.7.4->pandas-profiling) (21.4.0)\n",
            "Requirement already satisfied: networkx>=2.4 in /usr/local/lib/python3.7/dist-packages (from visions[type_image_path]==0.7.4->pandas-profiling) (2.6.3)\n",
            "Collecting imagehash\n",
            "  Downloading ImageHash-4.2.1.tar.gz (812 kB)\n",
            "\u001b[K     |████████████████████████████████| 812 kB 70.9 MB/s \n",
            "\u001b[?25hRequirement already satisfied: Pillow in /usr/local/lib/python3.7/dist-packages (from visions[type_image_path]==0.7.4->pandas-profiling) (7.1.2)\n",
            "Requirement already satisfied: python-dateutil>=2.1 in /usr/local/lib/python3.7/dist-packages (from matplotlib>=3.2.0->pandas-profiling) (2.8.2)\n",
            "Requirement already satisfied: cycler>=0.10 in /usr/local/lib/python3.7/dist-packages (from matplotlib>=3.2.0->pandas-profiling) (0.11.0)\n",
            "Requirement already satisfied: kiwisolver>=1.0.1 in /usr/local/lib/python3.7/dist-packages (from matplotlib>=3.2.0->pandas-profiling) (1.3.2)\n",
            "Requirement already satisfied: pyparsing!=2.0.4,!=2.1.2,!=2.1.6,>=2.0.1 in /usr/local/lib/python3.7/dist-packages (from matplotlib>=3.2.0->pandas-profiling) (3.0.7)\n",
            "Requirement already satisfied: pytz>=2017.3 in /usr/local/lib/python3.7/dist-packages (from pandas!=1.0.0,!=1.0.1,!=1.0.2,!=1.1.0,>=0.25.3->pandas-profiling) (2018.9)\n",
            "Collecting scipy>=1.4.1\n",
            "  Downloading scipy-1.7.3-cp37-cp37m-manylinux_2_12_x86_64.manylinux2010_x86_64.whl (38.1 MB)\n",
            "\u001b[K     |████████████████████████████████| 38.1 MB 1.3 MB/s \n",
            "\u001b[?25hRequirement already satisfied: typing-extensions>=3.7.4.3 in /usr/local/lib/python3.7/dist-packages (from pydantic>=1.8.1->pandas-profiling) (3.10.0.2)\n",
            "Requirement already satisfied: six>=1.5 in /usr/local/lib/python3.7/dist-packages (from python-dateutil>=2.1->matplotlib>=3.2.0->pandas-profiling) (1.15.0)\n",
            "Requirement already satisfied: idna<4,>=2.5 in /usr/local/lib/python3.7/dist-packages (from requests>=2.24.0->pandas-profiling) (2.10)\n",
            "Requirement already satisfied: charset-normalizer~=2.0.0 in /usr/local/lib/python3.7/dist-packages (from requests>=2.24.0->pandas-profiling) (2.0.11)\n",
            "Requirement already satisfied: urllib3<1.27,>=1.21.1 in /usr/local/lib/python3.7/dist-packages (from requests>=2.24.0->pandas-profiling) (1.24.3)\n",
            "Requirement already satisfied: certifi>=2017.4.17 in /usr/local/lib/python3.7/dist-packages (from requests>=2.24.0->pandas-profiling) (2021.10.8)\n",
            "Requirement already satisfied: PyWavelets in /usr/local/lib/python3.7/dist-packages (from imagehash->visions[type_image_path]==0.7.4->pandas-profiling) (1.2.0)\n",
            "Building wheels for collected packages: htmlmin, imagehash\n",
            "  Building wheel for htmlmin (setup.py) ... \u001b[?25l\u001b[?25hdone\n",
            "  Created wheel for htmlmin: filename=htmlmin-0.1.12-py3-none-any.whl size=27098 sha256=8acc988a6dacce2eac160bb20f65f65a86295eced7f2e24dc7b9f2c291dee874\n",
            "  Stored in directory: /root/.cache/pip/wheels/70/e1/52/5b14d250ba868768823940c3229e9950d201a26d0bd3ee8655\n",
            "  Building wheel for imagehash (setup.py) ... \u001b[?25l\u001b[?25hdone\n",
            "  Created wheel for imagehash: filename=ImageHash-4.2.1-py2.py3-none-any.whl size=295206 sha256=b9d4ac8663fdd8c39d1b6bd652d57e86eb3c66f0bc6eb17944b86b9cca5e6b1c\n",
            "  Stored in directory: /root/.cache/pip/wheels/4c/d5/59/5e3e297533ddb09407769762985d134135064c6831e29a914e\n",
            "Successfully built htmlmin imagehash\n",
            "Installing collected packages: tangled-up-in-unicode, scipy, multimethod, visions, joblib, imagehash, requests, PyYAML, pydantic, phik, htmlmin, pandas-profiling\n",
            "  Attempting uninstall: scipy\n",
            "    Found existing installation: scipy 1.4.1\n",
            "    Uninstalling scipy-1.4.1:\n",
            "      Successfully uninstalled scipy-1.4.1\n",
            "  Attempting uninstall: joblib\n",
            "    Found existing installation: joblib 1.1.0\n",
            "    Uninstalling joblib-1.1.0:\n",
            "      Successfully uninstalled joblib-1.1.0\n",
            "  Attempting uninstall: requests\n",
            "    Found existing installation: requests 2.23.0\n",
            "    Uninstalling requests-2.23.0:\n",
            "      Successfully uninstalled requests-2.23.0\n",
            "  Attempting uninstall: PyYAML\n",
            "    Found existing installation: PyYAML 3.13\n",
            "    Uninstalling PyYAML-3.13:\n",
            "      Successfully uninstalled PyYAML-3.13\n",
            "  Attempting uninstall: pandas-profiling\n",
            "    Found existing installation: pandas-profiling 1.4.1\n",
            "    Uninstalling pandas-profiling-1.4.1:\n",
            "      Successfully uninstalled pandas-profiling-1.4.1\n",
            "\u001b[31mERROR: pip's dependency resolver does not currently take into account all the packages that are installed. This behaviour is the source of the following dependency conflicts.\n",
            "google-colab 1.0.0 requires requests~=2.23.0, but you have requests 2.27.1 which is incompatible.\n",
            "datascience 0.10.6 requires folium==0.2.1, but you have folium 0.8.3 which is incompatible.\n",
            "albumentations 0.1.12 requires imgaug<0.2.7,>=0.2.5, but you have imgaug 0.2.9 which is incompatible.\u001b[0m\n",
            "Successfully installed PyYAML-6.0 htmlmin-0.1.12 imagehash-4.2.1 joblib-1.0.1 multimethod-1.7 pandas-profiling-3.1.0 phik-0.12.0 pydantic-1.9.0 requests-2.27.1 scipy-1.7.3 tangled-up-in-unicode-0.1.0 visions-0.7.4\n"
          ]
        }
      ]
    },
    {
      "cell_type": "code",
      "source": [
        "import pandas as pd\n",
        "import pandas_profiling\n",
        "import seaborn as sns\n",
        "import matplotlib.pyplot as plt\n",
        "from sklearn.model_selection import train_test_split"
      ],
      "metadata": {
        "id": "MDvuWtqlcvBe"
      },
      "execution_count": 3,
      "outputs": []
    },
    {
      "cell_type": "code",
      "source": [
        "# 데이터 불러오기\n",
        "\n",
        "train = pd.read_csv('/content/drive/MyDrive/Training Data.csv')\n",
        "test = pd.read_csv('/content/drive/MyDrive/Test Data.csv')\n",
        "\n",
        "train.shape, test.shape"
      ],
      "metadata": {
        "colab": {
          "base_uri": "https://localhost:8080/"
        },
        "id": "t-DJGq_GhEfy",
        "outputId": "5e11ad9d-af28-4fa3-9230-90300e2057ec"
      },
      "execution_count": 4,
      "outputs": [
        {
          "output_type": "execute_result",
          "data": {
            "text/plain": [
              "((252000, 13), (28000, 12))"
            ]
          },
          "metadata": {},
          "execution_count": 4
        }
      ]
    },
    {
      "cell_type": "code",
      "source": [
        "target = 'Risk_Flag'\n",
        "train, val = train_test_split(train, train_size = 0.8, random_state = 42, stratify = train[target])\n",
        "train.shape, val.shape"
      ],
      "metadata": {
        "colab": {
          "base_uri": "https://localhost:8080/"
        },
        "id": "BIFxe0qxhflY",
        "outputId": "cc8b436d-9e7d-4599-80ab-722c9ac9daad"
      },
      "execution_count": 5,
      "outputs": [
        {
          "output_type": "execute_result",
          "data": {
            "text/plain": [
              "((201600, 13), (50400, 13))"
            ]
          },
          "metadata": {},
          "execution_count": 5
        }
      ]
    },
    {
      "cell_type": "markdown",
      "source": [
        "## 데이터 확인\n"
      ],
      "metadata": {
        "id": "HAU0Sj4E0pIX"
      }
    },
    {
      "cell_type": "code",
      "source": [
        "# train.profile_report()"
      ],
      "metadata": {
        "id": "MXQ3YiEximcn"
      },
      "execution_count": 6,
      "outputs": []
    },
    {
      "cell_type": "code",
      "source": [
        "%matplotlib inline\n",
        "\n",
        "ax = sns.set_palette('muted')\n",
        "ax = sns.countplot(data = train, x = target)\n",
        "\n",
        "plt.show()\n",
        "\n",
        "# 0 -> 1로 바꿔주기\n",
        "# 0: 대출 가능, 1: 대출 불가능 "
      ],
      "metadata": {
        "colab": {
          "base_uri": "https://localhost:8080/",
          "height": 280
        },
        "id": "s2msobIt3Cij",
        "outputId": "44ff989e-24f3-4b79-e6d8-74201cc5a23a"
      },
      "execution_count": 7,
      "outputs": [
        {
          "output_type": "display_data",
          "data": {
            "image/png": "[encoded data removed]",
            "text/plain": [
              "<Figure size 432x288 with 1 Axes>"
            ]
          },
          "metadata": {
            "needs_background": "light"
          }
        }
      ]
    },
    {
      "cell_type": "code",
      "source": [
        "# STATE 탐색\n",
        "\n",
        "plt.figure(figsize=(25,7))\n",
        "ax = sns.countplot(data = train, x = 'STATE')\n",
        "plt.show()"
      ],
      "metadata": {
        "colab": {
          "base_uri": "https://localhost:8080/",
          "height": 206
        },
        "id": "LYZf8E0442GA",
        "outputId": "235c9140-3c6c-43fb-a872-86aa0a625c5c"
      },
      "execution_count": 8,
      "outputs": [
        {
          "output_type": "display_data",
          "data": {
            "image/png": "[encoded data removed]",
            "text/plain": [
              "<Figure size 1800x504 with 1 Axes>"
            ]
          },
          "metadata": {
            "needs_background": "light"
          }
        }
      ]
    },
    {
      "cell_type": "code",
      "source": [
        "# Experience 탐색\n",
        "\n",
        "plt.figure(figsize=(10,5))\n",
        "ax = sns.countplot(data = train, x = 'Experience')\n",
        "plt.show()"
      ],
      "metadata": {
        "colab": {
          "base_uri": "https://localhost:8080/",
          "height": 334
        },
        "id": "HpeluvDK7WGM",
        "outputId": "c3409f47-11e6-43a0-bff7-cb6cc616a5a1"
      },
      "execution_count": 9,
      "outputs": [
        {
          "output_type": "display_data",
          "data": {
            "image/png": "[encoded data removed]",
            "text/plain": [
              "<Figure size 720x360 with 1 Axes>"
            ]
          },
          "metadata": {
            "needs_background": "light"
          }
        }
      ]
    },
    {
      "cell_type": "code",
      "source": [
        "# Profession 탐색\n",
        "\n",
        "plt.figure(figsize=(25, 7))\n",
        "ax = sns.countplot(data = train, x = 'Profession')\n",
        "plt.show()"
      ],
      "metadata": {
        "colab": {
          "base_uri": "https://localhost:8080/",
          "height": 206
        },
        "id": "vAO6LOiL7kCR",
        "outputId": "1f3469c7-e271-4bec-9af0-15a73db57139"
      },
      "execution_count": 10,
      "outputs": [
        {
          "output_type": "display_data",
          "data": {
            "image/png": "[encoded data removed]",
            "text/plain": [
              "<Figure size 1800x504 with 1 Axes>"
            ]
          },
          "metadata": {
            "needs_background": "light"
          }
        }
      ]
    },
    {
      "cell_type": "code",
      "source": [
        "train.Profession.unique()"
      ],
      "metadata": {
        "id": "h6InhBA1bfsk",
        "outputId": "c1dd0bd1-6622-4f74-8925-75a71d796c57",
        "colab": {
          "base_uri": "https://localhost:8080/"
        }
      },
      "execution_count": 11,
      "outputs": [
        {
          "output_type": "execute_result",
          "data": {
            "text/plain": [
              "array(['Mechanical_engineer', 'Psychologist', 'Drafter', 'Scientist',\n",
              "       'Dentist', 'Chemical_engineer', 'Computer_hardware_engineer',\n",
              "       'Microbiologist', 'Petroleum_Engineer', 'Engineer', 'Economist',\n",
              "       'Financial_Analyst', 'Magistrate', 'Official', 'Chef', 'Surveyor',\n",
              "       'Analyst', 'Biomedical_Engineer', 'Artist', 'Aviator',\n",
              "       'Technician', 'Politician', 'Lawyer', 'Surgeon', 'Architect',\n",
              "       'Secretary', 'Designer', 'Software_Developer', 'Comedian',\n",
              "       'Statistician', 'Industrial_Engineer', 'Web_designer',\n",
              "       'Civil_servant', 'Army_officer', 'Hotel_Manager', 'Librarian',\n",
              "       'Physician', 'Air_traffic_controller', 'Computer_operator',\n",
              "       'Civil_engineer', 'Police_officer', 'Technical_writer',\n",
              "       'Chartered_Accountant', 'Fashion_Designer', 'Flight_attendant',\n",
              "       'Design_Engineer', 'Geologist', 'Graphic_Designer',\n",
              "       'Technology_specialist', 'Consultant', 'Firefighter'], dtype=object)"
            ]
          },
          "metadata": {},
          "execution_count": 11
        }
      ]
    },
    {
      "cell_type": "code",
      "source": [
        "train.STATE.unique()"
      ],
      "metadata": {
        "id": "UUM19o29byUH",
        "outputId": "2f9d4a54-8282-4da6-928c-eab5f2a451fa",
        "colab": {
          "base_uri": "https://localhost:8080/"
        }
      },
      "execution_count": 12,
      "outputs": [
        {
          "output_type": "execute_result",
          "data": {
            "text/plain": [
              "array(['Tamil_Nadu', 'Gujarat', 'Madhya_Pradesh', 'Andhra_Pradesh',\n",
              "       'Bihar', 'West_Bengal', 'Karnataka', 'Odisha', 'Maharashtra',\n",
              "       'Jharkhand', 'Uttarakhand', 'Delhi', 'Uttar_Pradesh',\n",
              "       'Jammu_and_Kashmir', 'Chhattisgarh', 'Rajasthan', 'Assam',\n",
              "       'Punjab', 'Telangana', 'Manipur', 'Kerala', 'Haryana',\n",
              "       'Chandigarh', 'Puducherry', 'Uttar_Pradesh[5]', 'Tripura',\n",
              "       'Mizoram', 'Himachal_Pradesh', 'Sikkim'], dtype=object)"
            ]
          },
          "metadata": {},
          "execution_count": 12
        }
      ]
    },
    {
      "cell_type": "code",
      "source": [
        "train.CITY.unique()"
      ],
      "metadata": {
        "id": "oF1pKRX0b3qK",
        "outputId": "8782fdba-3d42-4baf-a2ca-a889eeb13419",
        "colab": {
          "base_uri": "https://localhost:8080/"
        }
      },
      "execution_count": 13,
      "outputs": [
        {
          "output_type": "execute_result",
          "data": {
            "text/plain": [
              "array(['Karaikudi', 'Jamnagar', 'Sagar', 'Vijayanagaram', 'Avadi',\n",
              "       'Hajipur[31]', 'Raiganj', 'Surendranagar_Dudhrej', 'Bangalore',\n",
              "       'Raurkela_Industrial_Township', 'Kolhapur', 'Vasai-Virar',\n",
              "       'Deoghar', 'Rajpur_Sonarpur', 'Haridwar', 'Satna',\n",
              "       'Kirari_Suleman_Nagar', 'Firozabad', 'Jabalpur', 'Junagadh',\n",
              "       'Srinagar', 'Chittoor[28]', 'Vadodara', 'Ramgarh', 'Thanjavur',\n",
              "       'Bhilai', 'Sambalpur', 'Khandwa', 'Bardhaman', 'Pali', 'Jorhat',\n",
              "       'Kanpur', 'Jhansi', 'Amritsar', 'Bidhannagar', 'South_Dumdum',\n",
              "       'Nizamabad', 'Siwan[32]', 'Mau', 'Imphal', 'Bhusawal', 'Ahmedabad',\n",
              "       'Pimpri-Chinchwad', 'Mumbai', 'New_Delhi', 'Thiruvananthapuram',\n",
              "       'Bellary', 'Hapur', 'Ichalkaranji', 'Panihati', 'Kishanganj[35]',\n",
              "       'Barasat', 'Medininagar', 'Begusarai', 'Unnao', 'Bikaner', 'Malda',\n",
              "       'Bhalswa_Jahangir_Pur', 'Sonipat', 'Chandigarh_city', 'Surat',\n",
              "       'Mahbubnagar', 'Pudukkottai', 'Hindupur', 'Bhiwandi', 'Ambarnath',\n",
              "       'Anand', 'Danapur', 'Kochi', 'Thrissur', 'Gulbarga', 'Kharagpur',\n",
              "       'Burhanpur', 'Jalandhar', 'Hazaribagh', 'Delhi_city', 'Rohtak',\n",
              "       'Nagpur', 'Ozhukarai', 'Alwar', 'Dindigul', 'Allahabad',\n",
              "       'Agartala', 'Bhopal', 'Baranagar', 'Jalna', 'Malegaon',\n",
              "       'Chandrapur', 'Karnal', 'Guwahati', 'Aizawl', 'Sambhal',\n",
              "       'Gopalpur', 'Patiala', 'Chennai', 'Davanagere', 'Shimoga',\n",
              "       'Kumbakonam', 'Patna', 'Bahraich', 'Nagercoil', 'Rampur',\n",
              "       'Bilaspur', 'Noida', 'Bulandshahr', 'Kurnool[18]', 'Sirsa',\n",
              "       'Maheshtala', 'Rajkot', 'Ballia', 'Bhimavaram', 'Bhiwani',\n",
              "       'Mysore[7][8][9]', 'Udupi', 'Ahmednagar', 'Mangalore', 'Proddatur',\n",
              "       'Jehanabad[38]', 'Coimbatore', 'Anantapur', 'Tiruvottiyur',\n",
              "       'Mathura', 'Thoothukudi', 'Chapra', 'Gorakhpur', 'Muzaffarnagar',\n",
              "       'Panchkula', 'Suryapet', 'Phusro', 'Faridabad', 'Madanapalle',\n",
              "       'Navi_Mumbai', 'Muzaffarpur', 'Tiruppur', 'Bihar_Sharif', 'Dewas',\n",
              "       'Kollam', 'Kalyan-Dombivli', 'Kadapa[23]', 'Machilipatnam',\n",
              "       'Bathinda', 'Lucknow', 'Raebareli', 'Secunderabad', 'Panvel',\n",
              "       'Tirupati[21][22]', 'Bhavnagar', 'Phagwara', 'Bijapur',\n",
              "       'Serampore', 'Shimla', 'Uluberia', 'Rourkela', 'Gaya',\n",
              "       'Visakhapatnam[4]', 'Farrukhabad', 'Kulti', 'Bongaigaon', 'Dhule',\n",
              "       'Erode[17]', 'Jammu[16]', 'Saharsa[29]', 'Bhilwara', 'Latur',\n",
              "       'Kottayam', 'Khammam', 'Solapur', 'Dibrugarh', 'Amroha', 'Madurai',\n",
              "       'Pallavaram', 'Mehsana', 'Darbhanga', 'Adoni', 'Meerut', 'Loni',\n",
              "       'Gudivada', 'Khora,_Ghaziabad', 'Haldia', 'Guna', 'Dehradun',\n",
              "       'Fatehpur', 'Tumkur', 'Agra', 'Rajahmundry[19][20]', 'Gandhinagar',\n",
              "       'Vellore', 'Aurangabad[39]', 'Tirunelveli', 'Motihari[34]',\n",
              "       'Nashik', 'Jaipur', 'Hospet', 'Eluru[25]', 'Buxar[37]', 'Naihati',\n",
              "       'Indore', 'Ulhasnagar', 'Korba', 'Saharanpur', 'Sasaram[30]',\n",
              "       'Raipur', 'Bharatpur', 'Alappuzha', 'Nagaon', 'Jalgaon',\n",
              "       'Ghaziabad', 'Dehri[30]', 'Singrauli', 'Raichur',\n",
              "       'Anantapuram[24]', 'Ajmer', 'Vijayawada', 'Udaipur', 'Nandyal',\n",
              "       'Bally', 'Mira-Bhayandar', 'Orai', 'Yamunanagar', 'Jodhpur',\n",
              "       'Kavali', 'Jaunpur', 'Arrah', 'Nanded', 'Giridih', 'Panipat',\n",
              "       'Hubliâ€“Dharwad', 'Morbi', 'Thane', 'Sri_Ganganagar',\n",
              "       'Sultan_Pur_Majra', 'Bidar', 'Amaravati', 'Berhampore', 'Ujjain',\n",
              "       'Silchar', 'Parbhani', 'Jamshedpur', 'Howrah', 'Hosur',\n",
              "       'Chinsurah', 'Shahjahanpur', 'Belgaum', 'Cuttack', 'Munger',\n",
              "       'Tezpur', 'Ambala', 'Kolkata', 'Guntur[13]', 'Katihar',\n",
              "       'North_Dumdum', 'Tinsukia', 'Pune', 'Karawal_Nagar', 'Aligarh',\n",
              "       'Gwalior', 'Kozhikode', 'Kamarhati', 'Bhind', 'Moradabad', 'Akola',\n",
              "       'Bareilly', 'Tadepalligudem', 'Bettiah[33]', 'Ambattur', 'Satara',\n",
              "       'Srikakulam', 'Gandhidham', 'Gurgaon', 'Ramagundam[27]', 'Ongole',\n",
              "       'Bhagalpur', 'Durgapur', 'Shivpuri', 'Amravati', 'Tenali',\n",
              "       'Sangli-Miraj_&_Kupwad', 'Ratlam', 'Varanasi', 'Dhanbad',\n",
              "       'Bhatpara', 'Jamalpur[36]', 'Warangal[11][12]', 'Kota[6]',\n",
              "       'Kakinada', 'Tadipatri', 'Sikar', 'Gangtok', 'Tiruchirappalli[10]',\n",
              "       'Narasaraopet', 'Hyderabad', 'Morena', 'Mirzapur', 'Siliguri',\n",
              "       'Ludhiana', 'Rewa', 'Bokaro', 'Katni', 'Nangloi_Jat',\n",
              "       'Dharmavaram', 'Nadiad', 'Durg', 'Guntakal', 'Karimnagar',\n",
              "       'Aurangabad', 'Bhubaneswar', 'Etawah', 'Purnia[26]', 'Pondicherry',\n",
              "       'Madhyamgram', 'Nellore[14][15]', 'Salem', 'Ranchi', 'Asansol',\n",
              "       'Mango', 'Miryalaguda', 'Berhampur'], dtype=object)"
            ]
          },
          "metadata": {},
          "execution_count": 13
        }
      ]
    },
    {
      "cell_type": "code",
      "source": [
        "house = train.House_Ownership.value_counts()\n",
        "car = train.Car_Ownership.value_counts()\n",
        "marr_sin = train['Married/Single'].value_counts()\n",
        "\n",
        "# 색상 지정\n",
        "h_color = ['#F198AF', '#9F81CD', '#EF6D6D']\n",
        "c_color = ['#65C18C', '#C1F4C5']\n",
        "m_color = ['#F9D371', '#FBF46D']"
      ],
      "metadata": {
        "id": "o13j_a6CzW0Z"
      },
      "execution_count": 14,
      "outputs": []
    },
    {
      "cell_type": "code",
      "source": [
        "plt.figure(figsize = (25, 5))\n",
        "plt.subplot(1, 3, 1)\n",
        "plt.bar(house.index, house.values, color = h_color)\n",
        "plt.title('House_Ownership')\n",
        "\n",
        "plt.subplot(1, 3, 2)\n",
        "plt.bar(car.index, car.values, color = c_color)\n",
        "plt.title('Car_Ownership')\n",
        "\n",
        "plt.subplot(1, 3, 3)\n",
        "plt.bar(marr_sin.index, marr_sin.values, color = m_color)\n",
        "plt.title('Married/Single')\n",
        "\n",
        "plt.show();"
      ],
      "metadata": {
        "id": "rxatipBPcs3c",
        "outputId": "9f2c1110-4bcd-4083-fdbf-63863a6c1d7f",
        "colab": {
          "base_uri": "https://localhost:8080/",
          "height": 356
        }
      },
      "execution_count": 15,
      "outputs": [
        {
          "output_type": "display_data",
          "data": {
            "image/png": "[encoded data removed]",
            "text/plain": [
              "<Figure size 1800x360 with 3 Axes>"
            ]
          },
          "metadata": {
            "needs_background": "light"
          }
        }
      ]
    },
    {
      "cell_type": "markdown",
      "source": [
        "## 데이터 전처리"
      ],
      "metadata": {
        "id": "bWhqPaJTcxXD"
      }
    },
    {
      "cell_type": "code",
      "source": [
        "# 지역 분류\n",
        "north_state = ['West_Bengal', 'Bihar', 'Assam', 'Uttarakhand', 'Uttar_Paradesh', 'Uttar_Pradesh[5]',\n",
        "               'Jammu_and_Kashmir', 'Rajasthan', 'Gujarat', 'Punjab', 'Manipur', \n",
        "                'Haryana', 'Sikkim', 'Mizoram', 'Madhya_Pradesh', 'Tripura',\n",
        "               'Jharkhand', 'Chandigarh', 'Himachal_Pradesh']\n",
        "capital = 'Delhi'\n",
        "south_state = ['Karnataka', 'Tamil_Nadu', 'Kerala', 'Andhra_Pradesh', 'Telangana', \n",
        "               'Maharashtra', 'Chhattisgarh', 'Odisha', 'Puducherry']"
      ],
      "metadata": {
        "id": "N5D9zQncc37o"
      },
      "execution_count": 61,
      "outputs": []
    },
    {
      "cell_type": "code",
      "source": [
        "# 직업 분류\n",
        "natural_sciences = ['Mechanical_engineer', 'Psychologist', 'Scientist', 'Dentist', 'Chemical_engineer',\n",
        "                    'Engineer', 'Petroleum_Engineer', 'Drafter', 'Microbiologist', 'Biomedical_Engineer',\n",
        "                    'Aviator', 'Technician', 'Surgeon', 'Architect', 'Software_Developer', \n",
        "                    'Industrial_Engineer', 'Web_designer', 'Physician', 'Air_traffic_controller',\n",
        "                    'Computer_operator', 'Civil_engineer', 'Geologist', 'Computer_hardware_engineer',\n",
        "                    'Technology_specialist']\n",
        "liberal_arts = ['Economist', 'Financial_Analyst', 'Magistrate', 'Official', 'Chef', 'Surveyor',\n",
        "                'Analyst', 'Artist', 'Politician', 'Lawyer', 'Secretary', 'Designer', 'Comedian',\n",
        "                'Statistician', 'Police_officer', 'Technical_writer', 'Chartered_Accountant',\n",
        "                'Fashion_Designer', 'Graphic_Designer', 'Consultant', 'Firefighter', 'Flight_attendant',\n",
        "                'Design_Engineer', 'Army_officer', 'Civil_servant', 'Hotel_Manager', 'Librarian']\n",
        "\n",
        "len(natural_sciences), len(liberal_arts)"
      ],
      "metadata": {
        "id": "ocPedeMjmXlO",
        "outputId": "541eeb7a-ec75-4284-9f49-38299e0a7f61",
        "colab": {
          "base_uri": "https://localhost:8080/"
        }
      },
      "execution_count": 77,
      "outputs": [
        {
          "output_type": "execute_result",
          "data": {
            "text/plain": [
              "(24, 27)"
            ]
          },
          "metadata": {},
          "execution_count": 77
        }
      ]
    }
  ]
}