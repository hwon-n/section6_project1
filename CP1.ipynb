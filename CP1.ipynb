{
  "nbformat": 4,
  "nbformat_minor": 0,
  "metadata": {
    "colab": {
      "name": "CP1.ipynb",
      "provenance": [],
      "authorship_tag": "ABX9TyPgESZyXbYc9c7fJMm2TMRd",
      "include_colab_link": true
    },
    "kernelspec": {
      "name": "python3",
      "display_name": "Python 3"
    },
    "language_info": {
      "name": "python"
    }
  },
  "cells": [
    {
      "cell_type": "markdown",
      "metadata": {
        "id": "view-in-github",
        "colab_type": "text"
      },
      "source": [
        "<a href=\"https://colab.research.google.com/github/hwon-n/section6_project1/blob/main/CP1.ipynb\" target=\"_parent\"><img src=\"https://colab.research.google.com/assets/colab-badge.svg\" alt=\"Open In Colab\"/></a>"
      ]
    },
    {
      "cell_type": "code",
      "source": [
        "from google.colab import drive\n",
        "drive.mount('/content/drive')"
      ],
      "metadata": {
        "colab": {
          "base_uri": "https://localhost:8080/"
        },
        "id": "efzqSLF6cixu",
        "outputId": "cec9bfab-cfd8-419e-bcfb-2514ff6d50ca"
      },
      "execution_count": 146,
      "outputs": [
        {
          "output_type": "stream",
          "name": "stdout",
          "text": [
            "Drive already mounted at /content/drive; to attempt to forcibly remount, call drive.mount(\"/content/drive\", force_remount=True).\n"
          ]
        }
      ]
    },
    {
      "cell_type": "code",
      "source": [
        "!pip install eli5"
      ],
      "metadata": {
        "id": "wZZhS3Hs85D8",
        "outputId": "222171e2-382a-4871-c3bb-cd011a1b6e18",
        "colab": {
          "base_uri": "https://localhost:8080/"
        }
      },
      "execution_count": null,
      "outputs": [
        {
          "output_type": "stream",
          "name": "stdout",
          "text": [
            "Collecting eli5\n",
            "  Downloading eli5-0.11.0-py2.py3-none-any.whl (106 kB)\n",
            "\u001b[?25l\r\u001b[K     |███                             | 10 kB 19.5 MB/s eta 0:00:01\r\u001b[K     |██████▏                         | 20 kB 20.9 MB/s eta 0:00:01\r\u001b[K     |█████████▎                      | 30 kB 24.3 MB/s eta 0:00:01\r\u001b[K     |████████████▍                   | 40 kB 22.5 MB/s eta 0:00:01\r\u001b[K     |███████████████▌                | 51 kB 12.8 MB/s eta 0:00:01\r\u001b[K     |██████████████████▌             | 61 kB 14.5 MB/s eta 0:00:01\r\u001b[K     |█████████████████████▋          | 71 kB 12.8 MB/s eta 0:00:01\r\u001b[K     |████████████████████████▊       | 81 kB 13.8 MB/s eta 0:00:01\r\u001b[K     |███████████████████████████▉    | 92 kB 15.1 MB/s eta 0:00:01\r\u001b[K     |███████████████████████████████ | 102 kB 13.8 MB/s eta 0:00:01\r\u001b[K     |████████████████████████████████| 106 kB 13.8 MB/s \n",
            "\u001b[?25hRequirement already satisfied: jinja2 in /usr/local/lib/python3.7/dist-packages (from eli5) (2.11.3)\n",
            "Requirement already satisfied: graphviz in /usr/local/lib/python3.7/dist-packages (from eli5) (0.10.1)\n",
            "Requirement already satisfied: scikit-learn>=0.20 in /usr/local/lib/python3.7/dist-packages (from eli5) (1.0.2)\n",
            "Requirement already satisfied: attrs>16.0.0 in /usr/local/lib/python3.7/dist-packages (from eli5) (21.4.0)\n",
            "Requirement already satisfied: numpy>=1.9.0 in /usr/local/lib/python3.7/dist-packages (from eli5) (1.21.5)\n",
            "Requirement already satisfied: scipy in /usr/local/lib/python3.7/dist-packages (from eli5) (1.4.1)\n",
            "Requirement already satisfied: six in /usr/local/lib/python3.7/dist-packages (from eli5) (1.15.0)\n",
            "Requirement already satisfied: tabulate>=0.7.7 in /usr/local/lib/python3.7/dist-packages (from eli5) (0.8.9)\n",
            "Requirement already satisfied: joblib>=0.11 in /usr/local/lib/python3.7/dist-packages (from scikit-learn>=0.20->eli5) (1.1.0)\n",
            "Requirement already satisfied: threadpoolctl>=2.0.0 in /usr/local/lib/python3.7/dist-packages (from scikit-learn>=0.20->eli5) (3.1.0)\n",
            "Requirement already satisfied: MarkupSafe>=0.23 in /usr/local/lib/python3.7/dist-packages (from jinja2->eli5) (2.0.1)\n",
            "Installing collected packages: eli5\n",
            "Successfully installed eli5-0.11.0\n"
          ]
        }
      ]
    },
    {
      "cell_type": "code",
      "source": [
        "!pip install shap"
      ],
      "metadata": {
        "id": "7pM3VkEG9A9f",
        "outputId": "80ef0bfa-ae8c-41a0-ddd1-91eace606b28",
        "colab": {
          "base_uri": "https://localhost:8080/"
        }
      },
      "execution_count": null,
      "outputs": [
        {
          "output_type": "stream",
          "name": "stdout",
          "text": [
            "Collecting shap\n",
            "  Downloading shap-0.40.0-cp37-cp37m-manylinux2010_x86_64.whl (564 kB)\n",
            "\u001b[?25l\r\u001b[K     |▋                               | 10 kB 23.4 MB/s eta 0:00:01\r\u001b[K     |█▏                              | 20 kB 27.0 MB/s eta 0:00:01\r\u001b[K     |█▊                              | 30 kB 32.3 MB/s eta 0:00:01\r\u001b[K     |██▎                             | 40 kB 15.7 MB/s eta 0:00:01\r\u001b[K     |███                             | 51 kB 11.7 MB/s eta 0:00:01\r\u001b[K     |███▌                            | 61 kB 13.2 MB/s eta 0:00:01\r\u001b[K     |████                            | 71 kB 13.1 MB/s eta 0:00:01\r\u001b[K     |████▋                           | 81 kB 14.2 MB/s eta 0:00:01\r\u001b[K     |█████▏                          | 92 kB 15.6 MB/s eta 0:00:01\r\u001b[K     |█████▉                          | 102 kB 13.9 MB/s eta 0:00:01\r\u001b[K     |██████▍                         | 112 kB 13.9 MB/s eta 0:00:01\r\u001b[K     |███████                         | 122 kB 13.9 MB/s eta 0:00:01\r\u001b[K     |███████▌                        | 133 kB 13.9 MB/s eta 0:00:01\r\u001b[K     |████████▏                       | 143 kB 13.9 MB/s eta 0:00:01\r\u001b[K     |████████▊                       | 153 kB 13.9 MB/s eta 0:00:01\r\u001b[K     |█████████▎                      | 163 kB 13.9 MB/s eta 0:00:01\r\u001b[K     |█████████▉                      | 174 kB 13.9 MB/s eta 0:00:01\r\u001b[K     |██████████▍                     | 184 kB 13.9 MB/s eta 0:00:01\r\u001b[K     |███████████                     | 194 kB 13.9 MB/s eta 0:00:01\r\u001b[K     |███████████▋                    | 204 kB 13.9 MB/s eta 0:00:01\r\u001b[K     |████████████▏                   | 215 kB 13.9 MB/s eta 0:00:01\r\u001b[K     |████████████▊                   | 225 kB 13.9 MB/s eta 0:00:01\r\u001b[K     |█████████████▍                  | 235 kB 13.9 MB/s eta 0:00:01\r\u001b[K     |██████████████                  | 245 kB 13.9 MB/s eta 0:00:01\r\u001b[K     |██████████████▌                 | 256 kB 13.9 MB/s eta 0:00:01\r\u001b[K     |███████████████                 | 266 kB 13.9 MB/s eta 0:00:01\r\u001b[K     |███████████████▋                | 276 kB 13.9 MB/s eta 0:00:01\r\u001b[K     |████████████████▎               | 286 kB 13.9 MB/s eta 0:00:01\r\u001b[K     |████████████████▉               | 296 kB 13.9 MB/s eta 0:00:01\r\u001b[K     |█████████████████▍              | 307 kB 13.9 MB/s eta 0:00:01\r\u001b[K     |██████████████████              | 317 kB 13.9 MB/s eta 0:00:01\r\u001b[K     |██████████████████▋             | 327 kB 13.9 MB/s eta 0:00:01\r\u001b[K     |███████████████████▏            | 337 kB 13.9 MB/s eta 0:00:01\r\u001b[K     |███████████████████▊            | 348 kB 13.9 MB/s eta 0:00:01\r\u001b[K     |████████████████████▎           | 358 kB 13.9 MB/s eta 0:00:01\r\u001b[K     |████████████████████▉           | 368 kB 13.9 MB/s eta 0:00:01\r\u001b[K     |█████████████████████▌          | 378 kB 13.9 MB/s eta 0:00:01\r\u001b[K     |██████████████████████          | 389 kB 13.9 MB/s eta 0:00:01\r\u001b[K     |██████████████████████▋         | 399 kB 13.9 MB/s eta 0:00:01\r\u001b[K     |███████████████████████▏        | 409 kB 13.9 MB/s eta 0:00:01\r\u001b[K     |███████████████████████▉        | 419 kB 13.9 MB/s eta 0:00:01\r\u001b[K     |████████████████████████▍       | 430 kB 13.9 MB/s eta 0:00:01\r\u001b[K     |█████████████████████████       | 440 kB 13.9 MB/s eta 0:00:01\r\u001b[K     |█████████████████████████▌      | 450 kB 13.9 MB/s eta 0:00:01\r\u001b[K     |██████████████████████████      | 460 kB 13.9 MB/s eta 0:00:01\r\u001b[K     |██████████████████████████▊     | 471 kB 13.9 MB/s eta 0:00:01\r\u001b[K     |███████████████████████████▎    | 481 kB 13.9 MB/s eta 0:00:01\r\u001b[K     |███████████████████████████▉    | 491 kB 13.9 MB/s eta 0:00:01\r\u001b[K     |████████████████████████████▍   | 501 kB 13.9 MB/s eta 0:00:01\r\u001b[K     |█████████████████████████████   | 512 kB 13.9 MB/s eta 0:00:01\r\u001b[K     |█████████████████████████████▋  | 522 kB 13.9 MB/s eta 0:00:01\r\u001b[K     |██████████████████████████████▏ | 532 kB 13.9 MB/s eta 0:00:01\r\u001b[K     |██████████████████████████████▊ | 542 kB 13.9 MB/s eta 0:00:01\r\u001b[K     |███████████████████████████████▎| 552 kB 13.9 MB/s eta 0:00:01\r\u001b[K     |████████████████████████████████| 563 kB 13.9 MB/s eta 0:00:01\r\u001b[K     |████████████████████████████████| 564 kB 13.9 MB/s \n",
            "\u001b[?25hRequirement already satisfied: tqdm>4.25.0 in /usr/local/lib/python3.7/dist-packages (from shap) (4.62.3)\n",
            "Requirement already satisfied: packaging>20.9 in /usr/local/lib/python3.7/dist-packages (from shap) (21.3)\n",
            "Requirement already satisfied: scipy in /usr/local/lib/python3.7/dist-packages (from shap) (1.4.1)\n",
            "Requirement already satisfied: numpy in /usr/local/lib/python3.7/dist-packages (from shap) (1.21.5)\n",
            "Requirement already satisfied: pandas in /usr/local/lib/python3.7/dist-packages (from shap) (1.3.5)\n",
            "Requirement already satisfied: numba in /usr/local/lib/python3.7/dist-packages (from shap) (0.51.2)\n",
            "Requirement already satisfied: cloudpickle in /usr/local/lib/python3.7/dist-packages (from shap) (1.3.0)\n",
            "Collecting slicer==0.0.7\n",
            "  Downloading slicer-0.0.7-py3-none-any.whl (14 kB)\n",
            "Requirement already satisfied: scikit-learn in /usr/local/lib/python3.7/dist-packages (from shap) (1.0.2)\n",
            "Requirement already satisfied: pyparsing!=3.0.5,>=2.0.2 in /usr/local/lib/python3.7/dist-packages (from packaging>20.9->shap) (3.0.7)\n",
            "Requirement already satisfied: setuptools in /usr/local/lib/python3.7/dist-packages (from numba->shap) (57.4.0)\n",
            "Requirement already satisfied: llvmlite<0.35,>=0.34.0.dev0 in /usr/local/lib/python3.7/dist-packages (from numba->shap) (0.34.0)\n",
            "Requirement already satisfied: python-dateutil>=2.7.3 in /usr/local/lib/python3.7/dist-packages (from pandas->shap) (2.8.2)\n",
            "Requirement already satisfied: pytz>=2017.3 in /usr/local/lib/python3.7/dist-packages (from pandas->shap) (2018.9)\n",
            "Requirement already satisfied: six>=1.5 in /usr/local/lib/python3.7/dist-packages (from python-dateutil>=2.7.3->pandas->shap) (1.15.0)\n",
            "Requirement already satisfied: threadpoolctl>=2.0.0 in /usr/local/lib/python3.7/dist-packages (from scikit-learn->shap) (3.1.0)\n",
            "Requirement already satisfied: joblib>=0.11 in /usr/local/lib/python3.7/dist-packages (from scikit-learn->shap) (1.1.0)\n",
            "Installing collected packages: slicer, shap\n",
            "Successfully installed shap-0.40.0 slicer-0.0.7\n"
          ]
        }
      ]
    },
    {
      "cell_type": "code",
      "source": [
        "!pip install yellowbrick"
      ],
      "metadata": {
        "id": "dTMOouBx5Rqi",
        "outputId": "1a1e4b03-880a-4d86-cb8e-a9b31fee469a",
        "colab": {
          "base_uri": "https://localhost:8080/"
        }
      },
      "execution_count": null,
      "outputs": [
        {
          "output_type": "stream",
          "name": "stdout",
          "text": [
            "Collecting yellowbrick\n",
            "  Downloading yellowbrick-1.4-py3-none-any.whl (274 kB)\n",
            "\u001b[?25l\r\u001b[K     |█▏                              | 10 kB 22.2 MB/s eta 0:00:01\r\u001b[K     |██▍                             | 20 kB 28.8 MB/s eta 0:00:01\r\u001b[K     |███▋                            | 30 kB 35.3 MB/s eta 0:00:01\r\u001b[K     |████▉                           | 40 kB 17.6 MB/s eta 0:00:01\r\u001b[K     |██████                          | 51 kB 13.5 MB/s eta 0:00:01\r\u001b[K     |███████▏                        | 61 kB 15.5 MB/s eta 0:00:01\r\u001b[K     |████████▍                       | 71 kB 13.0 MB/s eta 0:00:01\r\u001b[K     |█████████▋                      | 81 kB 13.9 MB/s eta 0:00:01\r\u001b[K     |██████████▊                     | 92 kB 15.2 MB/s eta 0:00:01\r\u001b[K     |████████████                    | 102 kB 12.9 MB/s eta 0:00:01\r\u001b[K     |█████████████▏                  | 112 kB 12.9 MB/s eta 0:00:01\r\u001b[K     |██████████████▍                 | 122 kB 12.9 MB/s eta 0:00:01\r\u001b[K     |███████████████▌                | 133 kB 12.9 MB/s eta 0:00:01\r\u001b[K     |████████████████▊               | 143 kB 12.9 MB/s eta 0:00:01\r\u001b[K     |██████████████████              | 153 kB 12.9 MB/s eta 0:00:01\r\u001b[K     |███████████████████▏            | 163 kB 12.9 MB/s eta 0:00:01\r\u001b[K     |████████████████████▎           | 174 kB 12.9 MB/s eta 0:00:01\r\u001b[K     |█████████████████████▌          | 184 kB 12.9 MB/s eta 0:00:01\r\u001b[K     |██████████████████████▊         | 194 kB 12.9 MB/s eta 0:00:01\r\u001b[K     |████████████████████████        | 204 kB 12.9 MB/s eta 0:00:01\r\u001b[K     |█████████████████████████       | 215 kB 12.9 MB/s eta 0:00:01\r\u001b[K     |██████████████████████████▎     | 225 kB 12.9 MB/s eta 0:00:01\r\u001b[K     |███████████████████████████▌    | 235 kB 12.9 MB/s eta 0:00:01\r\u001b[K     |████████████████████████████▊   | 245 kB 12.9 MB/s eta 0:00:01\r\u001b[K     |█████████████████████████████▉  | 256 kB 12.9 MB/s eta 0:00:01\r\u001b[K     |███████████████████████████████ | 266 kB 12.9 MB/s eta 0:00:01\r\u001b[K     |████████████████████████████████| 274 kB 12.9 MB/s \n",
            "\u001b[?25hRequirement already satisfied: numpy>=1.16.0 in /usr/local/lib/python3.7/dist-packages (from yellowbrick) (1.21.5)\n",
            "Requirement already satisfied: scikit-learn>=1.0.0 in /usr/local/lib/python3.7/dist-packages (from yellowbrick) (1.0.2)\n",
            "Requirement already satisfied: scipy>=1.0.0 in /usr/local/lib/python3.7/dist-packages (from yellowbrick) (1.4.1)\n",
            "Requirement already satisfied: cycler>=0.10.0 in /usr/local/lib/python3.7/dist-packages (from yellowbrick) (0.11.0)\n",
            "Requirement already satisfied: matplotlib!=3.0.0,>=2.0.2 in /usr/local/lib/python3.7/dist-packages (from yellowbrick) (3.2.2)\n",
            "Requirement already satisfied: python-dateutil>=2.1 in /usr/local/lib/python3.7/dist-packages (from matplotlib!=3.0.0,>=2.0.2->yellowbrick) (2.8.2)\n",
            "Requirement already satisfied: kiwisolver>=1.0.1 in /usr/local/lib/python3.7/dist-packages (from matplotlib!=3.0.0,>=2.0.2->yellowbrick) (1.3.2)\n",
            "Requirement already satisfied: pyparsing!=2.0.4,!=2.1.2,!=2.1.6,>=2.0.1 in /usr/local/lib/python3.7/dist-packages (from matplotlib!=3.0.0,>=2.0.2->yellowbrick) (3.0.7)\n",
            "Requirement already satisfied: six>=1.5 in /usr/local/lib/python3.7/dist-packages (from python-dateutil>=2.1->matplotlib!=3.0.0,>=2.0.2->yellowbrick) (1.15.0)\n",
            "Requirement already satisfied: joblib>=0.11 in /usr/local/lib/python3.7/dist-packages (from scikit-learn>=1.0.0->yellowbrick) (1.1.0)\n",
            "Requirement already satisfied: threadpoolctl>=2.0.0 in /usr/local/lib/python3.7/dist-packages (from scikit-learn>=1.0.0->yellowbrick) (3.1.0)\n",
            "Installing collected packages: yellowbrick\n",
            "Successfully installed yellowbrick-1.4\n"
          ]
        }
      ]
    },
    {
      "cell_type": "code",
      "source": [
        "!pip install -U yellowbrick"
      ],
      "metadata": {
        "id": "Tjs8F5bL5ZiK",
        "outputId": "b8e4bcc7-d655-4092-9f4c-9b2c4f4a8553",
        "colab": {
          "base_uri": "https://localhost:8080/"
        }
      },
      "execution_count": null,
      "outputs": [
        {
          "output_type": "stream",
          "name": "stdout",
          "text": [
            "Requirement already satisfied: yellowbrick in /usr/local/lib/python3.7/dist-packages (1.4)\n",
            "Requirement already satisfied: scipy>=1.0.0 in /usr/local/lib/python3.7/dist-packages (from yellowbrick) (1.4.1)\n",
            "Requirement already satisfied: numpy>=1.16.0 in /usr/local/lib/python3.7/dist-packages (from yellowbrick) (1.21.5)\n",
            "Requirement already satisfied: scikit-learn>=1.0.0 in /usr/local/lib/python3.7/dist-packages (from yellowbrick) (1.0.2)\n",
            "Requirement already satisfied: cycler>=0.10.0 in /usr/local/lib/python3.7/dist-packages (from yellowbrick) (0.11.0)\n",
            "Requirement already satisfied: matplotlib!=3.0.0,>=2.0.2 in /usr/local/lib/python3.7/dist-packages (from yellowbrick) (3.2.2)\n",
            "Requirement already satisfied: pyparsing!=2.0.4,!=2.1.2,!=2.1.6,>=2.0.1 in /usr/local/lib/python3.7/dist-packages (from matplotlib!=3.0.0,>=2.0.2->yellowbrick) (3.0.7)\n",
            "Requirement already satisfied: python-dateutil>=2.1 in /usr/local/lib/python3.7/dist-packages (from matplotlib!=3.0.0,>=2.0.2->yellowbrick) (2.8.2)\n",
            "Requirement already satisfied: kiwisolver>=1.0.1 in /usr/local/lib/python3.7/dist-packages (from matplotlib!=3.0.0,>=2.0.2->yellowbrick) (1.3.2)\n",
            "Requirement already satisfied: six>=1.5 in /usr/local/lib/python3.7/dist-packages (from python-dateutil>=2.1->matplotlib!=3.0.0,>=2.0.2->yellowbrick) (1.15.0)\n",
            "Requirement already satisfied: joblib>=0.11 in /usr/local/lib/python3.7/dist-packages (from scikit-learn>=1.0.0->yellowbrick) (1.1.0)\n",
            "Requirement already satisfied: threadpoolctl>=2.0.0 in /usr/local/lib/python3.7/dist-packages (from scikit-learn>=1.0.0->yellowbrick) (3.1.0)\n"
          ]
        }
      ]
    },
    {
      "cell_type": "code",
      "source": [
        "!pip install category_encoders"
      ],
      "metadata": {
        "id": "d6OcO3NFNjlN",
        "outputId": "38e95397-7e13-4e70-af63-1ebfd1800226",
        "colab": {
          "base_uri": "https://localhost:8080/"
        }
      },
      "execution_count": null,
      "outputs": [
        {
          "output_type": "stream",
          "name": "stdout",
          "text": [
            "Collecting category_encoders\n",
            "  Downloading category_encoders-2.3.0-py2.py3-none-any.whl (82 kB)\n",
            "\u001b[?25l\r\u001b[K     |████                            | 10 kB 23.5 MB/s eta 0:00:01\r\u001b[K     |████████                        | 20 kB 27.5 MB/s eta 0:00:01\r\u001b[K     |████████████                    | 30 kB 32.5 MB/s eta 0:00:01\r\u001b[K     |████████████████                | 40 kB 17.3 MB/s eta 0:00:01\r\u001b[K     |████████████████████            | 51 kB 12.8 MB/s eta 0:00:01\r\u001b[K     |████████████████████████        | 61 kB 14.6 MB/s eta 0:00:01\r\u001b[K     |████████████████████████████    | 71 kB 13.9 MB/s eta 0:00:01\r\u001b[K     |███████████████████████████████▉| 81 kB 14.7 MB/s eta 0:00:01\r\u001b[K     |████████████████████████████████| 82 kB 350 kB/s \n",
            "\u001b[?25hRequirement already satisfied: patsy>=0.5.1 in /usr/local/lib/python3.7/dist-packages (from category_encoders) (0.5.2)\n",
            "Requirement already satisfied: pandas>=0.21.1 in /usr/local/lib/python3.7/dist-packages (from category_encoders) (1.3.5)\n",
            "Requirement already satisfied: scikit-learn>=0.20.0 in /usr/local/lib/python3.7/dist-packages (from category_encoders) (1.0.2)\n",
            "Requirement already satisfied: scipy>=1.0.0 in /usr/local/lib/python3.7/dist-packages (from category_encoders) (1.4.1)\n",
            "Requirement already satisfied: numpy>=1.14.0 in /usr/local/lib/python3.7/dist-packages (from category_encoders) (1.21.5)\n",
            "Requirement already satisfied: statsmodels>=0.9.0 in /usr/local/lib/python3.7/dist-packages (from category_encoders) (0.10.2)\n",
            "Requirement already satisfied: pytz>=2017.3 in /usr/local/lib/python3.7/dist-packages (from pandas>=0.21.1->category_encoders) (2018.9)\n",
            "Requirement already satisfied: python-dateutil>=2.7.3 in /usr/local/lib/python3.7/dist-packages (from pandas>=0.21.1->category_encoders) (2.8.2)\n",
            "Requirement already satisfied: six in /usr/local/lib/python3.7/dist-packages (from patsy>=0.5.1->category_encoders) (1.15.0)\n",
            "Requirement already satisfied: threadpoolctl>=2.0.0 in /usr/local/lib/python3.7/dist-packages (from scikit-learn>=0.20.0->category_encoders) (3.1.0)\n",
            "Requirement already satisfied: joblib>=0.11 in /usr/local/lib/python3.7/dist-packages (from scikit-learn>=0.20.0->category_encoders) (1.1.0)\n",
            "Installing collected packages: category-encoders\n",
            "Successfully installed category-encoders-2.3.0\n"
          ]
        }
      ]
    },
    {
      "cell_type": "code",
      "source": [
        "# !pip install -U pandas-profiling"
      ],
      "metadata": {
        "id": "D-X4QPnSicHe"
      },
      "execution_count": null,
      "outputs": []
    },
    {
      "cell_type": "code",
      "source": [
        "import pandas as pd\n",
        "import pandas_profiling\n",
        "import seaborn as sns\n",
        "import matplotlib.pyplot as plt\n",
        "from sklearn.model_selection import train_test_split"
      ],
      "metadata": {
        "id": "MDvuWtqlcvBe"
      },
      "execution_count": 147,
      "outputs": []
    },
    {
      "cell_type": "code",
      "source": [
        "# 데이터 불러오기\n",
        "\n",
        "train = pd.read_csv('/content/drive/MyDrive/Training Data.csv')\n",
        "\n",
        "train.rename(columns = {'Married/Single': 'Married_Or_Single'}, inplace = True)\n",
        "\n",
        "target = 'Risk_Flag'\n",
        "train, test = train_test_split(train, train_size = 0.8, random_state = 42, stratify = train[target])\n",
        "train, val = train_test_split(train, train_size = 0.8, random_state = 42, stratify = train[target])\n",
        "\n",
        "train.shape, val.shape, test.shape"
      ],
      "metadata": {
        "colab": {
          "base_uri": "https://localhost:8080/"
        },
        "id": "t-DJGq_GhEfy",
        "outputId": "f943595f-71c2-498f-d198-a0a180ba0fc9"
      },
      "execution_count": 148,
      "outputs": [
        {
          "output_type": "execute_result",
          "data": {
            "text/plain": [
              "((161280, 13), (40320, 13), (50400, 13))"
            ]
          },
          "metadata": {},
          "execution_count": 148
        }
      ]
    },
    {
      "cell_type": "markdown",
      "source": [
        "## 데이터 확인\n"
      ],
      "metadata": {
        "id": "HAU0Sj4E0pIX"
      }
    },
    {
      "cell_type": "code",
      "source": [
        "# train.profile_report()"
      ],
      "metadata": {
        "id": "MXQ3YiEximcn"
      },
      "execution_count": null,
      "outputs": []
    },
    {
      "cell_type": "code",
      "source": [
        "train.head().T"
      ],
      "metadata": {
        "id": "IjRsf_8TDJXV",
        "outputId": "abc8fe52-1caf-40e9-cbe1-b737732b7de6",
        "colab": {
          "base_uri": "https://localhost:8080/",
          "height": 521
        }
      },
      "execution_count": null,
      "outputs": [
        {
          "output_type": "execute_result",
          "data": {
            "text/html": [
              "\n",
              "  <div id=\"df-363c96d1-39ed-4dea-9978-837d9b052535\">\n",
              "    <div class=\"colab-df-container\">\n",
              "      <div>\n",
              "<style scoped>\n",
              "    .dataframe tbody tr th:only-of-type {\n",
              "        vertical-align: middle;\n",
              "    }\n",
              "\n",
              "    .dataframe tbody tr th {\n",
              "        vertical-align: top;\n",
              "    }\n",
              "\n",
              "    .dataframe thead th {\n",
              "        text-align: right;\n",
              "    }\n",
              "</style>\n",
              "<table border=\"1\" class=\"dataframe\">\n",
              "  <thead>\n",
              "    <tr style=\"text-align: right;\">\n",
              "      <th></th>\n",
              "      <th>81706</th>\n",
              "      <th>71073</th>\n",
              "      <th>101509</th>\n",
              "      <th>122745</th>\n",
              "      <th>45546</th>\n",
              "    </tr>\n",
              "  </thead>\n",
              "  <tbody>\n",
              "    <tr>\n",
              "      <th>Id</th>\n",
              "      <td>81707</td>\n",
              "      <td>71074</td>\n",
              "      <td>101510</td>\n",
              "      <td>122746</td>\n",
              "      <td>45547</td>\n",
              "    </tr>\n",
              "    <tr>\n",
              "      <th>Income</th>\n",
              "      <td>6239581</td>\n",
              "      <td>9339198</td>\n",
              "      <td>12608</td>\n",
              "      <td>5453088</td>\n",
              "      <td>4859415</td>\n",
              "    </tr>\n",
              "    <tr>\n",
              "      <th>Age</th>\n",
              "      <td>38</td>\n",
              "      <td>67</td>\n",
              "      <td>64</td>\n",
              "      <td>34</td>\n",
              "      <td>23</td>\n",
              "    </tr>\n",
              "    <tr>\n",
              "      <th>Experience</th>\n",
              "      <td>8</td>\n",
              "      <td>14</td>\n",
              "      <td>19</td>\n",
              "      <td>20</td>\n",
              "      <td>13</td>\n",
              "    </tr>\n",
              "    <tr>\n",
              "      <th>Married_Or_Single</th>\n",
              "      <td>single</td>\n",
              "      <td>married</td>\n",
              "      <td>single</td>\n",
              "      <td>single</td>\n",
              "      <td>single</td>\n",
              "    </tr>\n",
              "    <tr>\n",
              "      <th>House_Ownership</th>\n",
              "      <td>rented</td>\n",
              "      <td>rented</td>\n",
              "      <td>norent_noown</td>\n",
              "      <td>norent_noown</td>\n",
              "      <td>rented</td>\n",
              "    </tr>\n",
              "    <tr>\n",
              "      <th>Car_Ownership</th>\n",
              "      <td>yes</td>\n",
              "      <td>yes</td>\n",
              "      <td>no</td>\n",
              "      <td>yes</td>\n",
              "      <td>no</td>\n",
              "    </tr>\n",
              "    <tr>\n",
              "      <th>Profession</th>\n",
              "      <td>Air_traffic_controller</td>\n",
              "      <td>Hotel_Manager</td>\n",
              "      <td>Physician</td>\n",
              "      <td>Firefighter</td>\n",
              "      <td>Geologist</td>\n",
              "    </tr>\n",
              "    <tr>\n",
              "      <th>CITY</th>\n",
              "      <td>Thane</td>\n",
              "      <td>Guntakal</td>\n",
              "      <td>Dehradun</td>\n",
              "      <td>Chennai</td>\n",
              "      <td>Bhilwara</td>\n",
              "    </tr>\n",
              "    <tr>\n",
              "      <th>STATE</th>\n",
              "      <td>Maharashtra</td>\n",
              "      <td>Andhra_Pradesh</td>\n",
              "      <td>Uttarakhand</td>\n",
              "      <td>Tamil_Nadu</td>\n",
              "      <td>Rajasthan</td>\n",
              "    </tr>\n",
              "    <tr>\n",
              "      <th>CURRENT_JOB_YRS</th>\n",
              "      <td>8</td>\n",
              "      <td>11</td>\n",
              "      <td>5</td>\n",
              "      <td>9</td>\n",
              "      <td>10</td>\n",
              "    </tr>\n",
              "    <tr>\n",
              "      <th>CURRENT_HOUSE_YRS</th>\n",
              "      <td>13</td>\n",
              "      <td>14</td>\n",
              "      <td>11</td>\n",
              "      <td>10</td>\n",
              "      <td>13</td>\n",
              "    </tr>\n",
              "    <tr>\n",
              "      <th>Risk_Flag</th>\n",
              "      <td>1</td>\n",
              "      <td>0</td>\n",
              "      <td>0</td>\n",
              "      <td>0</td>\n",
              "      <td>0</td>\n",
              "    </tr>\n",
              "  </tbody>\n",
              "</table>\n",
              "</div>\n",
              "      <button class=\"colab-df-convert\" onclick=\"convertToInteractive('df-363c96d1-39ed-4dea-9978-837d9b052535')\"\n",
              "              title=\"Convert this dataframe to an interactive table.\"\n",
              "              style=\"display:none;\">\n",
              "        \n",
              "  <svg xmlns=\"http://www.w3.org/2000/svg\" height=\"24px\"viewBox=\"0 0 24 24\"\n",
              "       width=\"24px\">\n",
              "    <path d=\"M0 0h24v24H0V0z\" fill=\"none\"/>\n",
              "    <path d=\"M18.56 5.44l.94 2.06.94-2.06 2.06-.94-2.06-.94-.94-2.06-.94 2.06-2.06.94zm-11 1L8.5 8.5l.94-2.06 2.06-.94-2.06-.94L8.5 2.5l-.94 2.06-2.06.94zm10 10l.94 2.06.94-2.06 2.06-.94-2.06-.94-.94-2.06-.94 2.06-2.06.94z\"/><path d=\"M17.41 7.96l-1.37-1.37c-.4-.4-.92-.59-1.43-.59-.52 0-1.04.2-1.43.59L10.3 9.45l-7.72 7.72c-.78.78-.78 2.05 0 2.83L4 21.41c.39.39.9.59 1.41.59.51 0 1.02-.2 1.41-.59l7.78-7.78 2.81-2.81c.8-.78.8-2.07 0-2.86zM5.41 20L4 18.59l7.72-7.72 1.47 1.35L5.41 20z\"/>\n",
              "  </svg>\n",
              "      </button>\n",
              "      \n",
              "  <style>\n",
              "    .colab-df-container {\n",
              "      display:flex;\n",
              "      flex-wrap:wrap;\n",
              "      gap: 12px;\n",
              "    }\n",
              "\n",
              "    .colab-df-convert {\n",
              "      background-color: #E8F0FE;\n",
              "      border: none;\n",
              "      border-radius: 50%;\n",
              "      cursor: pointer;\n",
              "      display: none;\n",
              "      fill: #1967D2;\n",
              "      height: 32px;\n",
              "      padding: 0 0 0 0;\n",
              "      width: 32px;\n",
              "    }\n",
              "\n",
              "    .colab-df-convert:hover {\n",
              "      background-color: #E2EBFA;\n",
              "      box-shadow: 0px 1px 2px rgba(60, 64, 67, 0.3), 0px 1px 3px 1px rgba(60, 64, 67, 0.15);\n",
              "      fill: #174EA6;\n",
              "    }\n",
              "\n",
              "    [theme=dark] .colab-df-convert {\n",
              "      background-color: #3B4455;\n",
              "      fill: #D2E3FC;\n",
              "    }\n",
              "\n",
              "    [theme=dark] .colab-df-convert:hover {\n",
              "      background-color: #434B5C;\n",
              "      box-shadow: 0px 1px 3px 1px rgba(0, 0, 0, 0.15);\n",
              "      filter: drop-shadow(0px 1px 2px rgba(0, 0, 0, 0.3));\n",
              "      fill: #FFFFFF;\n",
              "    }\n",
              "  </style>\n",
              "\n",
              "      <script>\n",
              "        const buttonEl =\n",
              "          document.querySelector('#df-363c96d1-39ed-4dea-9978-837d9b052535 button.colab-df-convert');\n",
              "        buttonEl.style.display =\n",
              "          google.colab.kernel.accessAllowed ? 'block' : 'none';\n",
              "\n",
              "        async function convertToInteractive(key) {\n",
              "          const element = document.querySelector('#df-363c96d1-39ed-4dea-9978-837d9b052535');\n",
              "          const dataTable =\n",
              "            await google.colab.kernel.invokeFunction('convertToInteractive',\n",
              "                                                     [key], {});\n",
              "          if (!dataTable) return;\n",
              "\n",
              "          const docLinkHtml = 'Like what you see? Visit the ' +\n",
              "            '<a target=\"_blank\" href=https://colab.research.google.com/notebooks/data_table.ipynb>data table notebook</a>'\n",
              "            + ' to learn more about interactive tables.';\n",
              "          element.innerHTML = '';\n",
              "          dataTable['output_type'] = 'display_data';\n",
              "          await google.colab.output.renderOutput(dataTable, element);\n",
              "          const docLink = document.createElement('div');\n",
              "          docLink.innerHTML = docLinkHtml;\n",
              "          element.appendChild(docLink);\n",
              "        }\n",
              "      </script>\n",
              "    </div>\n",
              "  </div>\n",
              "  "
            ],
            "text/plain": [
              "                                    81706  ...      45546\n",
              "Id                                  81707  ...      45547\n",
              "Income                            6239581  ...    4859415\n",
              "Age                                    38  ...         23\n",
              "Experience                              8  ...         13\n",
              "Married_Or_Single                  single  ...     single\n",
              "House_Ownership                    rented  ...     rented\n",
              "Car_Ownership                         yes  ...         no\n",
              "Profession         Air_traffic_controller  ...  Geologist\n",
              "CITY                                Thane  ...   Bhilwara\n",
              "STATE                         Maharashtra  ...  Rajasthan\n",
              "CURRENT_JOB_YRS                         8  ...         10\n",
              "CURRENT_HOUSE_YRS                      13  ...         13\n",
              "Risk_Flag                               1  ...          0\n",
              "\n",
              "[13 rows x 5 columns]"
            ]
          },
          "metadata": {},
          "execution_count": 11
        }
      ]
    },
    {
      "cell_type": "code",
      "source": [
        "%matplotlib inline\n",
        "\n",
        "target_colors = ['#fed976', '#fd8d3c']\n",
        "\n",
        "ax = sns.set_palette('muted')\n",
        "ax = sns.countplot(data = train, x = target, palette = target_colors)\n",
        "\n",
        "plt.show()\n",
        "\n",
        "# 0 -> 1로 바꿔주기\n",
        "# 0: 대출 가능, 1: 대출 불가능 "
      ],
      "metadata": {
        "colab": {
          "base_uri": "https://localhost:8080/",
          "height": 279
        },
        "id": "s2msobIt3Cij",
        "outputId": "00da03b4-cfc0-461c-a0f1-43612079ea41"
      },
      "execution_count": 149,
      "outputs": [
        {
          "output_type": "display_data",
          "data": {
            "image/png": "[encoded data removed]",
            "text/plain": [
              "<Figure size 432x288 with 1 Axes>"
            ]
          },
          "metadata": {
            "needs_background": "light"
          }
        }
      ]
    },
    {
      "cell_type": "code",
      "source": [
        "# STATE 탐색\n",
        "\n",
        "plt.figure(figsize=(25,7))\n",
        "ax = sns.countplot(data = train, x = 'STATE')\n",
        "plt.show()"
      ],
      "metadata": {
        "colab": {
          "base_uri": "https://localhost:8080/",
          "height": 205
        },
        "id": "LYZf8E0442GA",
        "outputId": "3e188093-b1e0-4094-da62-3ced3c9d26d3"
      },
      "execution_count": null,
      "outputs": [
        {
          "output_type": "display_data",
          "data": {
            "image/png": "[encoded data removed]",
            "text/plain": [
              "<Figure size 1800x504 with 1 Axes>"
            ]
          },
          "metadata": {
            "needs_background": "light"
          }
        }
      ]
    },
    {
      "cell_type": "code",
      "source": [
        "# Experience 탐색\n",
        "\n",
        "plt.figure(figsize=(10,5))\n",
        "ax = sns.countplot(data = train, x = 'Experience')\n",
        "plt.show()"
      ],
      "metadata": {
        "colab": {
          "base_uri": "https://localhost:8080/",
          "height": 334
        },
        "id": "HpeluvDK7WGM",
        "outputId": "1833e60d-7975-4b6c-d254-89d1c2ab4490"
      },
      "execution_count": null,
      "outputs": [
        {
          "output_type": "display_data",
          "data": {
            "image/png": "[encoded data removed]",
            "text/plain": [
              "<Figure size 720x360 with 1 Axes>"
            ]
          },
          "metadata": {
            "needs_background": "light"
          }
        }
      ]
    },
    {
      "cell_type": "code",
      "source": [
        "# Profession 탐색\n",
        "\n",
        "plt.figure(figsize=(25, 7))\n",
        "ax = sns.countplot(data = train, x = 'Profession')\n",
        "plt.show()"
      ],
      "metadata": {
        "colab": {
          "base_uri": "https://localhost:8080/",
          "height": 206
        },
        "id": "vAO6LOiL7kCR",
        "outputId": "b30bf6ca-435f-485f-c50c-d2f29f5daa12"
      },
      "execution_count": null,
      "outputs": [
        {
          "output_type": "display_data",
          "data": {
            "image/png": "[encoded data removed]",
            "text/plain": [
              "<Figure size 1800x504 with 1 Axes>"
            ]
          },
          "metadata": {
            "needs_background": "light"
          }
        }
      ]
    },
    {
      "cell_type": "code",
      "source": [
        "len(train.Profession.unique())"
      ],
      "metadata": {
        "id": "h6InhBA1bfsk",
        "outputId": "5deec4a3-7343-413b-a973-3367b8bb027d",
        "colab": {
          "base_uri": "https://localhost:8080/"
        }
      },
      "execution_count": null,
      "outputs": [
        {
          "output_type": "execute_result",
          "data": {
            "text/plain": [
              "51"
            ]
          },
          "metadata": {},
          "execution_count": 16
        }
      ]
    },
    {
      "cell_type": "code",
      "source": [
        "len(train.STATE.unique())"
      ],
      "metadata": {
        "id": "UUM19o29byUH",
        "outputId": "87342c0c-9a7a-4888-ea3b-4a7b4602d4f2",
        "colab": {
          "base_uri": "https://localhost:8080/"
        }
      },
      "execution_count": null,
      "outputs": [
        {
          "output_type": "execute_result",
          "data": {
            "text/plain": [
              "29"
            ]
          },
          "metadata": {},
          "execution_count": 17
        }
      ]
    },
    {
      "cell_type": "code",
      "source": [
        "len(train.CITY.value_counts())"
      ],
      "metadata": {
        "id": "oF1pKRX0b3qK",
        "outputId": "1baff247-3528-47a4-eb13-4de1876ca51e",
        "colab": {
          "base_uri": "https://localhost:8080/"
        }
      },
      "execution_count": null,
      "outputs": [
        {
          "output_type": "execute_result",
          "data": {
            "text/plain": [
              "317"
            ]
          },
          "metadata": {},
          "execution_count": 18
        }
      ]
    },
    {
      "cell_type": "code",
      "source": [
        "house = train.House_Ownership.value_counts()\n",
        "car = train.Car_Ownership.value_counts()\n",
        "marr_sin = train.Married_Or_Single.value_counts()\n",
        "\n",
        "# 색상 지정\n",
        "pink = ['#F198AF', '#9F81CD', '#EF6D6D']\n",
        "green = ['#65C18C', '#C1F4C5']\n",
        "yellow = ['#FFCC00', '#FFEE00', '#FFFF66', '#FFF18D']"
      ],
      "metadata": {
        "id": "o13j_a6CzW0Z"
      },
      "execution_count": null,
      "outputs": []
    },
    {
      "cell_type": "code",
      "source": [
        "plt.figure(figsize = (25, 5))\n",
        "plt.subplot(1, 3, 1)\n",
        "plt.bar(house.index, house.values, color = pink)\n",
        "plt.title('House_Ownership')\n",
        "\n",
        "plt.subplot(1, 3, 2)\n",
        "plt.bar(car.index, car.values, color = yellow)\n",
        "plt.title('Car_Ownership')\n",
        "\n",
        "plt.subplot(1, 3, 3)\n",
        "plt.bar(marr_sin.index, marr_sin.values, color = green)\n",
        "plt.title('Married_Or_Single')\n",
        "\n",
        "plt.show();"
      ],
      "metadata": {
        "id": "rxatipBPcs3c",
        "outputId": "c59a82a3-0695-49ac-eddd-ae251dfb61ad",
        "colab": {
          "base_uri": "https://localhost:8080/",
          "height": 158
        }
      },
      "execution_count": null,
      "outputs": [
        {
          "output_type": "display_data",
          "data": {
            "image/png": "[encoded data removed]",
            "text/plain": [
              "<Figure size 1800x360 with 3 Axes>"
            ]
          },
          "metadata": {
            "needs_background": "light"
          }
        }
      ]
    },
    {
      "cell_type": "markdown",
      "source": [
        "## 데이터 전처리"
      ],
      "metadata": {
        "id": "bWhqPaJTcxXD"
      }
    },
    {
      "cell_type": "code",
      "source": [
        "# 지역 분류\n",
        "north_state = ['West_Bengal', 'Bihar', 'Assam', 'Uttarakhand', 'Uttar_Paradesh', 'Uttar_Pradesh[5]',\n",
        "               'Jammu_and_Kashmir', 'Rajasthan', 'Gujarat', 'Punjab', 'Manipur', \n",
        "                'Haryana', 'Sikkim', 'Mizoram', 'Madhya_Pradesh', 'Tripura',\n",
        "               'Jharkhand', 'Chandigarh', 'Himachal_Pradesh']\n",
        "south_state = ['Karnataka', 'Tamil_Nadu', 'Kerala', 'Andhra_Pradesh', 'Telangana', \n",
        "               'Maharashtra', 'Chhattisgarh', 'Odisha', 'Puducherry']"
      ],
      "metadata": {
        "id": "N5D9zQncc37o"
      },
      "execution_count": null,
      "outputs": []
    },
    {
      "cell_type": "code",
      "source": [
        "# 직업 분류\n",
        "natural_sciences = ['Mechanical_engineer', 'Psychologist', 'Scientist', 'Dentist', 'Chemical_engineer',\n",
        "                    'Engineer', 'Petroleum_Engineer', 'Drafter', 'Microbiologist', 'Biomedical_Engineer',\n",
        "                    'Aviator', 'Technician', 'Surgeon', 'Architect', 'Software_Developer', \n",
        "                    'Industrial_Engineer', 'Web_designer', 'Physician', 'Air_traffic_controller',\n",
        "                    'Computer_operator', 'Civil_engineer', 'Geologist', 'Computer_hardware_engineer',\n",
        "                    'Technology_specialist']\n",
        "liberal_arts = ['Economist', 'Financial_Analyst', 'Magistrate', 'Official', 'Chef', 'Surveyor',\n",
        "                'Analyst', 'Artist', 'Politician', 'Lawyer', 'Secretary', 'Designer', 'Comedian',\n",
        "                'Statistician', 'Police_officer', 'Technical_writer', 'Chartered_Accountant',\n",
        "                'Fashion_Designer', 'Graphic_Designer', 'Consultant', 'Firefighter', 'Flight_attendant',\n",
        "                'Design_Engineer', 'Army_officer', 'Civil_servant', 'Hotel_Manager', 'Librarian']\n",
        "\n",
        "len(natural_sciences), len(liberal_arts)"
      ],
      "metadata": {
        "colab": {
          "base_uri": "https://localhost:8080/"
        },
        "id": "ocPedeMjmXlO",
        "outputId": "73a9204e-13d6-4a87-dc84-7a7b9981832c"
      },
      "execution_count": null,
      "outputs": [
        {
          "output_type": "execute_result",
          "data": {
            "text/plain": [
              "(24, 27)"
            ]
          },
          "metadata": {},
          "execution_count": 112
        }
      ]
    },
    {
      "cell_type": "code",
      "source": [
        "not_own = ['rented', 'norent_noown']"
      ],
      "metadata": {
        "id": "YHh-Vck8Y34i"
      },
      "execution_count": null,
      "outputs": []
    },
    {
      "cell_type": "code",
      "source": [
        "def age(age):\n",
        "  if age > 60:\n",
        "    return 'over 60s'\n",
        "  elif age >= 40:\n",
        "    return '4-50s'\n",
        "  elif age >= 30:\n",
        "    return '30s'\n",
        "  else:\n",
        "    return 'under 30s'\n",
        "\n",
        "def region(state):\n",
        "  if state in north_state:\n",
        "    return 'North Area'\n",
        "  elif state in south_state:\n",
        "    return 'South Area'\n",
        "  elif state == 'Delhi':\n",
        "    return 'Capital'\n",
        "\n",
        "def exp(exp):\n",
        "  if exp <= 2:\n",
        "    return 'Entry'\n",
        "  elif exp <= 5:\n",
        "    return 'Intermediate'\n",
        "  elif exp <= 10:\n",
        "    return 'Mid'\n",
        "  else:\n",
        "    return 'Senior'\n",
        "\n",
        "\n",
        "def job_year(year):\n",
        "  if year < 5:\n",
        "    return 1\n",
        "  elif year <= 10:\n",
        "    return 2\n",
        "  else:\n",
        "    return 3\n",
        "\n",
        "def house(h):\n",
        "  if h in not_own:\n",
        "    return 'not owned'\n",
        "  else:\n",
        "    return h\n",
        "\n",
        "def prof(prof):\n",
        "  if prof in natural_sciences:\n",
        "    return 'Natural Sciences'\n",
        "  elif prof in liberal_arts:\n",
        "    return 'Liberal Arts'\n",
        "  else:\n",
        "    return 'No Info'"
      ],
      "metadata": {
        "id": "f-H229G9Blze"
      },
      "execution_count": null,
      "outputs": []
    },
    {
      "cell_type": "code",
      "source": [
        "def feature(df):\n",
        "  cols = ['Id', 'CITY']\n",
        "\n",
        "  df.drop(columns = cols, inplace = True)\n",
        "  df.reset_index(drop = True, inplace = True)\n",
        "\n",
        "  if 'Risk_Flag' in df.columns:\n",
        "    df.Risk_Flag = df.Risk_Flag.apply(lambda x: 1 if x == 0 else 0)\n",
        "\n",
        "  df.Age = df.Age.apply(age)\n",
        "  df.CURRENT_JOB_YRS = df.CURRENT_JOB_YRS.apply(job_year)\n",
        "  df.STATE = df.STATE.apply(region)\n",
        "  df.Experience = df.Experience.apply(exp)\n",
        "  df.House_Ownership = df.House_Ownership.apply(house)\n",
        "  df.Profession = df.Profession.apply(prof)\n",
        "\n",
        "  return df"
      ],
      "metadata": {
        "id": "dclmKc7xDCm2"
      },
      "execution_count": null,
      "outputs": []
    },
    {
      "cell_type": "code",
      "source": [
        "train = feature(train)\n",
        "val = feature(val)\n",
        "test = feature(test)"
      ],
      "metadata": {
        "id": "H6uk7Xz2FXn_"
      },
      "execution_count": null,
      "outputs": []
    },
    {
      "cell_type": "code",
      "source": [
        "train.head().T"
      ],
      "metadata": {
        "id": "-vqkLmw1GCoK",
        "outputId": "3c1083f1-bbaa-4433-ea45-f604c9b0c965",
        "colab": {
          "base_uri": "https://localhost:8080/",
          "height": 490
        }
      },
      "execution_count": null,
      "outputs": [
        {
          "output_type": "execute_result",
          "data": {
            "text/html": [
              "\n",
              "  <div id=\"df-3b27cd92-67c7-4448-977c-b3cacb1b305d\">\n",
              "    <div class=\"colab-df-container\">\n",
              "      <div>\n",
              "<style scoped>\n",
              "    .dataframe tbody tr th:only-of-type {\n",
              "        vertical-align: middle;\n",
              "    }\n",
              "\n",
              "    .dataframe tbody tr th {\n",
              "        vertical-align: top;\n",
              "    }\n",
              "\n",
              "    .dataframe thead th {\n",
              "        text-align: right;\n",
              "    }\n",
              "</style>\n",
              "<table border=\"1\" class=\"dataframe\">\n",
              "  <thead>\n",
              "    <tr style=\"text-align: right;\">\n",
              "      <th></th>\n",
              "      <th>0</th>\n",
              "      <th>1</th>\n",
              "      <th>2</th>\n",
              "      <th>3</th>\n",
              "      <th>4</th>\n",
              "    </tr>\n",
              "  </thead>\n",
              "  <tbody>\n",
              "    <tr>\n",
              "      <th>Income</th>\n",
              "      <td>Mid</td>\n",
              "      <td>High</td>\n",
              "      <td>Low</td>\n",
              "      <td>Mid</td>\n",
              "      <td>Mid</td>\n",
              "    </tr>\n",
              "    <tr>\n",
              "      <th>Age</th>\n",
              "      <td>30s</td>\n",
              "      <td>over 60s</td>\n",
              "      <td>over 60s</td>\n",
              "      <td>30s</td>\n",
              "      <td>under 30s</td>\n",
              "    </tr>\n",
              "    <tr>\n",
              "      <th>Experience</th>\n",
              "      <td>Mid</td>\n",
              "      <td>Senior</td>\n",
              "      <td>Senior</td>\n",
              "      <td>Senior</td>\n",
              "      <td>Senior</td>\n",
              "    </tr>\n",
              "    <tr>\n",
              "      <th>Married_Or_Single</th>\n",
              "      <td>single</td>\n",
              "      <td>married</td>\n",
              "      <td>single</td>\n",
              "      <td>single</td>\n",
              "      <td>single</td>\n",
              "    </tr>\n",
              "    <tr>\n",
              "      <th>House_Ownership</th>\n",
              "      <td>not owned</td>\n",
              "      <td>not owned</td>\n",
              "      <td>not owned</td>\n",
              "      <td>not owned</td>\n",
              "      <td>not owned</td>\n",
              "    </tr>\n",
              "    <tr>\n",
              "      <th>Car_Ownership</th>\n",
              "      <td>yes</td>\n",
              "      <td>yes</td>\n",
              "      <td>no</td>\n",
              "      <td>yes</td>\n",
              "      <td>no</td>\n",
              "    </tr>\n",
              "    <tr>\n",
              "      <th>Profession</th>\n",
              "      <td>Natural Sciences</td>\n",
              "      <td>Liberal Arts</td>\n",
              "      <td>Natural Sciences</td>\n",
              "      <td>Liberal Arts</td>\n",
              "      <td>Natural Sciences</td>\n",
              "    </tr>\n",
              "    <tr>\n",
              "      <th>STATE</th>\n",
              "      <td>South Area</td>\n",
              "      <td>South Area</td>\n",
              "      <td>North Area</td>\n",
              "      <td>South Area</td>\n",
              "      <td>North Area</td>\n",
              "    </tr>\n",
              "    <tr>\n",
              "      <th>CURRENT_JOB_YRS</th>\n",
              "      <td>2</td>\n",
              "      <td>3</td>\n",
              "      <td>2</td>\n",
              "      <td>2</td>\n",
              "      <td>2</td>\n",
              "    </tr>\n",
              "    <tr>\n",
              "      <th>CURRENT_HOUSE_YRS</th>\n",
              "      <td>13</td>\n",
              "      <td>14</td>\n",
              "      <td>11</td>\n",
              "      <td>10</td>\n",
              "      <td>13</td>\n",
              "    </tr>\n",
              "    <tr>\n",
              "      <th>Risk_Flag</th>\n",
              "      <td>0</td>\n",
              "      <td>1</td>\n",
              "      <td>1</td>\n",
              "      <td>1</td>\n",
              "      <td>1</td>\n",
              "    </tr>\n",
              "  </tbody>\n",
              "</table>\n",
              "</div>\n",
              "      <button class=\"colab-df-convert\" onclick=\"convertToInteractive('df-3b27cd92-67c7-4448-977c-b3cacb1b305d')\"\n",
              "              title=\"Convert this dataframe to an interactive table.\"\n",
              "              style=\"display:none;\">\n",
              "        \n",
              "  <svg xmlns=\"http://www.w3.org/2000/svg\" height=\"24px\"viewBox=\"0 0 24 24\"\n",
              "       width=\"24px\">\n",
              "    <path d=\"M0 0h24v24H0V0z\" fill=\"none\"/>\n",
              "    <path d=\"M18.56 5.44l.94 2.06.94-2.06 2.06-.94-2.06-.94-.94-2.06-.94 2.06-2.06.94zm-11 1L8.5 8.5l.94-2.06 2.06-.94-2.06-.94L8.5 2.5l-.94 2.06-2.06.94zm10 10l.94 2.06.94-2.06 2.06-.94-2.06-.94-.94-2.06-.94 2.06-2.06.94z\"/><path d=\"M17.41 7.96l-1.37-1.37c-.4-.4-.92-.59-1.43-.59-.52 0-1.04.2-1.43.59L10.3 9.45l-7.72 7.72c-.78.78-.78 2.05 0 2.83L4 21.41c.39.39.9.59 1.41.59.51 0 1.02-.2 1.41-.59l7.78-7.78 2.81-2.81c.8-.78.8-2.07 0-2.86zM5.41 20L4 18.59l7.72-7.72 1.47 1.35L5.41 20z\"/>\n",
              "  </svg>\n",
              "      </button>\n",
              "      \n",
              "  <style>\n",
              "    .colab-df-container {\n",
              "      display:flex;\n",
              "      flex-wrap:wrap;\n",
              "      gap: 12px;\n",
              "    }\n",
              "\n",
              "    .colab-df-convert {\n",
              "      background-color: #E8F0FE;\n",
              "      border: none;\n",
              "      border-radius: 50%;\n",
              "      cursor: pointer;\n",
              "      display: none;\n",
              "      fill: #1967D2;\n",
              "      height: 32px;\n",
              "      padding: 0 0 0 0;\n",
              "      width: 32px;\n",
              "    }\n",
              "\n",
              "    .colab-df-convert:hover {\n",
              "      background-color: #E2EBFA;\n",
              "      box-shadow: 0px 1px 2px rgba(60, 64, 67, 0.3), 0px 1px 3px 1px rgba(60, 64, 67, 0.15);\n",
              "      fill: #174EA6;\n",
              "    }\n",
              "\n",
              "    [theme=dark] .colab-df-convert {\n",
              "      background-color: #3B4455;\n",
              "      fill: #D2E3FC;\n",
              "    }\n",
              "\n",
              "    [theme=dark] .colab-df-convert:hover {\n",
              "      background-color: #434B5C;\n",
              "      box-shadow: 0px 1px 3px 1px rgba(0, 0, 0, 0.15);\n",
              "      filter: drop-shadow(0px 1px 2px rgba(0, 0, 0, 0.3));\n",
              "      fill: #FFFFFF;\n",
              "    }\n",
              "  </style>\n",
              "\n",
              "      <script>\n",
              "        const buttonEl =\n",
              "          document.querySelector('#df-3b27cd92-67c7-4448-977c-b3cacb1b305d button.colab-df-convert');\n",
              "        buttonEl.style.display =\n",
              "          google.colab.kernel.accessAllowed ? 'block' : 'none';\n",
              "\n",
              "        async function convertToInteractive(key) {\n",
              "          const element = document.querySelector('#df-3b27cd92-67c7-4448-977c-b3cacb1b305d');\n",
              "          const dataTable =\n",
              "            await google.colab.kernel.invokeFunction('convertToInteractive',\n",
              "                                                     [key], {});\n",
              "          if (!dataTable) return;\n",
              "\n",
              "          const docLinkHtml = 'Like what you see? Visit the ' +\n",
              "            '<a target=\"_blank\" href=https://colab.research.google.com/notebooks/data_table.ipynb>data table notebook</a>'\n",
              "            + ' to learn more about interactive tables.';\n",
              "          element.innerHTML = '';\n",
              "          dataTable['output_type'] = 'display_data';\n",
              "          await google.colab.output.renderOutput(dataTable, element);\n",
              "          const docLink = document.createElement('div');\n",
              "          docLink.innerHTML = docLinkHtml;\n",
              "          element.appendChild(docLink);\n",
              "        }\n",
              "      </script>\n",
              "    </div>\n",
              "  </div>\n",
              "  "
            ],
            "text/plain": [
              "                                  0  ...                 4\n",
              "Income                          Mid  ...               Mid\n",
              "Age                             30s  ...         under 30s\n",
              "Experience                      Mid  ...            Senior\n",
              "Married_Or_Single            single  ...            single\n",
              "House_Ownership           not owned  ...         not owned\n",
              "Car_Ownership                   yes  ...                no\n",
              "Profession         Natural Sciences  ...  Natural Sciences\n",
              "STATE                    South Area  ...        North Area\n",
              "CURRENT_JOB_YRS                   2  ...                 2\n",
              "CURRENT_HOUSE_YRS                13  ...                13\n",
              "Risk_Flag                         0  ...                 1\n",
              "\n",
              "[11 rows x 5 columns]"
            ]
          },
          "metadata": {},
          "execution_count": 122
        }
      ]
    },
    {
      "cell_type": "markdown",
      "source": [
        "#### 데이터 전처리 결과 확인"
      ],
      "metadata": {
        "id": "H2QtEjxUGzXt"
      }
    },
    {
      "cell_type": "code",
      "source": [
        "prof = train.Profession.value_counts()\n",
        "age = train.Age.value_counts()\n",
        "exp = train.Experience.value_counts()\n",
        "houseP = train.House_Ownership.value_counts()\n",
        "region = train.STATE.value_counts()\n",
        "job_yrs = train.CURRENT_JOB_YRS.value_counts()"
      ],
      "metadata": {
        "id": "tX5PnddeGIID"
      },
      "execution_count": null,
      "outputs": []
    },
    {
      "cell_type": "code",
      "source": [
        "color1 = ['#9ba9ff', '#afb1ff', '#cebeff', '#eccaff']\n",
        "color2 = ['#71a5de', '#abc4ff', '#c1d3fe', '#d7e3fc']\n",
        "color3 = ['#a5eeaa', '#c4f39d', '#e3f790', '#f3f98a']"
      ],
      "metadata": {
        "id": "lBuqTRUIKhVw"
      },
      "execution_count": null,
      "outputs": []
    },
    {
      "cell_type": "code",
      "source": [
        "plt.figure(figsize = (25, 5))\n",
        "\n",
        "plt.subplot(1, 3, 1)\n",
        "plt.bar(houseP.index, houseP.values, color = color1)\n",
        "plt.title('House_Ownership')\n",
        "\n",
        "plt.subplot(1, 3, 2)\n",
        "plt.bar(age.index, age.values, color = color3)\n",
        "plt.title('Age')\n",
        "\n",
        "plt.subplot(1, 3, 3)\n",
        "plt.bar(exp.index, exp.values, color = color1)\n",
        "plt.title('Experience')\n",
        "\n",
        "\n",
        "plt.show()\n"
      ],
      "metadata": {
        "id": "ICuu3RjnGNaW",
        "outputId": "d5c90d1d-8240-4554-94c8-4d29c2807f33",
        "colab": {
          "base_uri": "https://localhost:8080/",
          "height": 158
        }
      },
      "execution_count": null,
      "outputs": [
        {
          "output_type": "display_data",
          "data": {
            "image/png": "[encoded data removed]",
            "text/plain": [
              "<Figure size 1800x360 with 3 Axes>"
            ]
          },
          "metadata": {
            "needs_background": "light"
          }
        }
      ]
    },
    {
      "cell_type": "code",
      "source": [
        "plt.figure(figsize = (25, 5))\n",
        "\n",
        "plt.subplot(1, 3, 1)\n",
        "plt.bar(prof.index, prof.values, color = color3)\n",
        "plt.title('Profession')\n",
        "\n",
        "plt.subplot(1, 3, 2)\n",
        "plt.bar(region.index, region.values, color = color1)\n",
        "plt.title('State')\n",
        "\n",
        "plt.subplot(1, 3, 3)\n",
        "plt.bar(job_yrs.index, job_yrs.values, color = color3)\n",
        "plt.xticks([1, 2, 3], ['1(0~5 years)', '2(6~10 years)', '3(more than 10)'])\n",
        "plt.title('CURRENT JOB YEARS')\n",
        "\n",
        "plt.show()"
      ],
      "metadata": {
        "id": "f7ze3QQIrwnp",
        "outputId": "00d18d63-2f7a-4f1c-a074-3944dd0d683f",
        "colab": {
          "base_uri": "https://localhost:8080/",
          "height": 159
        }
      },
      "execution_count": null,
      "outputs": [
        {
          "output_type": "display_data",
          "data": {
            "image/png": "[encoded data removed]",
            "text/plain": [
              "<Figure size 1800x360 with 3 Axes>"
            ]
          },
          "metadata": {
            "needs_background": "light"
          }
        }
      ]
    },
    {
      "cell_type": "code",
      "source": [
        "train.Risk_Flag.value_counts()"
      ],
      "metadata": {
        "id": "3mF6J0eyZvyz",
        "outputId": "bdb20f7c-e334-4457-f4eb-8911e1eef6bc",
        "colab": {
          "base_uri": "https://localhost:8080/"
        }
      },
      "execution_count": null,
      "outputs": [
        {
          "output_type": "execute_result",
          "data": {
            "text/plain": [
              "1    141442\n",
              "0     19838\n",
              "Name: Risk_Flag, dtype: int64"
            ]
          },
          "metadata": {},
          "execution_count": 32
        }
      ]
    },
    {
      "cell_type": "code",
      "source": [
        "%matplotlib inline\n",
        "\n",
        "ax = sns.set_palette('muted')\n",
        "ax = sns.countplot(data = train, x = target, palette = target_colors)\n",
        "\n",
        "plt.show()"
      ],
      "metadata": {
        "id": "L_y59pOxYpgi",
        "outputId": "6a5821ee-8fc7-4835-9672-a0364893a26b",
        "colab": {
          "base_uri": "https://localhost:8080/",
          "height": 279
        }
      },
      "execution_count": null,
      "outputs": [
        {
          "output_type": "display_data",
          "data": {
            "image/png": "[encoded data removed]",
            "text/plain": [
              "<Figure size 432x288 with 1 Axes>"
            ]
          },
          "metadata": {
            "needs_background": "light"
          }
        }
      ]
    },
    {
      "cell_type": "markdown",
      "source": [
        "## 모델 비교\n",
        "(HIstGradientBoostingClassifier vs LightGBM vs XGBClassifier vs ExtraTreesClassifier)\n"
      ],
      "metadata": {
        "id": "4PzQHhSAKIrn"
      }
    },
    {
      "cell_type": "code",
      "source": [
        "X_train = train.drop(columns = target)\n",
        "y_train = train[target]\n",
        "\n",
        "X_val = val.drop(columns = target)\n",
        "y_val = val[target]\n",
        "\n",
        "X_test = test.drop(columns = target)\n",
        "y_test = test[target]"
      ],
      "metadata": {
        "id": "0zyTr2B1LrUR"
      },
      "execution_count": null,
      "outputs": []
    },
    {
      "cell_type": "code",
      "source": [
        "ord_list = ['Income', 'Age', 'Experience', 'CURRENT_JOB_YRS', 'House_Ownership', 'Car_Ownership']\n",
        "ord_mapping = [\n",
        "           {'col': 'Age', 'mapping': {'under 30s': 1, '30s': 2, '4-50s': 3, 'over 60': 4, 'NaN': 0}},\n",
        "           {'col': 'Experience', 'mapping': {'Entry': 1, 'Intermediate': 2, 'Mid': 3, 'Senior': 4, 'NaN': 0}},\n",
        "           {'col': 'CURRENT_JOB_YRS', 'mapping': {3: 3, 2: 2, 1: 1, 'NaN': 0}},\n",
        "           {'col': 'House_Ownership', 'mapping': {'owned': 2, 'not owned': 1, 'NaN': 0}},\n",
        "           {'col': 'Car_Ownership', 'mapping': {'yes': 2, 'no': 1, 'NaN': 0}}\n",
        "]"
      ],
      "metadata": {
        "id": "7Goq_0bNMC5D"
      },
      "execution_count": null,
      "outputs": []
    },
    {
      "cell_type": "code",
      "source": [
        "from category_encoders import OneHotEncoder, OrdinalEncoder, TargetEncoder, CatBoostEncoder\n",
        "from sklearn.impute import SimpleImputer\n",
        "from sklearn.preprocessing import StandardScaler, LabelEncoder\n",
        "from sklearn.pipeline import make_pipeline, Pipeline\n",
        "from sklearn.experimental import enable_hist_gradient_boosting\n",
        "from sklearn.ensemble import HistGradientBoostingClassifier, ExtraTreesClassifier\n",
        "from sklearn.metrics import f1_score, accuracy_score, classification_report, roc_auc_score\n",
        "\n",
        "from lightgbm import LGBMClassifier\n",
        "from xgboost import XGBClassifier"
      ],
      "metadata": {
        "id": "yzH3xbQpM9FN"
      },
      "execution_count": null,
      "outputs": []
    },
    {
      "cell_type": "code",
      "source": [
        "# HistGradientBoostingClassifier\n",
        "\n",
        "hist_pipe = make_pipeline(\n",
        "    OrdinalEncoder(cols = ord_list, mapping = ord_mapping),\n",
        "    TargetEncoder(),\n",
        "    SimpleImputer(),\n",
        "    StandardScaler(),\n",
        "    HistGradientBoostingClassifier(\n",
        "        max_iter = 200,\n",
        "        learning_rate = 0.3,\n",
        "        random_state = 42\n",
        "    )\n",
        ")\n",
        "hist_pipe.fit(X_train, y_train)\n",
        "y_pred = hist_pipe.predict(X_val)\n",
        "f1 = f1_score(y_val, y_pred)\n",
        "\n",
        "\n",
        "print(f'Validation Score: {hist_pipe.score(X_val, y_val):.4f}')\n",
        "print(f'f1 Score: {f1:.4f}')\n",
        "print(f'ROC Score: {roc_auc_score(y_val, y_pred):.4f}')\n",
        "print(classification_report(y_val, y_pred))"
      ],
      "metadata": {
        "id": "ypOWYDCrKOkf",
        "outputId": "45356b8f-8d9a-4733-9ad5-5238f538198b",
        "colab": {
          "base_uri": "https://localhost:8080/"
        }
      },
      "execution_count": null,
      "outputs": [
        {
          "output_type": "stream",
          "name": "stdout",
          "text": [
            "Validation Score: 0.8856\n",
            "f1 Score: 0.9378\n",
            "ROC Score: 0.5877\n",
            "              precision    recall  f1-score   support\n",
            "\n",
            "           0       0.61      0.19      0.29      4959\n",
            "           1       0.90      0.98      0.94     35361\n",
            "\n",
            "    accuracy                           0.89     40320\n",
            "   macro avg       0.75      0.59      0.62     40320\n",
            "weighted avg       0.86      0.89      0.86     40320\n",
            "\n"
          ]
        }
      ]
    },
    {
      "cell_type": "code",
      "source": [
        "# LightGBM\n",
        "\n",
        "\n",
        "light_pipe = make_pipeline(\n",
        "    OrdinalEncoder(cols = ord_list, mapping = ord_mapping),\n",
        "    TargetEncoder(),\n",
        "    SimpleImputer(),\n",
        "    StandardScaler(),\n",
        "    LGBMClassifier(\n",
        "        boosting = 'rf',\n",
        "        bagging_fraction = 0.2,\n",
        "        bagging_freq = 1,\n",
        "        random_state = 42\n",
        "    )\n",
        ")\n",
        "light_pipe.fit(X_train, y_train)\n",
        "y_pred = light_pipe.predict(X_val)\n",
        "f1 = f1_score(y_val, y_pred)\n",
        "\n",
        "print(f'Validation Score: {light_pipe.score(X_val, y_val):.4f}')\n",
        "print(f'f1 Score: {f1:.4f}')\n",
        "print(f'ROC Score: {roc_auc_score(y_val, y_pred):.4f}')\n",
        "print(classification_report(y_val, y_pred))"
      ],
      "metadata": {
        "id": "PEbXzMK5PcUz",
        "outputId": "43c10e08-4b49-446f-819a-ffcdcde3b8ec",
        "colab": {
          "base_uri": "https://localhost:8080/"
        }
      },
      "execution_count": null,
      "outputs": [
        {
          "output_type": "stream",
          "name": "stdout",
          "text": [
            "Validation Score: 0.8774\n",
            "f1 Score: 0.9346\n",
            "ROC Score: 0.5023\n",
            "              precision    recall  f1-score   support\n",
            "\n",
            "           0       0.73      0.00      0.01      4959\n",
            "           1       0.88      1.00      0.93     35361\n",
            "\n",
            "    accuracy                           0.88     40320\n",
            "   macro avg       0.80      0.50      0.47     40320\n",
            "weighted avg       0.86      0.88      0.82     40320\n",
            "\n"
          ]
        }
      ]
    },
    {
      "cell_type": "code",
      "source": [
        "# XGBClassifier\n",
        "\n",
        "\n",
        "xgb_pipe = make_pipeline(\n",
        "    OrdinalEncoder(cols = ord_list, mapping = ord_mapping),\n",
        "    TargetEncoder(),\n",
        "    SimpleImputer(),\n",
        "    StandardScaler(),\n",
        "    XGBClassifier(\n",
        "        max_depth = 6,\n",
        "        reg_alpha = 0.9,\n",
        "        reg_lambda = 0.2,\n",
        "        random_state = 42\n",
        "    )\n",
        ")\n",
        "xgb_pipe.fit(X_train, y_train)\n",
        "y_pred = xgb_pipe.predict(X_val)\n",
        "f1 = f1_score(y_val, y_pred)\n",
        "\n",
        "print(f'Validation Score: {xgb_pipe.score(X_val, y_val):.4f}')\n",
        "print(f'f1 Score: {f1:.4f}')\n",
        "print(f'ROC Score: {roc_auc_score(y_val, y_pred):.4f}')\n",
        "print(classification_report(y_val, y_pred))"
      ],
      "metadata": {
        "id": "A7V6bXCRRhKj",
        "outputId": "cdccfc5a-6bc1-4b09-da61-ac164899626b",
        "colab": {
          "base_uri": "https://localhost:8080/"
        }
      },
      "execution_count": null,
      "outputs": [
        {
          "output_type": "stream",
          "name": "stdout",
          "text": [
            "Validation Score: 0.8779\n",
            "f1 Score: 0.9349\n",
            "ROC Score: 0.5061\n",
            "              precision    recall  f1-score   support\n",
            "\n",
            "           0       0.70      0.01      0.03      4959\n",
            "           1       0.88      1.00      0.93     35361\n",
            "\n",
            "    accuracy                           0.88     40320\n",
            "   macro avg       0.79      0.51      0.48     40320\n",
            "weighted avg       0.86      0.88      0.82     40320\n",
            "\n"
          ]
        }
      ]
    },
    {
      "cell_type": "code",
      "source": [
        "# ExtraTreesClassifier\n",
        "\n",
        "extra_pipe = make_pipeline(\n",
        "    OrdinalEncoder(cols = ord_list, mapping = ord_mapping),\n",
        "    TargetEncoder(),\n",
        "    SimpleImputer(),\n",
        "    StandardScaler(),\n",
        "    ExtraTreesClassifier(\n",
        "        min_samples_split = 3,\n",
        "        random_state = 42\n",
        "    )\n",
        ")\n",
        "extra_pipe.fit(X_train, y_train)\n",
        "y_pred =extra_pipe.predict(X_val)\n",
        "f1 = f1_score(y_val, y_pred)\n",
        "\n",
        "print(f'Validation Score: {extra_pipe.score(X_val, y_val):.4f}')\n",
        "print(f'f1 Score: {f1:.4f}')\n",
        "print(f'ROC Score: {roc_auc_score(y_val, y_pred):.4f}')\n",
        "print(classification_report(y_val, y_pred))"
      ],
      "metadata": {
        "id": "YHVq7WfLSPQy",
        "outputId": "dcddc2f7-52e6-4629-af7c-7222e5e328e6",
        "colab": {
          "base_uri": "https://localhost:8080/"
        }
      },
      "execution_count": null,
      "outputs": [
        {
          "output_type": "stream",
          "name": "stdout",
          "text": [
            "Validation Score: 0.8896\n",
            "f1 Score: 0.9368\n",
            "ROC Score: 0.7567\n",
            "              precision    recall  f1-score   support\n",
            "\n",
            "           0       0.55      0.58      0.56      4959\n",
            "           1       0.94      0.93      0.94     35361\n",
            "\n",
            "    accuracy                           0.89     40320\n",
            "   macro avg       0.74      0.76      0.75     40320\n",
            "weighted avg       0.89      0.89      0.89     40320\n",
            "\n"
          ]
        }
      ]
    },
    {
      "cell_type": "markdown",
      "source": [
        "## 하이퍼파라미터 튜닝"
      ],
      "metadata": {
        "id": "sviU8PVOxV_b"
      }
    },
    {
      "cell_type": "code",
      "source": [
        "from sklearn.model_selection import cross_val_score, GridSearchCV, StratifiedKFold\n",
        "from sklearn.metrics import accuracy_score"
      ],
      "metadata": {
        "id": "a71OieVHxY2Y"
      },
      "execution_count": null,
      "outputs": []
    },
    {
      "cell_type": "code",
      "source": [
        "extra_pipe = make_pipeline(\n",
        "    OrdinalEncoder(cols = ord_list, mapping = ord_mapping),\n",
        "    TargetEncoder(),\n",
        "    SimpleImputer(),\n",
        "    StandardScaler(),\n",
        "    ExtraTreesClassifier(\n",
        "        random_state = 42\n",
        "    )\n",
        ")"
      ],
      "metadata": {
        "id": "UsS0V4wYyC6v"
      },
      "execution_count": null,
      "outputs": []
    },
    {
      "cell_type": "code",
      "source": [
        "for i in list(range(2, 11)):\n",
        "  scores = cross_val_score(extra_pipe, X_train, y_train, cv = i, scoring = 'f1')\n",
        "  print('k = ', i)\n",
        "  print('f1 score: ', scores)\n",
        "  print(f'f1 score mean: {scores.mean():,.8f}\\n')"
      ],
      "metadata": {
        "id": "PnfLOrJcxcoW",
        "outputId": "0e559998-7eb9-4072-b0f9-9e46c88c26df",
        "colab": {
          "base_uri": "https://localhost:8080/"
        }
      },
      "execution_count": null,
      "outputs": [
        {
          "output_type": "stream",
          "name": "stdout",
          "text": [
            "k =  2\n",
            "f1 score:  [0.93666068 0.93715841]\n",
            "f1 score mean: 0.93690954\n",
            "\n",
            "k =  3\n",
            "f1 score:  [0.93572076 0.9359249  0.93719044]\n",
            "f1 score mean: 0.93627870\n",
            "\n",
            "k =  4\n",
            "f1 score:  [0.93538121 0.93581792 0.93759941 0.93741644]\n",
            "f1 score mean: 0.93655374\n",
            "\n",
            "k =  5\n",
            "f1 score:  [0.93585509 0.93471868 0.93554289 0.9369626  0.93735424]\n",
            "f1 score mean: 0.93608670\n",
            "\n",
            "k =  6\n",
            "f1 score:  [0.93656645 0.93532253 0.93482023 0.93663337 0.93688304 0.93720861]\n",
            "f1 score mean: 0.93623904\n",
            "\n",
            "k =  7\n",
            "f1 score:  [0.93720959 0.93496664 0.93506882 0.93571961 0.93672713 0.93746108\n",
            " 0.9364727 ]\n",
            "f1 score mean: 0.93623222\n",
            "\n",
            "k =  8\n",
            "f1 score:  [0.93705379 0.93479991 0.93545535 0.93447342 0.93597094 0.93785053\n",
            " 0.93830254 0.93517092]\n",
            "f1 score mean: 0.93613467\n",
            "\n",
            "k =  9\n",
            "f1 score:  [0.93748402 0.93503503 0.935731   0.93423455 0.93587367 0.93701141\n",
            " 0.9367194  0.9369965  0.93573331]\n",
            "f1 score mean: 0.93609099\n",
            "\n",
            "k =  10\n",
            "f1 score:  [0.93666833 0.93611741 0.93473774 0.93529747 0.93514533 0.93680666\n",
            " 0.93676915 0.93564957 0.93781165 0.93534821]\n",
            "f1 score mean: 0.93603515\n",
            "\n"
          ]
        }
      ]
    },
    {
      "cell_type": "code",
      "source": [
        "# dists = {\n",
        "#     'extratreesclassifier__n_estimators': [100, 250, 400],\n",
        "#     'extratreesclassifier__max_depth': [12, 8, 4, None],\n",
        "#     'extratreesclassifier__min_samples_split': [2, 4, 8, 12],\n",
        "#     'extratreesclassifier__min_samples_leaf': [1, 3, 5, 8],\n",
        "#     'extratreesclassifier__max_features': [1, 4, 7, 10]\n",
        "# }\n",
        "\n",
        "# clf = GridSearchCV(\n",
        "#     extra_pipe,\n",
        "#     dists,\n",
        "#     cv = 2,\n",
        "#     n_jobs = -1\n",
        "# )\n",
        "\n",
        "# clf.fit(X_train, y_train)\n",
        "\n",
        "# print('best_hyperparameter: ', clf.best_params_)\n",
        "# print('best_f1_score: ', clf.best_score_)"
      ],
      "metadata": {
        "id": "PHpZ5NxI2Bdj"
      },
      "execution_count": null,
      "outputs": []
    },
    {
      "cell_type": "code",
      "source": [
        "final_pipe = Pipeline([\n",
        "  (\n",
        "      'preprocessing', make_pipeline(\n",
        "          OrdinalEncoder(cols = ord_list, mapping = ord_mapping),\n",
        "          TargetEncoder(),\n",
        "          SimpleImputer(),\n",
        "          StandardScaler()\n",
        "      )\n",
        "  ),\n",
        "  (\n",
        "       'tree', ExtraTreesClassifier(\n",
        "           n_estimators = 250,\n",
        "           class_weight = 'balanced',\n",
        "           max_features = 'sqrt',\n",
        "           min_samples_split = 8,\n",
        "           random_state = 42)\n",
        "   )\n",
        "])\n",
        "\n",
        "final_pipe.fit(X_train, y_train)\n",
        "y_pred =final_pipe.predict(X_val)\n",
        "y_test_pred = final_pipe.predict(X_test)\n",
        "f1 = f1_score(y_val, y_pred)\n",
        "\n",
        "print('Accuracy: ', accuracy_score(y_val, y_pred))\n",
        "print('Validation Score: ',final_pipe.score(X_val, y_val))\n",
        "print('f1 Score: ', f1)\n",
        "print('ROC Score: ', roc_auc_score(y_val, y_pred))\n",
        "print(classification_report(y_val, y_pred))\n",
        "\n",
        "print('\\n\\n-----------------------------\\n\\n')\n",
        "\n",
        "print('Test Score: ', final_pipe.score(X_test, y_test))\n",
        "print('f1 Score: ', f1_score(y_test, y_test_pred))\n",
        "print('ROC Score: ', roc_auc_score(y_test, y_test_pred))\n",
        "print(classification_report(y_test, y_test_pred))"
      ],
      "metadata": {
        "id": "aOGz5t7kZeOQ",
        "outputId": "3d1fa777-135e-49e7-f456-989783959b3f",
        "colab": {
          "base_uri": "https://localhost:8080/"
        }
      },
      "execution_count": null,
      "outputs": [
        {
          "output_type": "stream",
          "name": "stdout",
          "text": [
            "Accuracy:  0.8749007936507937\n",
            "Validation Score:  0.8749007936507937\n",
            "f1 Score:  0.9252785020146954\n",
            "ROC Score:  0.849533340611133\n",
            "              precision    recall  f1-score   support\n",
            "\n",
            "           0       0.49      0.82      0.62      4959\n",
            "           1       0.97      0.88      0.93     35361\n",
            "\n",
            "    accuracy                           0.87     40320\n",
            "   macro avg       0.73      0.85      0.77     40320\n",
            "weighted avg       0.91      0.87      0.89     40320\n",
            "\n",
            "\n",
            "\n",
            "-----------------------------\n",
            "\n",
            "\n",
            "Test Score:  0.8746031746031746\n",
            "f1 Score:  0.9250652122361869\n",
            "ROC Score:  0.8502165343691526\n",
            "              precision    recall  f1-score   support\n",
            "\n",
            "           0       0.49      0.82      0.62      6199\n",
            "           1       0.97      0.88      0.93     44201\n",
            "\n",
            "    accuracy                           0.87     50400\n",
            "   macro avg       0.73      0.85      0.77     50400\n",
            "weighted avg       0.91      0.87      0.89     50400\n",
            "\n"
          ]
        }
      ]
    },
    {
      "cell_type": "markdown",
      "source": [
        "## 결과 시각화"
      ],
      "metadata": {
        "id": "w3kboiiDXjZ8"
      }
    },
    {
      "cell_type": "code",
      "source": [
        "from sklearn.metrics import roc_curve\n",
        "from yellowbrick.classifier import ROCAUC, ClassificationReport, ConfusionMatrix\n",
        "from yellowbrick.model_selection import FeatureImportances\n",
        "from yellowbrick.style import set_palette"
      ],
      "metadata": {
        "id": "HFpSps3FYgCL"
      },
      "execution_count": null,
      "outputs": []
    },
    {
      "cell_type": "code",
      "source": [
        "report = ClassificationReport(final_pipe, classes = [0, 1], cmap = 'YlGnBu')\n",
        "report.fit(X_train, y_train)\n",
        "report.score(X_test, y_test)\n",
        "report.show();"
      ],
      "metadata": {
        "id": "oK4Llghp3tHW",
        "outputId": "cdebc1bd-1ed3-49b4-dd55-3c8a0747299e",
        "colab": {
          "base_uri": "https://localhost:8080/",
          "height": 401
        }
      },
      "execution_count": null,
      "outputs": [
        {
          "output_type": "display_data",
          "data": {
            "image/png": "[encoded data removed]",
            "text/plain": [
              "<Figure size 576x396 with 2 Axes>"
            ]
          },
          "metadata": {}
        }
      ]
    },
    {
      "cell_type": "code",
      "source": [
        "colors = ['#b8e1ff', '#93e1d8']\n",
        "\n",
        "cm = ConfusionMatrix(final_pipe, classes = [0, 1], percent = True, cmap=colors)\n",
        "set_palette('pastel')\n",
        "cm.fit(X_train, y_train)\n",
        "cm.score(X_test, y_test)\n",
        "cm.ax.set_xticklabels([0,1], rotation=0)\n",
        "cm.show();"
      ],
      "metadata": {
        "id": "AuDAEmcY4Pdk",
        "outputId": "658a3580-6a8f-4d00-a550-643950fa78d3",
        "colab": {
          "base_uri": "https://localhost:8080/",
          "height": 401
        }
      },
      "execution_count": null,
      "outputs": [
        {
          "output_type": "display_data",
          "data": {
            "image/png": "[encoded data removed]",
            "text/plain": [
              "<Figure size 576x396 with 1 Axes>"
            ]
          },
          "metadata": {}
        }
      ]
    },
    {
      "cell_type": "markdown",
      "source": [
        "### ROC Curve"
      ],
      "metadata": {
        "id": "5WYfSR3O5rSZ"
      }
    },
    {
      "cell_type": "code",
      "source": [
        "import numpy as np"
      ],
      "metadata": {
        "id": "D5bnHZ9w6IPe"
      },
      "execution_count": null,
      "outputs": []
    },
    {
      "cell_type": "code",
      "source": [
        "pred_positive = final_pipe.predict_proba(X_val)[:,1]\n",
        "fprs, tprs, thresholds = roc_curve(y_val, pred_positive)\n",
        "\n",
        "thr_idx = np.arange(1, thresholds.shape[0], 6)"
      ],
      "metadata": {
        "id": "1-wsebsdxLxy"
      },
      "execution_count": null,
      "outputs": []
    },
    {
      "cell_type": "code",
      "source": [
        "plt.plot(fprs, tprs, color = 'dodgerblue', linestyle = '-', linewidth = 3, label = 'ROC')\n",
        "plt.xlabel('False Positive Rate', fontsize = 15)\n",
        "plt.ylabel('True Positive Rate', fontsize = 15)\n",
        "plt.title('ROC curve', fontsize = 20)\n",
        "plt.grid(False)\n",
        "plt.show();"
      ],
      "metadata": {
        "id": "e9vnhe1Pxpi7",
        "outputId": "6add7d7f-1c9a-45cc-fd23-a205c0424910",
        "colab": {
          "base_uri": "https://localhost:8080/",
          "height": 386
        }
      },
      "execution_count": null,
      "outputs": [
        {
          "output_type": "display_data",
          "data": {
            "image/png": "[encoded data removed]",
            "text/plain": [
              "<Figure size 576x396 with 1 Axes>"
            ]
          },
          "metadata": {}
        }
      ]
    },
    {
      "cell_type": "markdown",
      "source": [
        "### 특성 중요도"
      ],
      "metadata": {
        "id": "1dcriLS-8t0d"
      }
    },
    {
      "cell_type": "code",
      "source": [
        "from eli5.sklearn import PermutationImportance\n",
        "import eli5"
      ],
      "metadata": {
        "id": "_weSY2PLT9k8"
      },
      "execution_count": null,
      "outputs": []
    },
    {
      "cell_type": "code",
      "source": [
        "trees = final_pipe.named_steps['tree']\n",
        "importances = pd.DataFrame(\n",
        "    {\n",
        "        'Feature': X_train.columns,\n",
        "        'Importances': trees.feature_importances_\n",
        "    }\n",
        ")\n",
        "\n",
        "importances = importances.sort_values(by=['Importances']).reset_index(drop = True)\n",
        "importances"
      ],
      "metadata": {
        "colab": {
          "base_uri": "https://localhost:8080/",
          "height": 363
        },
        "id": "tRl1NbOefwWU",
        "outputId": "d44b9bdb-3a6b-4df2-9c7c-3b4607ed425a"
      },
      "execution_count": null,
      "outputs": [
        {
          "output_type": "execute_result",
          "data": {
            "text/html": [
              "\n",
              "  <div id=\"df-cde42aec-a9af-4af0-83df-7ecdb6cbff85\">\n",
              "    <div class=\"colab-df-container\">\n",
              "      <div>\n",
              "<style scoped>\n",
              "    .dataframe tbody tr th:only-of-type {\n",
              "        vertical-align: middle;\n",
              "    }\n",
              "\n",
              "    .dataframe tbody tr th {\n",
              "        vertical-align: top;\n",
              "    }\n",
              "\n",
              "    .dataframe thead th {\n",
              "        text-align: right;\n",
              "    }\n",
              "</style>\n",
              "<table border=\"1\" class=\"dataframe\">\n",
              "  <thead>\n",
              "    <tr style=\"text-align: right;\">\n",
              "      <th></th>\n",
              "      <th>Feature</th>\n",
              "      <th>Importances</th>\n",
              "    </tr>\n",
              "  </thead>\n",
              "  <tbody>\n",
              "    <tr>\n",
              "      <th>0</th>\n",
              "      <td>House_Ownership</td>\n",
              "      <td>0.007323</td>\n",
              "    </tr>\n",
              "    <tr>\n",
              "      <th>1</th>\n",
              "      <td>Married_Or_Single</td>\n",
              "      <td>0.010838</td>\n",
              "    </tr>\n",
              "    <tr>\n",
              "      <th>2</th>\n",
              "      <td>Car_Ownership</td>\n",
              "      <td>0.013734</td>\n",
              "    </tr>\n",
              "    <tr>\n",
              "      <th>3</th>\n",
              "      <td>Profession</td>\n",
              "      <td>0.033291</td>\n",
              "    </tr>\n",
              "    <tr>\n",
              "      <th>4</th>\n",
              "      <td>CURRENT_JOB_YRS</td>\n",
              "      <td>0.038152</td>\n",
              "    </tr>\n",
              "    <tr>\n",
              "      <th>5</th>\n",
              "      <td>Experience</td>\n",
              "      <td>0.048917</td>\n",
              "    </tr>\n",
              "    <tr>\n",
              "      <th>6</th>\n",
              "      <td>STATE</td>\n",
              "      <td>0.071506</td>\n",
              "    </tr>\n",
              "    <tr>\n",
              "      <th>7</th>\n",
              "      <td>Age</td>\n",
              "      <td>0.083115</td>\n",
              "    </tr>\n",
              "    <tr>\n",
              "      <th>8</th>\n",
              "      <td>CURRENT_HOUSE_YRS</td>\n",
              "      <td>0.136931</td>\n",
              "    </tr>\n",
              "    <tr>\n",
              "      <th>9</th>\n",
              "      <td>Income</td>\n",
              "      <td>0.556193</td>\n",
              "    </tr>\n",
              "  </tbody>\n",
              "</table>\n",
              "</div>\n",
              "      <button class=\"colab-df-convert\" onclick=\"convertToInteractive('df-cde42aec-a9af-4af0-83df-7ecdb6cbff85')\"\n",
              "              title=\"Convert this dataframe to an interactive table.\"\n",
              "              style=\"display:none;\">\n",
              "        \n",
              "  <svg xmlns=\"http://www.w3.org/2000/svg\" height=\"24px\"viewBox=\"0 0 24 24\"\n",
              "       width=\"24px\">\n",
              "    <path d=\"M0 0h24v24H0V0z\" fill=\"none\"/>\n",
              "    <path d=\"M18.56 5.44l.94 2.06.94-2.06 2.06-.94-2.06-.94-.94-2.06-.94 2.06-2.06.94zm-11 1L8.5 8.5l.94-2.06 2.06-.94-2.06-.94L8.5 2.5l-.94 2.06-2.06.94zm10 10l.94 2.06.94-2.06 2.06-.94-2.06-.94-.94-2.06-.94 2.06-2.06.94z\"/><path d=\"M17.41 7.96l-1.37-1.37c-.4-.4-.92-.59-1.43-.59-.52 0-1.04.2-1.43.59L10.3 9.45l-7.72 7.72c-.78.78-.78 2.05 0 2.83L4 21.41c.39.39.9.59 1.41.59.51 0 1.02-.2 1.41-.59l7.78-7.78 2.81-2.81c.8-.78.8-2.07 0-2.86zM5.41 20L4 18.59l7.72-7.72 1.47 1.35L5.41 20z\"/>\n",
              "  </svg>\n",
              "      </button>\n",
              "      \n",
              "  <style>\n",
              "    .colab-df-container {\n",
              "      display:flex;\n",
              "      flex-wrap:wrap;\n",
              "      gap: 12px;\n",
              "    }\n",
              "\n",
              "    .colab-df-convert {\n",
              "      background-color: #E8F0FE;\n",
              "      border: none;\n",
              "      border-radius: 50%;\n",
              "      cursor: pointer;\n",
              "      display: none;\n",
              "      fill: #1967D2;\n",
              "      height: 32px;\n",
              "      padding: 0 0 0 0;\n",
              "      width: 32px;\n",
              "    }\n",
              "\n",
              "    .colab-df-convert:hover {\n",
              "      background-color: #E2EBFA;\n",
              "      box-shadow: 0px 1px 2px rgba(60, 64, 67, 0.3), 0px 1px 3px 1px rgba(60, 64, 67, 0.15);\n",
              "      fill: #174EA6;\n",
              "    }\n",
              "\n",
              "    [theme=dark] .colab-df-convert {\n",
              "      background-color: #3B4455;\n",
              "      fill: #D2E3FC;\n",
              "    }\n",
              "\n",
              "    [theme=dark] .colab-df-convert:hover {\n",
              "      background-color: #434B5C;\n",
              "      box-shadow: 0px 1px 3px 1px rgba(0, 0, 0, 0.15);\n",
              "      filter: drop-shadow(0px 1px 2px rgba(0, 0, 0, 0.3));\n",
              "      fill: #FFFFFF;\n",
              "    }\n",
              "  </style>\n",
              "\n",
              "      <script>\n",
              "        const buttonEl =\n",
              "          document.querySelector('#df-cde42aec-a9af-4af0-83df-7ecdb6cbff85 button.colab-df-convert');\n",
              "        buttonEl.style.display =\n",
              "          google.colab.kernel.accessAllowed ? 'block' : 'none';\n",
              "\n",
              "        async function convertToInteractive(key) {\n",
              "          const element = document.querySelector('#df-cde42aec-a9af-4af0-83df-7ecdb6cbff85');\n",
              "          const dataTable =\n",
              "            await google.colab.kernel.invokeFunction('convertToInteractive',\n",
              "                                                     [key], {});\n",
              "          if (!dataTable) return;\n",
              "\n",
              "          const docLinkHtml = 'Like what you see? Visit the ' +\n",
              "            '<a target=\"_blank\" href=https://colab.research.google.com/notebooks/data_table.ipynb>data table notebook</a>'\n",
              "            + ' to learn more about interactive tables.';\n",
              "          element.innerHTML = '';\n",
              "          dataTable['output_type'] = 'display_data';\n",
              "          await google.colab.output.renderOutput(dataTable, element);\n",
              "          const docLink = document.createElement('div');\n",
              "          docLink.innerHTML = docLinkHtml;\n",
              "          element.appendChild(docLink);\n",
              "        }\n",
              "      </script>\n",
              "    </div>\n",
              "  </div>\n",
              "  "
            ],
            "text/plain": [
              "             Feature  Importances\n",
              "0    House_Ownership     0.007323\n",
              "1  Married_Or_Single     0.010838\n",
              "2      Car_Ownership     0.013734\n",
              "3         Profession     0.033291\n",
              "4    CURRENT_JOB_YRS     0.038152\n",
              "5         Experience     0.048917\n",
              "6              STATE     0.071506\n",
              "7                Age     0.083115\n",
              "8  CURRENT_HOUSE_YRS     0.136931\n",
              "9             Income     0.556193"
            ]
          },
          "metadata": {},
          "execution_count": 128
        }
      ]
    },
    {
      "cell_type": "code",
      "source": [
        "colors = ['#d9ed92', '#b5e48c', '#99d98c', '#76c893', '#52b69a', \n",
        "          '#34a0a4', '#168aad', '#1a759f', '#1e6091', '#184e77']\n",
        "\n",
        "sns.barplot(\n",
        "    data = importances,\n",
        "    x = 'Importances',\n",
        "    y = 'Feature',\n",
        "    palette = colors\n",
        ");"
      ],
      "metadata": {
        "colab": {
          "base_uri": "https://localhost:8080/",
          "height": 361
        },
        "id": "FyA_0tksg02F",
        "outputId": "6540b266-2510-4ba8-d96d-e44af95220c9"
      },
      "execution_count": null,
      "outputs": [
        {
          "output_type": "display_data",
          "data": {
            "image/png": "[encoded data removed]",
            "text/plain": [
              "<Figure size 576x396 with 1 Axes>"
            ]
          },
          "metadata": {}
        }
      ]
    }
  ]
}