{
  "nbformat": 4,
  "nbformat_minor": 0,
  "metadata": {
    "colab": {
      "name": "CP1.ipynb",
      "provenance": [],
      "authorship_tag": "ABX9TyPfJWWzd0AfqwnaSEHZSck/",
      "include_colab_link": true
    },
    "kernelspec": {
      "name": "python3",
      "display_name": "Python 3"
    },
    "language_info": {
      "name": "python"
    }
  },
  "cells": [
    {
      "cell_type": "markdown",
      "metadata": {
        "id": "view-in-github",
        "colab_type": "text"
      },
      "source": [
        "<a href=\"https://colab.research.google.com/github/hwon-n/section6_project1/blob/main/CP1.ipynb\" target=\"_parent\"><img src=\"https://colab.research.google.com/assets/colab-badge.svg\" alt=\"Open In Colab\"/></a>"
      ]
    },
    {
      "cell_type": "code",
      "source": [
        "from google.colab import drive\n",
        "drive.mount('/content/drive')"
      ],
      "metadata": {
        "colab": {
          "base_uri": "https://localhost:8080/"
        },
        "id": "efzqSLF6cixu",
        "outputId": "064ff4cb-57a9-4e07-8c96-425cc96dc319"
      },
      "execution_count": 1,
      "outputs": [
        {
          "output_type": "stream",
          "name": "stdout",
          "text": [
            "Drive already mounted at /content/drive; to attempt to forcibly remount, call drive.mount(\"/content/drive\", force_remount=True).\n"
          ]
        }
      ]
    },
    {
      "cell_type": "code",
      "source": [
        "!pip install -U pandas-profiling"
      ],
      "metadata": {
        "colab": {
          "base_uri": "https://localhost:8080/"
        },
        "id": "D-X4QPnSicHe",
        "outputId": "68c40302-6df4-4c28-c2dd-72a5c31acee7"
      },
      "execution_count": 2,
      "outputs": [
        {
          "output_type": "stream",
          "name": "stdout",
          "text": [
            "Requirement already satisfied: pandas-profiling in /usr/local/lib/python3.7/dist-packages (3.1.0)\n",
            "Requirement already satisfied: missingno>=0.4.2 in /usr/local/lib/python3.7/dist-packages (from pandas-profiling) (0.5.0)\n",
            "Requirement already satisfied: tqdm>=4.48.2 in /usr/local/lib/python3.7/dist-packages (from pandas-profiling) (4.62.3)\n",
            "Requirement already satisfied: matplotlib>=3.2.0 in /usr/local/lib/python3.7/dist-packages (from pandas-profiling) (3.2.2)\n",
            "Requirement already satisfied: visions[type_image_path]==0.7.4 in /usr/local/lib/python3.7/dist-packages (from pandas-profiling) (0.7.4)\n",
            "Requirement already satisfied: tangled-up-in-unicode==0.1.0 in /usr/local/lib/python3.7/dist-packages (from pandas-profiling) (0.1.0)\n",
            "Requirement already satisfied: jinja2>=2.11.1 in /usr/local/lib/python3.7/dist-packages (from pandas-profiling) (2.11.3)\n",
            "Requirement already satisfied: pandas!=1.0.0,!=1.0.1,!=1.0.2,!=1.1.0,>=0.25.3 in /usr/local/lib/python3.7/dist-packages (from pandas-profiling) (1.3.5)\n",
            "Requirement already satisfied: joblib~=1.0.1 in /usr/local/lib/python3.7/dist-packages (from pandas-profiling) (1.0.1)\n",
            "Requirement already satisfied: markupsafe~=2.0.1 in /usr/local/lib/python3.7/dist-packages (from pandas-profiling) (2.0.1)\n",
            "Requirement already satisfied: htmlmin>=0.1.12 in /usr/local/lib/python3.7/dist-packages (from pandas-profiling) (0.1.12)\n",
            "Requirement already satisfied: scipy>=1.4.1 in /usr/local/lib/python3.7/dist-packages (from pandas-profiling) (1.7.3)\n",
            "Requirement already satisfied: multimethod>=1.4 in /usr/local/lib/python3.7/dist-packages (from pandas-profiling) (1.7)\n",
            "Requirement already satisfied: requests>=2.24.0 in /usr/local/lib/python3.7/dist-packages (from pandas-profiling) (2.27.1)\n",
            "Requirement already satisfied: seaborn>=0.10.1 in /usr/local/lib/python3.7/dist-packages (from pandas-profiling) (0.11.2)\n",
            "Requirement already satisfied: phik>=0.11.1 in /usr/local/lib/python3.7/dist-packages (from pandas-profiling) (0.12.0)\n",
            "Requirement already satisfied: numpy>=1.16.0 in /usr/local/lib/python3.7/dist-packages (from pandas-profiling) (1.21.5)\n",
            "Requirement already satisfied: PyYAML>=5.0.0 in /usr/local/lib/python3.7/dist-packages (from pandas-profiling) (6.0)\n",
            "Requirement already satisfied: pydantic>=1.8.1 in /usr/local/lib/python3.7/dist-packages (from pandas-profiling) (1.9.0)\n",
            "Requirement already satisfied: networkx>=2.4 in /usr/local/lib/python3.7/dist-packages (from visions[type_image_path]==0.7.4->pandas-profiling) (2.6.3)\n",
            "Requirement already satisfied: attrs>=19.3.0 in /usr/local/lib/python3.7/dist-packages (from visions[type_image_path]==0.7.4->pandas-profiling) (21.4.0)\n",
            "Requirement already satisfied: imagehash in /usr/local/lib/python3.7/dist-packages (from visions[type_image_path]==0.7.4->pandas-profiling) (4.2.1)\n",
            "Requirement already satisfied: Pillow in /usr/local/lib/python3.7/dist-packages (from visions[type_image_path]==0.7.4->pandas-profiling) (7.1.2)\n",
            "Requirement already satisfied: kiwisolver>=1.0.1 in /usr/local/lib/python3.7/dist-packages (from matplotlib>=3.2.0->pandas-profiling) (1.3.2)\n",
            "Requirement already satisfied: cycler>=0.10 in /usr/local/lib/python3.7/dist-packages (from matplotlib>=3.2.0->pandas-profiling) (0.11.0)\n",
            "Requirement already satisfied: pyparsing!=2.0.4,!=2.1.2,!=2.1.6,>=2.0.1 in /usr/local/lib/python3.7/dist-packages (from matplotlib>=3.2.0->pandas-profiling) (3.0.7)\n",
            "Requirement already satisfied: python-dateutil>=2.1 in /usr/local/lib/python3.7/dist-packages (from matplotlib>=3.2.0->pandas-profiling) (2.8.2)\n",
            "Requirement already satisfied: pytz>=2017.3 in /usr/local/lib/python3.7/dist-packages (from pandas!=1.0.0,!=1.0.1,!=1.0.2,!=1.1.0,>=0.25.3->pandas-profiling) (2018.9)\n",
            "Requirement already satisfied: typing-extensions>=3.7.4.3 in /usr/local/lib/python3.7/dist-packages (from pydantic>=1.8.1->pandas-profiling) (3.10.0.2)\n",
            "Requirement already satisfied: six>=1.5 in /usr/local/lib/python3.7/dist-packages (from python-dateutil>=2.1->matplotlib>=3.2.0->pandas-profiling) (1.15.0)\n",
            "Requirement already satisfied: idna<4,>=2.5 in /usr/local/lib/python3.7/dist-packages (from requests>=2.24.0->pandas-profiling) (2.10)\n",
            "Requirement already satisfied: certifi>=2017.4.17 in /usr/local/lib/python3.7/dist-packages (from requests>=2.24.0->pandas-profiling) (2021.10.8)\n",
            "Requirement already satisfied: charset-normalizer~=2.0.0 in /usr/local/lib/python3.7/dist-packages (from requests>=2.24.0->pandas-profiling) (2.0.11)\n",
            "Requirement already satisfied: urllib3<1.27,>=1.21.1 in /usr/local/lib/python3.7/dist-packages (from requests>=2.24.0->pandas-profiling) (1.24.3)\n",
            "Requirement already satisfied: PyWavelets in /usr/local/lib/python3.7/dist-packages (from imagehash->visions[type_image_path]==0.7.4->pandas-profiling) (1.2.0)\n"
          ]
        }
      ]
    },
    {
      "cell_type": "code",
      "source": [
        "import pandas as pd\n",
        "import pandas_profiling\n",
        "import seaborn as sns\n",
        "import matplotlib.pyplot as plt\n",
        "from sklearn.model_selection import train_test_split"
      ],
      "metadata": {
        "id": "MDvuWtqlcvBe"
      },
      "execution_count": 3,
      "outputs": []
    },
    {
      "cell_type": "code",
      "source": [
        "# 데이터 불러오기\n",
        "\n",
        "train = pd.read_csv('/content/drive/MyDrive/Training Data.csv')\n",
        "test = pd.read_csv('/content/drive/MyDrive/Test Data.csv')\n",
        "\n",
        "train.shape, test.shape"
      ],
      "metadata": {
        "colab": {
          "base_uri": "https://localhost:8080/"
        },
        "id": "t-DJGq_GhEfy",
        "outputId": "42f310d7-0730-4246-bcd2-e1145f18d807"
      },
      "execution_count": 115,
      "outputs": [
        {
          "output_type": "execute_result",
          "data": {
            "text/plain": [
              "((252000, 13), (28000, 12))"
            ]
          },
          "metadata": {},
          "execution_count": 115
        }
      ]
    },
    {
      "cell_type": "code",
      "source": [
        "target = 'Risk_Flag'\n",
        "train, val = train_test_split(train, train_size = 0.8, random_state = 42, stratify = train[target])\n",
        "train.shape, val.shape"
      ],
      "metadata": {
        "colab": {
          "base_uri": "https://localhost:8080/"
        },
        "id": "BIFxe0qxhflY",
        "outputId": "f3b6e8ca-57d4-494c-c0d3-fca6251c51dd"
      },
      "execution_count": 116,
      "outputs": [
        {
          "output_type": "execute_result",
          "data": {
            "text/plain": [
              "((201600, 13), (50400, 13))"
            ]
          },
          "metadata": {},
          "execution_count": 116
        }
      ]
    },
    {
      "cell_type": "code",
      "source": [
        "test.rename(columns = {'ID': 'Id'}, inplace = True)"
      ],
      "metadata": {
        "id": "rJZhbuUrFsOQ"
      },
      "execution_count": 117,
      "outputs": []
    },
    {
      "cell_type": "markdown",
      "source": [
        "## 데이터 확인\n"
      ],
      "metadata": {
        "id": "HAU0Sj4E0pIX"
      }
    },
    {
      "cell_type": "code",
      "source": [
        "# train.profile_report()"
      ],
      "metadata": {
        "id": "MXQ3YiEximcn"
      },
      "execution_count": 7,
      "outputs": []
    },
    {
      "cell_type": "code",
      "source": [
        "train.head().T"
      ],
      "metadata": {
        "id": "IjRsf_8TDJXV",
        "outputId": "08b1a9a9-b864-4753-fa42-79ddae053247",
        "colab": {
          "base_uri": "https://localhost:8080/",
          "height": 457
        }
      },
      "execution_count": 8,
      "outputs": [
        {
          "output_type": "execute_result",
          "data": {
            "text/html": [
              "\n",
              "  <div id=\"df-46fa37cd-14a7-4964-b251-93297cf3f460\">\n",
              "    <div class=\"colab-df-container\">\n",
              "      <div>\n",
              "<style scoped>\n",
              "    .dataframe tbody tr th:only-of-type {\n",
              "        vertical-align: middle;\n",
              "    }\n",
              "\n",
              "    .dataframe tbody tr th {\n",
              "        vertical-align: top;\n",
              "    }\n",
              "\n",
              "    .dataframe thead th {\n",
              "        text-align: right;\n",
              "    }\n",
              "</style>\n",
              "<table border=\"1\" class=\"dataframe\">\n",
              "  <thead>\n",
              "    <tr style=\"text-align: right;\">\n",
              "      <th></th>\n",
              "      <th>13714</th>\n",
              "      <th>51718</th>\n",
              "      <th>99982</th>\n",
              "      <th>107150</th>\n",
              "      <th>94564</th>\n",
              "    </tr>\n",
              "  </thead>\n",
              "  <tbody>\n",
              "    <tr>\n",
              "      <th>Id</th>\n",
              "      <td>13715</td>\n",
              "      <td>51719</td>\n",
              "      <td>99983</td>\n",
              "      <td>107151</td>\n",
              "      <td>94565</td>\n",
              "    </tr>\n",
              "    <tr>\n",
              "      <th>Income</th>\n",
              "      <td>8132252</td>\n",
              "      <td>7915651</td>\n",
              "      <td>6272029</td>\n",
              "      <td>1832125</td>\n",
              "      <td>7954133</td>\n",
              "    </tr>\n",
              "    <tr>\n",
              "      <th>Age</th>\n",
              "      <td>72</td>\n",
              "      <td>64</td>\n",
              "      <td>49</td>\n",
              "      <td>54</td>\n",
              "      <td>31</td>\n",
              "    </tr>\n",
              "    <tr>\n",
              "      <th>Experience</th>\n",
              "      <td>7</td>\n",
              "      <td>8</td>\n",
              "      <td>12</td>\n",
              "      <td>13</td>\n",
              "      <td>7</td>\n",
              "    </tr>\n",
              "    <tr>\n",
              "      <th>Married/Single</th>\n",
              "      <td>single</td>\n",
              "      <td>single</td>\n",
              "      <td>single</td>\n",
              "      <td>single</td>\n",
              "      <td>single</td>\n",
              "    </tr>\n",
              "    <tr>\n",
              "      <th>House_Ownership</th>\n",
              "      <td>rented</td>\n",
              "      <td>rented</td>\n",
              "      <td>rented</td>\n",
              "      <td>rented</td>\n",
              "      <td>rented</td>\n",
              "    </tr>\n",
              "    <tr>\n",
              "      <th>Car_Ownership</th>\n",
              "      <td>no</td>\n",
              "      <td>no</td>\n",
              "      <td>no</td>\n",
              "      <td>yes</td>\n",
              "      <td>yes</td>\n",
              "    </tr>\n",
              "    <tr>\n",
              "      <th>Profession</th>\n",
              "      <td>Mechanical_engineer</td>\n",
              "      <td>Psychologist</td>\n",
              "      <td>Drafter</td>\n",
              "      <td>Scientist</td>\n",
              "      <td>Drafter</td>\n",
              "    </tr>\n",
              "    <tr>\n",
              "      <th>CITY</th>\n",
              "      <td>Karaikudi</td>\n",
              "      <td>Jamnagar</td>\n",
              "      <td>Sagar</td>\n",
              "      <td>Vijayanagaram</td>\n",
              "      <td>Avadi</td>\n",
              "    </tr>\n",
              "    <tr>\n",
              "      <th>STATE</th>\n",
              "      <td>Tamil_Nadu</td>\n",
              "      <td>Gujarat</td>\n",
              "      <td>Madhya_Pradesh</td>\n",
              "      <td>Andhra_Pradesh</td>\n",
              "      <td>Tamil_Nadu</td>\n",
              "    </tr>\n",
              "    <tr>\n",
              "      <th>CURRENT_JOB_YRS</th>\n",
              "      <td>6</td>\n",
              "      <td>3</td>\n",
              "      <td>7</td>\n",
              "      <td>12</td>\n",
              "      <td>4</td>\n",
              "    </tr>\n",
              "    <tr>\n",
              "      <th>CURRENT_HOUSE_YRS</th>\n",
              "      <td>13</td>\n",
              "      <td>12</td>\n",
              "      <td>10</td>\n",
              "      <td>14</td>\n",
              "      <td>12</td>\n",
              "    </tr>\n",
              "    <tr>\n",
              "      <th>Risk_Flag</th>\n",
              "      <td>0</td>\n",
              "      <td>0</td>\n",
              "      <td>0</td>\n",
              "      <td>0</td>\n",
              "      <td>0</td>\n",
              "    </tr>\n",
              "  </tbody>\n",
              "</table>\n",
              "</div>\n",
              "      <button class=\"colab-df-convert\" onclick=\"convertToInteractive('df-46fa37cd-14a7-4964-b251-93297cf3f460')\"\n",
              "              title=\"Convert this dataframe to an interactive table.\"\n",
              "              style=\"display:none;\">\n",
              "        \n",
              "  <svg xmlns=\"http://www.w3.org/2000/svg\" height=\"24px\"viewBox=\"0 0 24 24\"\n",
              "       width=\"24px\">\n",
              "    <path d=\"M0 0h24v24H0V0z\" fill=\"none\"/>\n",
              "    <path d=\"M18.56 5.44l.94 2.06.94-2.06 2.06-.94-2.06-.94-.94-2.06-.94 2.06-2.06.94zm-11 1L8.5 8.5l.94-2.06 2.06-.94-2.06-.94L8.5 2.5l-.94 2.06-2.06.94zm10 10l.94 2.06.94-2.06 2.06-.94-2.06-.94-.94-2.06-.94 2.06-2.06.94z\"/><path d=\"M17.41 7.96l-1.37-1.37c-.4-.4-.92-.59-1.43-.59-.52 0-1.04.2-1.43.59L10.3 9.45l-7.72 7.72c-.78.78-.78 2.05 0 2.83L4 21.41c.39.39.9.59 1.41.59.51 0 1.02-.2 1.41-.59l7.78-7.78 2.81-2.81c.8-.78.8-2.07 0-2.86zM5.41 20L4 18.59l7.72-7.72 1.47 1.35L5.41 20z\"/>\n",
              "  </svg>\n",
              "      </button>\n",
              "      \n",
              "  <style>\n",
              "    .colab-df-container {\n",
              "      display:flex;\n",
              "      flex-wrap:wrap;\n",
              "      gap: 12px;\n",
              "    }\n",
              "\n",
              "    .colab-df-convert {\n",
              "      background-color: #E8F0FE;\n",
              "      border: none;\n",
              "      border-radius: 50%;\n",
              "      cursor: pointer;\n",
              "      display: none;\n",
              "      fill: #1967D2;\n",
              "      height: 32px;\n",
              "      padding: 0 0 0 0;\n",
              "      width: 32px;\n",
              "    }\n",
              "\n",
              "    .colab-df-convert:hover {\n",
              "      background-color: #E2EBFA;\n",
              "      box-shadow: 0px 1px 2px rgba(60, 64, 67, 0.3), 0px 1px 3px 1px rgba(60, 64, 67, 0.15);\n",
              "      fill: #174EA6;\n",
              "    }\n",
              "\n",
              "    [theme=dark] .colab-df-convert {\n",
              "      background-color: #3B4455;\n",
              "      fill: #D2E3FC;\n",
              "    }\n",
              "\n",
              "    [theme=dark] .colab-df-convert:hover {\n",
              "      background-color: #434B5C;\n",
              "      box-shadow: 0px 1px 3px 1px rgba(0, 0, 0, 0.15);\n",
              "      filter: drop-shadow(0px 1px 2px rgba(0, 0, 0, 0.3));\n",
              "      fill: #FFFFFF;\n",
              "    }\n",
              "  </style>\n",
              "\n",
              "      <script>\n",
              "        const buttonEl =\n",
              "          document.querySelector('#df-46fa37cd-14a7-4964-b251-93297cf3f460 button.colab-df-convert');\n",
              "        buttonEl.style.display =\n",
              "          google.colab.kernel.accessAllowed ? 'block' : 'none';\n",
              "\n",
              "        async function convertToInteractive(key) {\n",
              "          const element = document.querySelector('#df-46fa37cd-14a7-4964-b251-93297cf3f460');\n",
              "          const dataTable =\n",
              "            await google.colab.kernel.invokeFunction('convertToInteractive',\n",
              "                                                     [key], {});\n",
              "          if (!dataTable) return;\n",
              "\n",
              "          const docLinkHtml = 'Like what you see? Visit the ' +\n",
              "            '<a target=\"_blank\" href=https://colab.research.google.com/notebooks/data_table.ipynb>data table notebook</a>'\n",
              "            + ' to learn more about interactive tables.';\n",
              "          element.innerHTML = '';\n",
              "          dataTable['output_type'] = 'display_data';\n",
              "          await google.colab.output.renderOutput(dataTable, element);\n",
              "          const docLink = document.createElement('div');\n",
              "          docLink.innerHTML = docLinkHtml;\n",
              "          element.appendChild(docLink);\n",
              "        }\n",
              "      </script>\n",
              "    </div>\n",
              "  </div>\n",
              "  "
            ],
            "text/plain": [
              "                                 13714  ...       94564\n",
              "Id                               13715  ...       94565\n",
              "Income                         8132252  ...     7954133\n",
              "Age                                 72  ...          31\n",
              "Experience                           7  ...           7\n",
              "Married/Single                  single  ...      single\n",
              "House_Ownership                 rented  ...      rented\n",
              "Car_Ownership                       no  ...         yes\n",
              "Profession         Mechanical_engineer  ...     Drafter\n",
              "CITY                         Karaikudi  ...       Avadi\n",
              "STATE                       Tamil_Nadu  ...  Tamil_Nadu\n",
              "CURRENT_JOB_YRS                      6  ...           4\n",
              "CURRENT_HOUSE_YRS                   13  ...          12\n",
              "Risk_Flag                            0  ...           0\n",
              "\n",
              "[13 rows x 5 columns]"
            ]
          },
          "metadata": {},
          "execution_count": 8
        }
      ]
    },
    {
      "cell_type": "code",
      "source": [
        "%matplotlib inline\n",
        "\n",
        "ax = sns.set_palette('muted')\n",
        "ax = sns.countplot(data = train, x = target)\n",
        "\n",
        "plt.show()\n",
        "\n",
        "# 0 -> 1로 바꿔주기\n",
        "# 0: 대출 가능, 1: 대출 불가능 "
      ],
      "metadata": {
        "colab": {
          "base_uri": "https://localhost:8080/",
          "height": 280
        },
        "id": "s2msobIt3Cij",
        "outputId": "5a0e8376-f923-4096-a7e3-9b6edfc8ef3e"
      },
      "execution_count": 9,
      "outputs": [
        {
          "output_type": "display_data",
          "data": {
            "image/png": "[encoded data removed]",
            "text/plain": [
              "<Figure size 432x288 with 1 Axes>"
            ]
          },
          "metadata": {
            "needs_background": "light"
          }
        }
      ]
    },
    {
      "cell_type": "code",
      "source": [
        "# STATE 탐색\n",
        "\n",
        "plt.figure(figsize=(25,7))\n",
        "ax = sns.countplot(data = train, x = 'STATE')\n",
        "plt.show()"
      ],
      "metadata": {
        "colab": {
          "base_uri": "https://localhost:8080/",
          "height": 430
        },
        "id": "LYZf8E0442GA",
        "outputId": "8b5fe55e-a676-42eb-a8db-30e518a7036c"
      },
      "execution_count": 10,
      "outputs": [
        {
          "output_type": "display_data",
          "data": {
            "image/png": "[encoded data removed]",
            "text/plain": [
              "<Figure size 1800x504 with 1 Axes>"
            ]
          },
          "metadata": {
            "needs_background": "light"
          }
        }
      ]
    },
    {
      "cell_type": "code",
      "source": [
        "# Experience 탐색\n",
        "\n",
        "plt.figure(figsize=(10,5))\n",
        "ax = sns.countplot(data = train, x = 'Experience')\n",
        "plt.show()"
      ],
      "metadata": {
        "colab": {
          "base_uri": "https://localhost:8080/",
          "height": 334
        },
        "id": "HpeluvDK7WGM",
        "outputId": "1a830a25-eb9b-41ad-a662-0d545f35a0d4"
      },
      "execution_count": 11,
      "outputs": [
        {
          "output_type": "display_data",
          "data": {
            "image/png": "[encoded data removed]",
            "text/plain": [
              "<Figure size 720x360 with 1 Axes>"
            ]
          },
          "metadata": {
            "needs_background": "light"
          }
        }
      ]
    },
    {
      "cell_type": "code",
      "source": [
        "# Profession 탐색\n",
        "\n",
        "plt.figure(figsize=(25, 7))\n",
        "ax = sns.countplot(data = train, x = 'Profession')\n",
        "plt.show()"
      ],
      "metadata": {
        "colab": {
          "base_uri": "https://localhost:8080/",
          "height": 430
        },
        "id": "vAO6LOiL7kCR",
        "outputId": "d1c92856-a23e-4235-cfe7-9f28cd977221"
      },
      "execution_count": 12,
      "outputs": [
        {
          "output_type": "display_data",
          "data": {
            "image/png": "[encoded data removed]",
            "text/plain": [
              "<Figure size 1800x504 with 1 Axes>"
            ]
          },
          "metadata": {
            "needs_background": "light"
          }
        }
      ]
    },
    {
      "cell_type": "code",
      "source": [
        "train.Profession.unique()"
      ],
      "metadata": {
        "id": "h6InhBA1bfsk",
        "outputId": "bcdff4d5-bb6b-4cd2-ba18-6bfb9bf193a2",
        "colab": {
          "base_uri": "https://localhost:8080/"
        }
      },
      "execution_count": 13,
      "outputs": [
        {
          "output_type": "execute_result",
          "data": {
            "text/plain": [
              "array(['Mechanical_engineer', 'Psychologist', 'Drafter', 'Scientist',\n",
              "       'Dentist', 'Chemical_engineer', 'Computer_hardware_engineer',\n",
              "       'Microbiologist', 'Petroleum_Engineer', 'Engineer', 'Economist',\n",
              "       'Financial_Analyst', 'Magistrate', 'Official', 'Chef', 'Surveyor',\n",
              "       'Analyst', 'Biomedical_Engineer', 'Artist', 'Aviator',\n",
              "       'Technician', 'Politician', 'Lawyer', 'Surgeon', 'Architect',\n",
              "       'Secretary', 'Designer', 'Software_Developer', 'Comedian',\n",
              "       'Statistician', 'Industrial_Engineer', 'Web_designer',\n",
              "       'Civil_servant', 'Army_officer', 'Hotel_Manager', 'Librarian',\n",
              "       'Physician', 'Air_traffic_controller', 'Computer_operator',\n",
              "       'Civil_engineer', 'Police_officer', 'Technical_writer',\n",
              "       'Chartered_Accountant', 'Fashion_Designer', 'Flight_attendant',\n",
              "       'Design_Engineer', 'Geologist', 'Graphic_Designer',\n",
              "       'Technology_specialist', 'Consultant', 'Firefighter'], dtype=object)"
            ]
          },
          "metadata": {},
          "execution_count": 13
        }
      ]
    },
    {
      "cell_type": "code",
      "source": [
        "train.STATE.unique()"
      ],
      "metadata": {
        "id": "UUM19o29byUH",
        "outputId": "967a527b-9eeb-4075-a725-61848c872b09",
        "colab": {
          "base_uri": "https://localhost:8080/"
        }
      },
      "execution_count": 14,
      "outputs": [
        {
          "output_type": "execute_result",
          "data": {
            "text/plain": [
              "array(['Tamil_Nadu', 'Gujarat', 'Madhya_Pradesh', 'Andhra_Pradesh',\n",
              "       'Bihar', 'West_Bengal', 'Karnataka', 'Odisha', 'Maharashtra',\n",
              "       'Jharkhand', 'Uttarakhand', 'Delhi', 'Uttar_Pradesh',\n",
              "       'Jammu_and_Kashmir', 'Chhattisgarh', 'Rajasthan', 'Assam',\n",
              "       'Punjab', 'Telangana', 'Manipur', 'Kerala', 'Haryana',\n",
              "       'Chandigarh', 'Puducherry', 'Uttar_Pradesh[5]', 'Tripura',\n",
              "       'Mizoram', 'Himachal_Pradesh', 'Sikkim'], dtype=object)"
            ]
          },
          "metadata": {},
          "execution_count": 14
        }
      ]
    },
    {
      "cell_type": "code",
      "source": [
        "train.CITY.unique()"
      ],
      "metadata": {
        "id": "oF1pKRX0b3qK",
        "outputId": "688082c9-bebf-4c96-82e3-517a59219c8e",
        "colab": {
          "base_uri": "https://localhost:8080/"
        }
      },
      "execution_count": 15,
      "outputs": [
        {
          "output_type": "execute_result",
          "data": {
            "text/plain": [
              "array(['Karaikudi', 'Jamnagar', 'Sagar', 'Vijayanagaram', 'Avadi',\n",
              "       'Hajipur[31]', 'Raiganj', 'Surendranagar_Dudhrej', 'Bangalore',\n",
              "       'Raurkela_Industrial_Township', 'Kolhapur', 'Vasai-Virar',\n",
              "       'Deoghar', 'Rajpur_Sonarpur', 'Haridwar', 'Satna',\n",
              "       'Kirari_Suleman_Nagar', 'Firozabad', 'Jabalpur', 'Junagadh',\n",
              "       'Srinagar', 'Chittoor[28]', 'Vadodara', 'Ramgarh', 'Thanjavur',\n",
              "       'Bhilai', 'Sambalpur', 'Khandwa', 'Bardhaman', 'Pali', 'Jorhat',\n",
              "       'Kanpur', 'Jhansi', 'Amritsar', 'Bidhannagar', 'South_Dumdum',\n",
              "       'Nizamabad', 'Siwan[32]', 'Mau', 'Imphal', 'Bhusawal', 'Ahmedabad',\n",
              "       'Pimpri-Chinchwad', 'Mumbai', 'New_Delhi', 'Thiruvananthapuram',\n",
              "       'Bellary', 'Hapur', 'Ichalkaranji', 'Panihati', 'Kishanganj[35]',\n",
              "       'Barasat', 'Medininagar', 'Begusarai', 'Unnao', 'Bikaner', 'Malda',\n",
              "       'Bhalswa_Jahangir_Pur', 'Sonipat', 'Chandigarh_city', 'Surat',\n",
              "       'Mahbubnagar', 'Pudukkottai', 'Hindupur', 'Bhiwandi', 'Ambarnath',\n",
              "       'Anand', 'Danapur', 'Kochi', 'Thrissur', 'Gulbarga', 'Kharagpur',\n",
              "       'Burhanpur', 'Jalandhar', 'Hazaribagh', 'Delhi_city', 'Rohtak',\n",
              "       'Nagpur', 'Ozhukarai', 'Alwar', 'Dindigul', 'Allahabad',\n",
              "       'Agartala', 'Bhopal', 'Baranagar', 'Jalna', 'Malegaon',\n",
              "       'Chandrapur', 'Karnal', 'Guwahati', 'Aizawl', 'Sambhal',\n",
              "       'Gopalpur', 'Patiala', 'Chennai', 'Davanagere', 'Shimoga',\n",
              "       'Kumbakonam', 'Patna', 'Bahraich', 'Nagercoil', 'Rampur',\n",
              "       'Bilaspur', 'Noida', 'Bulandshahr', 'Kurnool[18]', 'Sirsa',\n",
              "       'Maheshtala', 'Rajkot', 'Ballia', 'Bhimavaram', 'Bhiwani',\n",
              "       'Mysore[7][8][9]', 'Udupi', 'Ahmednagar', 'Mangalore', 'Proddatur',\n",
              "       'Jehanabad[38]', 'Coimbatore', 'Anantapur', 'Tiruvottiyur',\n",
              "       'Mathura', 'Thoothukudi', 'Chapra', 'Gorakhpur', 'Muzaffarnagar',\n",
              "       'Panchkula', 'Suryapet', 'Phusro', 'Faridabad', 'Madanapalle',\n",
              "       'Navi_Mumbai', 'Muzaffarpur', 'Tiruppur', 'Bihar_Sharif', 'Dewas',\n",
              "       'Kollam', 'Kalyan-Dombivli', 'Kadapa[23]', 'Machilipatnam',\n",
              "       'Bathinda', 'Lucknow', 'Raebareli', 'Secunderabad', 'Panvel',\n",
              "       'Tirupati[21][22]', 'Bhavnagar', 'Phagwara', 'Bijapur',\n",
              "       'Serampore', 'Shimla', 'Uluberia', 'Rourkela', 'Gaya',\n",
              "       'Visakhapatnam[4]', 'Farrukhabad', 'Kulti', 'Bongaigaon', 'Dhule',\n",
              "       'Erode[17]', 'Jammu[16]', 'Saharsa[29]', 'Bhilwara', 'Latur',\n",
              "       'Kottayam', 'Khammam', 'Solapur', 'Dibrugarh', 'Amroha', 'Madurai',\n",
              "       'Pallavaram', 'Mehsana', 'Darbhanga', 'Adoni', 'Meerut', 'Loni',\n",
              "       'Gudivada', 'Khora,_Ghaziabad', 'Haldia', 'Guna', 'Dehradun',\n",
              "       'Fatehpur', 'Tumkur', 'Agra', 'Rajahmundry[19][20]', 'Gandhinagar',\n",
              "       'Vellore', 'Aurangabad[39]', 'Tirunelveli', 'Motihari[34]',\n",
              "       'Nashik', 'Jaipur', 'Hospet', 'Eluru[25]', 'Buxar[37]', 'Naihati',\n",
              "       'Indore', 'Ulhasnagar', 'Korba', 'Saharanpur', 'Sasaram[30]',\n",
              "       'Raipur', 'Bharatpur', 'Alappuzha', 'Nagaon', 'Jalgaon',\n",
              "       'Ghaziabad', 'Dehri[30]', 'Singrauli', 'Raichur',\n",
              "       'Anantapuram[24]', 'Ajmer', 'Vijayawada', 'Udaipur', 'Nandyal',\n",
              "       'Bally', 'Mira-Bhayandar', 'Orai', 'Yamunanagar', 'Jodhpur',\n",
              "       'Kavali', 'Jaunpur', 'Arrah', 'Nanded', 'Giridih', 'Panipat',\n",
              "       'Hubliâ€“Dharwad', 'Morbi', 'Thane', 'Sri_Ganganagar',\n",
              "       'Sultan_Pur_Majra', 'Bidar', 'Amaravati', 'Berhampore', 'Ujjain',\n",
              "       'Silchar', 'Parbhani', 'Jamshedpur', 'Howrah', 'Hosur',\n",
              "       'Chinsurah', 'Shahjahanpur', 'Belgaum', 'Cuttack', 'Munger',\n",
              "       'Tezpur', 'Ambala', 'Kolkata', 'Guntur[13]', 'Katihar',\n",
              "       'North_Dumdum', 'Tinsukia', 'Pune', 'Karawal_Nagar', 'Aligarh',\n",
              "       'Gwalior', 'Kozhikode', 'Kamarhati', 'Bhind', 'Moradabad', 'Akola',\n",
              "       'Bareilly', 'Tadepalligudem', 'Bettiah[33]', 'Ambattur', 'Satara',\n",
              "       'Srikakulam', 'Gandhidham', 'Gurgaon', 'Ramagundam[27]', 'Ongole',\n",
              "       'Bhagalpur', 'Durgapur', 'Shivpuri', 'Amravati', 'Tenali',\n",
              "       'Sangli-Miraj_&_Kupwad', 'Ratlam', 'Varanasi', 'Dhanbad',\n",
              "       'Bhatpara', 'Jamalpur[36]', 'Warangal[11][12]', 'Kota[6]',\n",
              "       'Kakinada', 'Tadipatri', 'Sikar', 'Gangtok', 'Tiruchirappalli[10]',\n",
              "       'Narasaraopet', 'Hyderabad', 'Morena', 'Mirzapur', 'Siliguri',\n",
              "       'Ludhiana', 'Rewa', 'Bokaro', 'Katni', 'Nangloi_Jat',\n",
              "       'Dharmavaram', 'Nadiad', 'Durg', 'Guntakal', 'Karimnagar',\n",
              "       'Aurangabad', 'Bhubaneswar', 'Etawah', 'Purnia[26]', 'Pondicherry',\n",
              "       'Madhyamgram', 'Nellore[14][15]', 'Salem', 'Ranchi', 'Asansol',\n",
              "       'Mango', 'Miryalaguda', 'Berhampur'], dtype=object)"
            ]
          },
          "metadata": {},
          "execution_count": 15
        }
      ]
    },
    {
      "cell_type": "code",
      "source": [
        "house = train.House_Ownership.value_counts()\n",
        "car = train.Car_Ownership.value_counts()\n",
        "marr_sin = train['Married/Single'].value_counts()\n",
        "\n",
        "# 색상 지정\n",
        "pink = ['#F198AF', '#9F81CD', '#EF6D6D']\n",
        "green = ['#65C18C', '#C1F4C5']\n",
        "yellow = ['#FFCC00', '#FFEE00', '#FFFF66', '#FFF18D']"
      ],
      "metadata": {
        "id": "o13j_a6CzW0Z"
      },
      "execution_count": 46,
      "outputs": []
    },
    {
      "cell_type": "code",
      "source": [
        "plt.figure(figsize = (25, 5))\n",
        "plt.subplot(1, 3, 1)\n",
        "plt.bar(house.index, house.values, color = pink)\n",
        "plt.title('House_Ownership')\n",
        "\n",
        "plt.subplot(1, 3, 2)\n",
        "plt.bar(car.index, car.values, color = yellow)\n",
        "plt.title('Car_Ownership')\n",
        "\n",
        "plt.subplot(1, 3, 3)\n",
        "plt.bar(marr_sin.index, marr_sin.values, color = green)\n",
        "plt.title('Married/Single')\n",
        "\n",
        "plt.show();"
      ],
      "metadata": {
        "id": "rxatipBPcs3c",
        "outputId": "e33f8d0c-07bf-405e-94f4-7b35b2fc39bb",
        "colab": {
          "base_uri": "https://localhost:8080/",
          "height": 327
        }
      },
      "execution_count": 47,
      "outputs": [
        {
          "output_type": "display_data",
          "data": {
            "image/png": "[encoded data removed]",
            "text/plain": [
              "<Figure size 1800x360 with 3 Axes>"
            ]
          },
          "metadata": {
            "needs_background": "light"
          }
        }
      ]
    },
    {
      "cell_type": "markdown",
      "source": [
        "## 데이터 전처리"
      ],
      "metadata": {
        "id": "bWhqPaJTcxXD"
      }
    },
    {
      "cell_type": "code",
      "source": [
        "# 지역 분류\n",
        "north_state = ['West_Bengal', 'Bihar', 'Assam', 'Uttarakhand', 'Uttar_Paradesh', 'Uttar_Pradesh[5]',\n",
        "               'Jammu_and_Kashmir', 'Rajasthan', 'Gujarat', 'Punjab', 'Manipur', \n",
        "                'Haryana', 'Sikkim', 'Mizoram', 'Madhya_Pradesh', 'Tripura',\n",
        "               'Jharkhand', 'Chandigarh', 'Himachal_Pradesh']\n",
        "south_state = ['Karnataka', 'Tamil_Nadu', 'Kerala', 'Andhra_Pradesh', 'Telangana', \n",
        "               'Maharashtra', 'Chhattisgarh', 'Odisha', 'Puducherry']"
      ],
      "metadata": {
        "id": "N5D9zQncc37o"
      },
      "execution_count": 76,
      "outputs": []
    },
    {
      "cell_type": "code",
      "source": [
        "# 직업 분류\n",
        "natural_sciences = ['Mechanical_engineer', 'Psychologist', 'Scientist', 'Dentist', 'Chemical_engineer',\n",
        "                    'Engineer', 'Petroleum_Engineer', 'Drafter', 'Microbiologist', 'Biomedical_Engineer',\n",
        "                    'Aviator', 'Technician', 'Surgeon', 'Architect', 'Software_Developer', \n",
        "                    'Industrial_Engineer', 'Web_designer', 'Physician', 'Air_traffic_controller',\n",
        "                    'Computer_operator', 'Civil_engineer', 'Geologist', 'Computer_hardware_engineer',\n",
        "                    'Technology_specialist']\n",
        "liberal_arts = ['Economist', 'Financial_Analyst', 'Magistrate', 'Official', 'Chef', 'Surveyor',\n",
        "                'Analyst', 'Artist', 'Politician', 'Lawyer', 'Secretary', 'Designer', 'Comedian',\n",
        "                'Statistician', 'Police_officer', 'Technical_writer', 'Chartered_Accountant',\n",
        "                'Fashion_Designer', 'Graphic_Designer', 'Consultant', 'Firefighter', 'Flight_attendant',\n",
        "                'Design_Engineer', 'Army_officer', 'Civil_servant', 'Hotel_Manager', 'Librarian']\n",
        "\n",
        "len(natural_sciences), len(liberal_arts)"
      ],
      "metadata": {
        "colab": {
          "base_uri": "https://localhost:8080/"
        },
        "id": "ocPedeMjmXlO",
        "outputId": "b4093540-577a-49f4-f6c1-fcefa5bb5301"
      },
      "execution_count": 77,
      "outputs": [
        {
          "output_type": "execute_result",
          "data": {
            "text/plain": [
              "(24, 27)"
            ]
          },
          "metadata": {},
          "execution_count": 77
        }
      ]
    },
    {
      "cell_type": "code",
      "source": [
        "not_own = ['rented', 'norent_noown']"
      ],
      "metadata": {
        "id": "YHh-Vck8Y34i"
      },
      "execution_count": 78,
      "outputs": []
    },
    {
      "cell_type": "code",
      "source": [
        "train2 = train.copy()"
      ],
      "metadata": {
        "id": "zyVcBPAQZDUB"
      },
      "execution_count": 79,
      "outputs": []
    },
    {
      "cell_type": "code",
      "source": [
        "def age(age):\n",
        "  if age > 60:\n",
        "    return 'over 60s'\n",
        "  elif age >= 40:\n",
        "    return '4-50s'\n",
        "  elif age >= 30:\n",
        "    return '30s'\n",
        "  else:\n",
        "    return 'under 30s'\n",
        "\n",
        "def region(state):\n",
        "  if state in north_state:\n",
        "    return 'North Area'\n",
        "  elif state in south_state:\n",
        "    return 'South Area'\n",
        "  elif state == 'Delhi':\n",
        "    return 'Capital'\n",
        "\n",
        "def exp(exp):\n",
        "  if exp <= 2:\n",
        "    return 'Entry'\n",
        "  elif exp <= 5:\n",
        "    return 'Intermediate'\n",
        "  elif exp <= 10:\n",
        "    return 'Mid'\n",
        "  else:\n",
        "    return 'Senior'\n",
        "\n",
        "\n",
        "def job_year(year):\n",
        "  if year < 5:\n",
        "    return 1\n",
        "  elif year <= 10:\n",
        "    return 2\n",
        "  else:\n",
        "    return 3\n",
        "\n",
        "def house(h):\n",
        "  if h in not_own:\n",
        "    return 'not owned'\n",
        "  else:\n",
        "    return h\n",
        "\n",
        "def prof(prof):\n",
        "  if prof in natural_sciences:\n",
        "    return 'Natural Sciences'\n",
        "  elif prof in liberal_arts:\n",
        "    return 'Liberal Arts'\n",
        "  else:\n",
        "    return 'No Info'"
      ],
      "metadata": {
        "id": "f-H229G9Blze"
      },
      "execution_count": 118,
      "outputs": []
    },
    {
      "cell_type": "code",
      "source": [
        "def feature(df):\n",
        "  cols = ['Id', 'CITY']\n",
        "\n",
        "  df.drop(columns = cols, inplace = True)\n",
        "  df.reset_index(drop = True, inplace = True)\n",
        "\n",
        "  if 'Risk_Flag' in df.columns:\n",
        "    df.Risk_Flag = df.Risk_Flag.apply(lambda x: 1 if x == 0 else 0)\n",
        "\n",
        "  df.Age = df.Age.apply(age)\n",
        "  df.CURRENT_JOB_YRS = df.CURRENT_JOB_YRS.apply(job_year)\n",
        "  df.STATE = df.STATE.apply(region)\n",
        "  df.Experience = df.Experience.apply(exp)\n",
        "  df.House_Ownership = df.House_Ownership.apply(house)\n",
        "  df.Profession = df.Profession.apply(prof)\n",
        "\n",
        "  return df"
      ],
      "metadata": {
        "id": "dclmKc7xDCm2"
      },
      "execution_count": 119,
      "outputs": []
    },
    {
      "cell_type": "code",
      "source": [
        "train = feature(train)\n",
        "val = feature(val)\n",
        "test = feature(test)"
      ],
      "metadata": {
        "id": "H6uk7Xz2FXn_"
      },
      "execution_count": 120,
      "outputs": []
    },
    {
      "cell_type": "code",
      "source": [
        "train.head().T"
      ],
      "metadata": {
        "id": "-vqkLmw1GCoK",
        "outputId": "e8950a21-f256-4490-a6e9-089fde09a13a",
        "colab": {
          "base_uri": "https://localhost:8080/",
          "height": 394
        }
      },
      "execution_count": 121,
      "outputs": [
        {
          "output_type": "execute_result",
          "data": {
            "text/html": [
              "\n",
              "  <div id=\"df-3c73dcad-25e1-422c-8c0b-8f6080706095\">\n",
              "    <div class=\"colab-df-container\">\n",
              "      <div>\n",
              "<style scoped>\n",
              "    .dataframe tbody tr th:only-of-type {\n",
              "        vertical-align: middle;\n",
              "    }\n",
              "\n",
              "    .dataframe tbody tr th {\n",
              "        vertical-align: top;\n",
              "    }\n",
              "\n",
              "    .dataframe thead th {\n",
              "        text-align: right;\n",
              "    }\n",
              "</style>\n",
              "<table border=\"1\" class=\"dataframe\">\n",
              "  <thead>\n",
              "    <tr style=\"text-align: right;\">\n",
              "      <th></th>\n",
              "      <th>0</th>\n",
              "      <th>1</th>\n",
              "      <th>2</th>\n",
              "      <th>3</th>\n",
              "      <th>4</th>\n",
              "    </tr>\n",
              "  </thead>\n",
              "  <tbody>\n",
              "    <tr>\n",
              "      <th>Income</th>\n",
              "      <td>8132252</td>\n",
              "      <td>7915651</td>\n",
              "      <td>6272029</td>\n",
              "      <td>1832125</td>\n",
              "      <td>7954133</td>\n",
              "    </tr>\n",
              "    <tr>\n",
              "      <th>Age</th>\n",
              "      <td>over 60s</td>\n",
              "      <td>over 60s</td>\n",
              "      <td>4-50s</td>\n",
              "      <td>4-50s</td>\n",
              "      <td>30s</td>\n",
              "    </tr>\n",
              "    <tr>\n",
              "      <th>Experience</th>\n",
              "      <td>Mid</td>\n",
              "      <td>Mid</td>\n",
              "      <td>Senior</td>\n",
              "      <td>Senior</td>\n",
              "      <td>Mid</td>\n",
              "    </tr>\n",
              "    <tr>\n",
              "      <th>Married/Single</th>\n",
              "      <td>single</td>\n",
              "      <td>single</td>\n",
              "      <td>single</td>\n",
              "      <td>single</td>\n",
              "      <td>single</td>\n",
              "    </tr>\n",
              "    <tr>\n",
              "      <th>House_Ownership</th>\n",
              "      <td>not owned</td>\n",
              "      <td>not owned</td>\n",
              "      <td>not owned</td>\n",
              "      <td>not owned</td>\n",
              "      <td>not owned</td>\n",
              "    </tr>\n",
              "    <tr>\n",
              "      <th>Car_Ownership</th>\n",
              "      <td>no</td>\n",
              "      <td>no</td>\n",
              "      <td>no</td>\n",
              "      <td>yes</td>\n",
              "      <td>yes</td>\n",
              "    </tr>\n",
              "    <tr>\n",
              "      <th>Profession</th>\n",
              "      <td>Natural Sciences</td>\n",
              "      <td>Natural Sciences</td>\n",
              "      <td>Natural Sciences</td>\n",
              "      <td>Natural Sciences</td>\n",
              "      <td>Natural Sciences</td>\n",
              "    </tr>\n",
              "    <tr>\n",
              "      <th>STATE</th>\n",
              "      <td>South Area</td>\n",
              "      <td>North Area</td>\n",
              "      <td>North Area</td>\n",
              "      <td>South Area</td>\n",
              "      <td>South Area</td>\n",
              "    </tr>\n",
              "    <tr>\n",
              "      <th>CURRENT_JOB_YRS</th>\n",
              "      <td>2</td>\n",
              "      <td>1</td>\n",
              "      <td>2</td>\n",
              "      <td>3</td>\n",
              "      <td>1</td>\n",
              "    </tr>\n",
              "    <tr>\n",
              "      <th>CURRENT_HOUSE_YRS</th>\n",
              "      <td>13</td>\n",
              "      <td>12</td>\n",
              "      <td>10</td>\n",
              "      <td>14</td>\n",
              "      <td>12</td>\n",
              "    </tr>\n",
              "    <tr>\n",
              "      <th>Risk_Flag</th>\n",
              "      <td>1</td>\n",
              "      <td>1</td>\n",
              "      <td>1</td>\n",
              "      <td>1</td>\n",
              "      <td>1</td>\n",
              "    </tr>\n",
              "  </tbody>\n",
              "</table>\n",
              "</div>\n",
              "      <button class=\"colab-df-convert\" onclick=\"convertToInteractive('df-3c73dcad-25e1-422c-8c0b-8f6080706095')\"\n",
              "              title=\"Convert this dataframe to an interactive table.\"\n",
              "              style=\"display:none;\">\n",
              "        \n",
              "  <svg xmlns=\"http://www.w3.org/2000/svg\" height=\"24px\"viewBox=\"0 0 24 24\"\n",
              "       width=\"24px\">\n",
              "    <path d=\"M0 0h24v24H0V0z\" fill=\"none\"/>\n",
              "    <path d=\"M18.56 5.44l.94 2.06.94-2.06 2.06-.94-2.06-.94-.94-2.06-.94 2.06-2.06.94zm-11 1L8.5 8.5l.94-2.06 2.06-.94-2.06-.94L8.5 2.5l-.94 2.06-2.06.94zm10 10l.94 2.06.94-2.06 2.06-.94-2.06-.94-.94-2.06-.94 2.06-2.06.94z\"/><path d=\"M17.41 7.96l-1.37-1.37c-.4-.4-.92-.59-1.43-.59-.52 0-1.04.2-1.43.59L10.3 9.45l-7.72 7.72c-.78.78-.78 2.05 0 2.83L4 21.41c.39.39.9.59 1.41.59.51 0 1.02-.2 1.41-.59l7.78-7.78 2.81-2.81c.8-.78.8-2.07 0-2.86zM5.41 20L4 18.59l7.72-7.72 1.47 1.35L5.41 20z\"/>\n",
              "  </svg>\n",
              "      </button>\n",
              "      \n",
              "  <style>\n",
              "    .colab-df-container {\n",
              "      display:flex;\n",
              "      flex-wrap:wrap;\n",
              "      gap: 12px;\n",
              "    }\n",
              "\n",
              "    .colab-df-convert {\n",
              "      background-color: #E8F0FE;\n",
              "      border: none;\n",
              "      border-radius: 50%;\n",
              "      cursor: pointer;\n",
              "      display: none;\n",
              "      fill: #1967D2;\n",
              "      height: 32px;\n",
              "      padding: 0 0 0 0;\n",
              "      width: 32px;\n",
              "    }\n",
              "\n",
              "    .colab-df-convert:hover {\n",
              "      background-color: #E2EBFA;\n",
              "      box-shadow: 0px 1px 2px rgba(60, 64, 67, 0.3), 0px 1px 3px 1px rgba(60, 64, 67, 0.15);\n",
              "      fill: #174EA6;\n",
              "    }\n",
              "\n",
              "    [theme=dark] .colab-df-convert {\n",
              "      background-color: #3B4455;\n",
              "      fill: #D2E3FC;\n",
              "    }\n",
              "\n",
              "    [theme=dark] .colab-df-convert:hover {\n",
              "      background-color: #434B5C;\n",
              "      box-shadow: 0px 1px 3px 1px rgba(0, 0, 0, 0.15);\n",
              "      filter: drop-shadow(0px 1px 2px rgba(0, 0, 0, 0.3));\n",
              "      fill: #FFFFFF;\n",
              "    }\n",
              "  </style>\n",
              "\n",
              "      <script>\n",
              "        const buttonEl =\n",
              "          document.querySelector('#df-3c73dcad-25e1-422c-8c0b-8f6080706095 button.colab-df-convert');\n",
              "        buttonEl.style.display =\n",
              "          google.colab.kernel.accessAllowed ? 'block' : 'none';\n",
              "\n",
              "        async function convertToInteractive(key) {\n",
              "          const element = document.querySelector('#df-3c73dcad-25e1-422c-8c0b-8f6080706095');\n",
              "          const dataTable =\n",
              "            await google.colab.kernel.invokeFunction('convertToInteractive',\n",
              "                                                     [key], {});\n",
              "          if (!dataTable) return;\n",
              "\n",
              "          const docLinkHtml = 'Like what you see? Visit the ' +\n",
              "            '<a target=\"_blank\" href=https://colab.research.google.com/notebooks/data_table.ipynb>data table notebook</a>'\n",
              "            + ' to learn more about interactive tables.';\n",
              "          element.innerHTML = '';\n",
              "          dataTable['output_type'] = 'display_data';\n",
              "          await google.colab.output.renderOutput(dataTable, element);\n",
              "          const docLink = document.createElement('div');\n",
              "          docLink.innerHTML = docLinkHtml;\n",
              "          element.appendChild(docLink);\n",
              "        }\n",
              "      </script>\n",
              "    </div>\n",
              "  </div>\n",
              "  "
            ],
            "text/plain": [
              "                                  0  ...                 4\n",
              "Income                      8132252  ...           7954133\n",
              "Age                        over 60s  ...               30s\n",
              "Experience                      Mid  ...               Mid\n",
              "Married/Single               single  ...            single\n",
              "House_Ownership           not owned  ...         not owned\n",
              "Car_Ownership                    no  ...               yes\n",
              "Profession         Natural Sciences  ...  Natural Sciences\n",
              "STATE                    South Area  ...        South Area\n",
              "CURRENT_JOB_YRS                   2  ...                 1\n",
              "CURRENT_HOUSE_YRS                13  ...                12\n",
              "Risk_Flag                         1  ...                 1\n",
              "\n",
              "[11 rows x 5 columns]"
            ]
          },
          "metadata": {},
          "execution_count": 121
        }
      ]
    },
    {
      "cell_type": "markdown",
      "source": [
        "#### 데이터 전처리 결과 확인"
      ],
      "metadata": {
        "id": "H2QtEjxUGzXt"
      }
    },
    {
      "cell_type": "code",
      "source": [
        "prof = train.Profession.value_counts()\n",
        "age = train.Age.value_counts()\n",
        "exp = train.Experience.value_counts()\n",
        "houseP = train.House_Ownership.value_counts()\n",
        "region = train.STATE.value_counts()\n",
        "job_yrs = train.CURRENT_JOB_YRS.value_counts()"
      ],
      "metadata": {
        "id": "tX5PnddeGIID"
      },
      "execution_count": 110,
      "outputs": []
    },
    {
      "cell_type": "code",
      "source": [
        "color1 = ['#9ba9ff', '#afb1ff', '#cebeff', '#eccaff']\n",
        "color2 = ['#71a5de', '#abc4ff', '#c1d3fe', '#d7e3fc']\n",
        "color3 = ['#a5eeaa', '#c4f39d', '#e3f790', '#f3f98a']"
      ],
      "metadata": {
        "id": "lBuqTRUIKhVw"
      },
      "execution_count": 111,
      "outputs": []
    },
    {
      "cell_type": "code",
      "source": [
        "plt.figure(figsize = (25, 13))\n",
        "\n",
        "plt.subplot(2, 3, 1)\n",
        "plt.bar(houseP.index, houseP.values, color = color1)\n",
        "plt.title('House_Ownership')\n",
        "\n",
        "plt.subplot(2, 3, 2)\n",
        "plt.bar(age.index, age.values, color = color3)\n",
        "plt.title('Age')\n",
        "\n",
        "plt.subplot(2, 3, 3)\n",
        "plt.bar(exp.index, exp.values, color = color1)\n",
        "plt.title('Experience')\n",
        "\n",
        "plt.subplot(2, 3, 4)\n",
        "plt.bar(prof.index, prof.values, color = color3)\n",
        "plt.title('Profession')\n",
        "\n",
        "plt.subplot(2, 3, 5)\n",
        "plt.bar(region.index, region.values, color = color1)\n",
        "plt.title('State')\n",
        "\n",
        "plt.subplot(2, 3, 6)\n",
        "plt.bar(job_yrs.index, job_yrs.values, color = color3)\n",
        "plt.title('CURRENT JOB YEARS')\n",
        "\n",
        "plt.show()\n"
      ],
      "metadata": {
        "id": "ICuu3RjnGNaW",
        "outputId": "1f47a44c-2bdc-42e6-c812-d08bea288b37",
        "colab": {
          "base_uri": "https://localhost:8080/",
          "height": 613
        }
      },
      "execution_count": 122,
      "outputs": [
        {
          "output_type": "error",
          "ename": "AttributeError",
          "evalue": "ignored",
          "traceback": [
            "\u001b[0;31m---------------------------------------------------------------------------\u001b[0m",
            "\u001b[0;31mAttributeError\u001b[0m                            Traceback (most recent call last)",
            "\u001b[0;32m<ipython-input-122-0eada40ecb7c>\u001b[0m in \u001b[0;36m<module>\u001b[0;34m()\u001b[0m\n\u001b[1;32m      6\u001b[0m \u001b[0;34m\u001b[0m\u001b[0m\n\u001b[1;32m      7\u001b[0m \u001b[0mplt\u001b[0m\u001b[0;34m.\u001b[0m\u001b[0msubplot\u001b[0m\u001b[0;34m(\u001b[0m\u001b[0;36m2\u001b[0m\u001b[0;34m,\u001b[0m \u001b[0;36m3\u001b[0m\u001b[0;34m,\u001b[0m \u001b[0;36m2\u001b[0m\u001b[0;34m)\u001b[0m\u001b[0;34m\u001b[0m\u001b[0;34m\u001b[0m\u001b[0m\n\u001b[0;32m----> 8\u001b[0;31m \u001b[0mplt\u001b[0m\u001b[0;34m.\u001b[0m\u001b[0mbar\u001b[0m\u001b[0;34m(\u001b[0m\u001b[0mage\u001b[0m\u001b[0;34m.\u001b[0m\u001b[0mindex\u001b[0m\u001b[0;34m,\u001b[0m \u001b[0mage\u001b[0m\u001b[0;34m.\u001b[0m\u001b[0mvalues\u001b[0m\u001b[0;34m,\u001b[0m \u001b[0mcolor\u001b[0m \u001b[0;34m=\u001b[0m \u001b[0mcolor3\u001b[0m\u001b[0;34m)\u001b[0m\u001b[0;34m\u001b[0m\u001b[0;34m\u001b[0m\u001b[0m\n\u001b[0m\u001b[1;32m      9\u001b[0m \u001b[0mplt\u001b[0m\u001b[0;34m.\u001b[0m\u001b[0mtitle\u001b[0m\u001b[0;34m(\u001b[0m\u001b[0;34m'Age'\u001b[0m\u001b[0;34m)\u001b[0m\u001b[0;34m\u001b[0m\u001b[0;34m\u001b[0m\u001b[0m\n\u001b[1;32m     10\u001b[0m \u001b[0;34m\u001b[0m\u001b[0m\n",
            "\u001b[0;31mAttributeError\u001b[0m: 'function' object has no attribute 'index'"
          ]
        },
        {
          "output_type": "display_data",
          "data": {
            "image/png": "[encoded data removed]",
            "text/plain": [
              "<Figure size 1800x936 with 2 Axes>"
            ]
          },
          "metadata": {
            "needs_background": "light"
          }
        }
      ]
    },
    {
      "cell_type": "code",
      "source": [
        "train.Risk_Flag.value_counts()"
      ],
      "metadata": {
        "id": "3mF6J0eyZvyz",
        "outputId": "cc6280e3-9030-42f3-f3e2-ab66482c74b0",
        "colab": {
          "base_uri": "https://localhost:8080/"
        }
      },
      "execution_count": 123,
      "outputs": [
        {
          "output_type": "execute_result",
          "data": {
            "text/plain": [
              "1    176803\n",
              "0     24797\n",
              "Name: Risk_Flag, dtype: int64"
            ]
          },
          "metadata": {},
          "execution_count": 123
        }
      ]
    },
    {
      "cell_type": "code",
      "source": [
        "%matplotlib inline\n",
        "\n",
        "ax = sns.set_palette('muted')\n",
        "ax = sns.countplot(data = train, x = target)\n",
        "\n",
        "plt.show()"
      ],
      "metadata": {
        "id": "L_y59pOxYpgi",
        "outputId": "82fd8b08-51c9-4b5f-9678-81ecf50e30d0",
        "colab": {
          "base_uri": "https://localhost:8080/",
          "height": 280
        }
      },
      "execution_count": 124,
      "outputs": [
        {
          "output_type": "display_data",
          "data": {
            "image/png": "[encoded data removed]",
            "text/plain": [
              "<Figure size 432x288 with 1 Axes>"
            ]
          },
          "metadata": {
            "needs_background": "light"
          }
        }
      ]
    },
    {
      "cell_type": "code",
      "source": [
        ""
      ],
      "metadata": {
        "id": "wj3aSgZPZrtS"
      },
      "execution_count": null,
      "outputs": []
    }
  ]
}